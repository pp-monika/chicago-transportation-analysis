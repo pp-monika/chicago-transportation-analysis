{
 "cells": [
  {
   "cell_type": "code",
   "execution_count": 1,
   "id": "a51cd9e2-aa10-449e-ad8c-ea544019005e",
   "metadata": {},
   "outputs": [],
   "source": [
    "bucket = spark._jsc.hadoopConfiguration().get(\"fs.gs.system.bucket\")\n",
    "url = \"gs://\" + bucket + \"/data/chicago-taxi-trip/cleaned-chicago-taxi/\""
   ]
  },
  {
   "cell_type": "code",
   "execution_count": 2,
   "id": "ee780339-7e9c-4dcd-9fdc-4d4d40c9c551",
   "metadata": {},
   "outputs": [],
   "source": [
    "from pyspark.sql.types import (StructType, \n",
    "                               StructField, \n",
    "                               DoubleType,\n",
    "                               IntegerType,\n",
    "                               StringType,\n",
    "                               TimestampType)\n",
    "\n",
    "taxi_schema = StructType([StructField('unique_key', StringType(), True),\n",
    "                StructField('taxi_id', StringType(), True),\n",
    "                StructField('trip_start_timestamp', TimestampType(), True), \n",
    "                StructField('trip_end_timestamp', TimestampType(), True), \n",
    "                StructField('trip_seconds', IntegerType(), True), \n",
    "                StructField('trip_miles', IntegerType(), True), \n",
    "                StructField('pickup_census_tract', StringType(), True), \n",
    "                StructField('dropoff_census_tract', StringType(), True), \n",
    "                StructField('pickup_community_area', IntegerType(), True), \n",
    "                StructField('dropoff_community_area', IntegerType(), True), \n",
    "                StructField('fare', IntegerType(), True), \n",
    "                StructField('tips', IntegerType(), True), \n",
    "                StructField('tolls', IntegerType(), True), \n",
    "                StructField('extras', IntegerType(), True), \n",
    "                StructField('trip_total', IntegerType(), True), \n",
    "                StructField('payment_type', StringType(), True), \n",
    "                StructField('company', StringType(), True), \n",
    "                StructField('pickup_latitude', StringType(), True), \n",
    "                StructField('pickup_longitude', StringType(), True), \n",
    "                StructField('pickup_location', StringType(), True), \n",
    "                StructField('dropoff_latitude', StringType(), True), \n",
    "                StructField('dropoff_longitude', StringType(), True), \n",
    "                StructField('dropoff_location', StringType(), True)])\n",
    "\n",
    "taxi = spark.read.format(\"csv\").option(\"header\", \"true\").schema(taxi_schema).csv(url)"
   ]
  },
  {
   "cell_type": "code",
   "execution_count": 4,
   "id": "b660756c-3d1d-4b85-82c8-6c4d2657e62b",
   "metadata": {},
   "outputs": [
    {
     "name": "stderr",
     "output_type": "stream",
     "text": [
      "[Stage 1:>                                                          (0 + 1) / 1]\r"
     ]
    },
    {
     "name": "stdout",
     "output_type": "stream",
     "text": [
      "+--------------------+--------------------+--------------------+-------------------+------------+----------+-------------------+--------------------+---------------------+----------------------+----+----+-----+------+----------+-------------+--------------------+---------------+----------------+--------------------+----------------+-----------------+----------------+\n",
      "|          unique_key|             taxi_id|trip_start_timestamp| trip_end_timestamp|trip_seconds|trip_miles|pickup_census_tract|dropoff_census_tract|pickup_community_area|dropoff_community_area|fare|tips|tolls|extras|trip_total| payment_type|             company|pickup_latitude|pickup_longitude|     pickup_location|dropoff_latitude|dropoff_longitude|dropoff_location|\n",
      "+--------------------+--------------------+--------------------+-------------------+------------+----------+-------------------+--------------------+---------------------+----------------------+----+----+-----+------+----------+-------------+--------------------+---------------+----------------+--------------------+----------------+-----------------+----------------+\n",
      "|fab9854c1658fa94b...|fb0ce19e30e712c77...| 2021-04-11 15:15:00|2021-04-11 15:30:00|        null|         8|                 28|                null|                    0|                     0|   0|null| null|  null|      null|-87.633308037|POINT (-87.633308...|   41.874005383|    -87.66351755|POINT (-87.663517...|              11|             null|            null|\n",
      "|f5274bb8426501bce...|175a58299af3a8c88...| 2021-04-18 01:00:00|2021-04-18 01:15:00|        null|         8|                 28|                null|                 null|                     0|   1|null| null|  null|      null|-87.633308037|POINT (-87.633308...|   41.874005383|    -87.66351755|POINT (-87.663517...|              16|             null|            null|\n",
      "|eeee3d40ecc76c0d2...|72acb561bc3ff52fe...| 2021-04-05 22:45:00|2021-04-05 23:00:00|        null|         8|                 28|                null|                 null|                     0|   1|null| null|  null|      null|-87.633308037|POINT (-87.633308...|   41.874005383|    -87.66351755|POINT (-87.663517...|              10|             null|            null|\n",
      "|fa294ff40f36a5e72...|f45c4bfa9d6c445eb...| 2021-04-29 20:30:00|2021-04-29 20:45:00|        null|         8|                 28|                   9|                    0|                     0|   0|   9| null|  null|      null|-87.633308037|POINT (-87.633308...|   41.874005383|    -87.66351755|POINT (-87.663517...|              12|             null|            null|\n",
      "|f714fd0ef05f1ff3e...|322630536b6fae633...| 2021-04-11 18:15:00|2021-04-11 18:30:00|        null|         8|                 28|                   9|                    0|                     0|   0|   9| null|  null|      null|-87.633308037|POINT (-87.633308...|   41.874005383|    -87.66351755|POINT (-87.663517...|              12|             null|            null|\n",
      "+--------------------+--------------------+--------------------+-------------------+------------+----------+-------------------+--------------------+---------------------+----------------------+----+----+-----+------+----------+-------------+--------------------+---------------+----------------+--------------------+----------------+-----------------+----------------+\n",
      "only showing top 5 rows\n",
      "\n"
     ]
    },
    {
     "name": "stderr",
     "output_type": "stream",
     "text": [
      "                                                                                \r"
     ]
    }
   ],
   "source": [
    "taxi.show(5)"
   ]
  },
  {
   "cell_type": "code",
   "execution_count": null,
   "id": "8d484292-921b-4330-9abe-60181f6eb5ec",
   "metadata": {},
   "outputs": [],
   "source": []
  }
 ],
 "metadata": {
  "kernelspec": {
   "display_name": "PySpark",
   "language": "python",
   "name": "pyspark"
  },
  "language_info": {
   "codemirror_mode": {
    "name": "ipython",
    "version": 3
   },
   "file_extension": ".py",
   "mimetype": "text/x-python",
   "name": "python",
   "nbconvert_exporter": "python",
   "pygments_lexer": "ipython3",
   "version": "3.10.8"
  }
 },
 "nbformat": 4,
 "nbformat_minor": 5
}
