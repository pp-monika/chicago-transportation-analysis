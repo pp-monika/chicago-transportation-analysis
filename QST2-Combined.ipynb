{
 "cells": [
  {
   "cell_type": "code",
   "execution_count": 1,
   "id": "a51cd9e2-aa10-449e-ad8c-ea544019005e",
   "metadata": {},
   "outputs": [],
   "source": [
    "bucket = spark._jsc.hadoopConfiguration().get(\"fs.gs.system.bucket\")\n",
    "url = \"gs://\" + bucket + \"/data/chicago-taxi-trip/cleaned-chicago-taxi/\""
   ]
  },
  {
   "cell_type": "code",
   "execution_count": 2,
   "id": "ee780339-7e9c-4dcd-9fdc-4d4d40c9c551",
   "metadata": {},
   "outputs": [],
   "source": [
    "from pyspark.sql.types import (StructType, \n",
    "                               StructField, \n",
    "                               DoubleType,\n",
    "                               IntegerType,\n",
    "                               StringType,\n",
    "                               TimestampType)\n",
    "\n",
    "taxi_schema = StructType([StructField('unique_key', StringType(), True),\n",
    "                StructField('taxi_id', StringType(), True),\n",
    "                StructField('trip_start_timestamp', TimestampType(), True), \n",
    "                StructField('trip_end_timestamp', TimestampType(), True), \n",
    "                StructField('trip_seconds', IntegerType(), True), \n",
    "                StructField('trip_miles', IntegerType(), True), \n",
    "                StructField('pickup_census_tract', StringType(), True), \n",
    "                StructField('dropoff_census_tract', StringType(), True), \n",
    "                StructField('pickup_community_area', IntegerType(), True), \n",
    "                StructField('dropoff_community_area', IntegerType(), True), \n",
    "                StructField('fare', IntegerType(), True), \n",
    "                StructField('tips', IntegerType(), True), \n",
    "                StructField('tolls', IntegerType(), True), \n",
    "                StructField('extras', IntegerType(), True), \n",
    "                StructField('trip_total', IntegerType(), True), \n",
    "                StructField('payment_type', StringType(), True), \n",
    "                StructField('company', StringType(), True), \n",
    "                StructField('pickup_latitude', StringType(), True), \n",
    "                StructField('pickup_longitude', StringType(), True), \n",
    "                StructField('pickup_location', StringType(), True), \n",
    "                StructField('dropoff_latitude', StringType(), True), \n",
    "                StructField('dropoff_longitude', StringType(), True), \n",
    "                StructField('dropoff_location', StringType(), True)])\n",
    "\n",
    "taxi = spark.read.format(\"csv\").option(\"header\", \"true\").schema(taxi_schema).csv(url)"
   ]
  },
  {
   "cell_type": "code",
   "execution_count": 13,
   "id": "1c6b977c-7038-41ae-95ee-ba94ef914667",
   "metadata": {},
   "outputs": [
    {
     "data": {
      "text/plain": [
       "DataFrame[unique_key: string, taxi_id: string, trip_start_timestamp: timestamp, trip_end_timestamp: timestamp, trip_seconds: int, trip_miles: int, pickup_census_tract: string, dropoff_census_tract: string, pickup_community_area: int, dropoff_community_area: int, fare: int, tips: int, tolls: int, extras: int, trip_total: int, payment_type: string, company: string, pickup_latitude: string, pickup_longitude: string, pickup_location: string, dropoff_latitude: string, dropoff_longitude: string, dropoff_location: string]"
      ]
     },
     "execution_count": 13,
     "metadata": {},
     "output_type": "execute_result"
    }
   ],
   "source": [
    "taxi.cache()"
   ]
  },
  {
   "cell_type": "code",
   "execution_count": 3,
   "id": "b660756c-3d1d-4b85-82c8-6c4d2657e62b",
   "metadata": {},
   "outputs": [
    {
     "name": "stderr",
     "output_type": "stream",
     "text": [
      "[Stage 0:>                                                          (0 + 1) / 1]\r"
     ]
    },
    {
     "name": "stdout",
     "output_type": "stream",
     "text": [
      "+--------------------+--------------------+--------------------+-------------------+------------+----------+-------------------+--------------------+---------------------+----------------------+----+----+-----+------+----------+-------------+--------------------+---------------+----------------+--------------------+----------------+-----------------+----------------+\n",
      "|          unique_key|             taxi_id|trip_start_timestamp| trip_end_timestamp|trip_seconds|trip_miles|pickup_census_tract|dropoff_census_tract|pickup_community_area|dropoff_community_area|fare|tips|tolls|extras|trip_total| payment_type|             company|pickup_latitude|pickup_longitude|     pickup_location|dropoff_latitude|dropoff_longitude|dropoff_location|\n",
      "+--------------------+--------------------+--------------------+-------------------+------------+----------+-------------------+--------------------+---------------------+----------------------+----+----+-----+------+----------+-------------+--------------------+---------------+----------------+--------------------+----------------+-----------------+----------------+\n",
      "|fab9854c1658fa94b...|fb0ce19e30e712c77...| 2021-04-11 15:15:00|2021-04-11 15:30:00|        null|         8|                 28|                null|                    0|                     0|   0|null| null|  null|      null|-87.633308037|POINT (-87.633308...|   41.874005383|    -87.66351755|POINT (-87.663517...|              11|             null|            null|\n",
      "|f5274bb8426501bce...|175a58299af3a8c88...| 2021-04-18 01:00:00|2021-04-18 01:15:00|        null|         8|                 28|                null|                 null|                     0|   1|null| null|  null|      null|-87.633308037|POINT (-87.633308...|   41.874005383|    -87.66351755|POINT (-87.663517...|              16|             null|            null|\n",
      "|eeee3d40ecc76c0d2...|72acb561bc3ff52fe...| 2021-04-05 22:45:00|2021-04-05 23:00:00|        null|         8|                 28|                null|                 null|                     0|   1|null| null|  null|      null|-87.633308037|POINT (-87.633308...|   41.874005383|    -87.66351755|POINT (-87.663517...|              10|             null|            null|\n",
      "|fa294ff40f36a5e72...|f45c4bfa9d6c445eb...| 2021-04-29 20:30:00|2021-04-29 20:45:00|        null|         8|                 28|                   9|                    0|                     0|   0|   9| null|  null|      null|-87.633308037|POINT (-87.633308...|   41.874005383|    -87.66351755|POINT (-87.663517...|              12|             null|            null|\n",
      "|f714fd0ef05f1ff3e...|322630536b6fae633...| 2021-04-11 18:15:00|2021-04-11 18:30:00|        null|         8|                 28|                   9|                    0|                     0|   0|   9| null|  null|      null|-87.633308037|POINT (-87.633308...|   41.874005383|    -87.66351755|POINT (-87.663517...|              12|             null|            null|\n",
      "+--------------------+--------------------+--------------------+-------------------+------------+----------+-------------------+--------------------+---------------------+----------------------+----+----+-----+------+----------+-------------+--------------------+---------------+----------------+--------------------+----------------+-----------------+----------------+\n",
      "only showing top 5 rows\n",
      "\n"
     ]
    },
    {
     "name": "stderr",
     "output_type": "stream",
     "text": [
      "                                                                                \r"
     ]
    }
   ],
   "source": [
    "taxi.show(5)"
   ]
  },
  {
   "cell_type": "code",
   "execution_count": 4,
   "id": "8d484292-921b-4330-9abe-60181f6eb5ec",
   "metadata": {},
   "outputs": [
    {
     "name": "stderr",
     "output_type": "stream",
     "text": [
      "[Stage 3:>                                                          (0 + 1) / 1]\r"
     ]
    },
    {
     "name": "stdout",
     "output_type": "stream",
     "text": [
      "+-------+--------------------+--------------------+------------------+------------------+-------------------+--------------------+---------------------+----------------------+-----------------+------------------+-----+------+----------+-------------------+--------------------+--------------------+-------------------+--------------------+------------------+-----------------+----------------+\n",
      "|summary|          unique_key|             taxi_id|      trip_seconds|        trip_miles|pickup_census_tract|dropoff_census_tract|pickup_community_area|dropoff_community_area|             fare|              tips|tolls|extras|trip_total|       payment_type|             company|     pickup_latitude|   pickup_longitude|     pickup_location|  dropoff_latitude|dropoff_longitude|dropoff_location|\n",
      "+-------+--------------------+--------------------+------------------+------------------+-------------------+--------------------+---------------------+----------------------+-----------------+------------------+-----+------+----------+-------------------+--------------------+--------------------+-------------------+--------------------+------------------+-----------------+----------------+\n",
      "|  count|            20352161|            20352161|           2829328|          20352161|           20352161|             5214529|             15914800|              16794907|         19161717|           4364264|    0|     0|         0|           17827660|            17827660|            17333531|           17333531|            17333531|          20352161|                0|               0|\n",
      "|   mean|                null|                null|1.9476380963960347| 26.07434694527033|  21.03200981949779|  17.394083147298634|   0.9409646995249704|  0.004890113413548524|1.220027307573742|18.368368870444133| null|  null|      null|  -87.6724718774177|                null|   41.88627384287558| -87.64957851664845|                null|17.208450051078113|             null|            null|\n",
      "| stddev|                null|                null|5.3709679549236435|23.637782212640037| 19.079933697951503|   24.61500310181595|    2.176381276148622|   0.47024321274100744|5.496590806089559|25.504077229388407| null|  null|      null|0.09270527304749805|                null|0.049359426454992604|0.05718929883109064|                null|26.802132656817733|             null|            null|\n",
      "|    min|000001bde866596a3...|0008de7a146802839...|                 0|                -1|                 -1|                   0|                    0|                     0|                0|                 0| null|  null|      null|      -87.530712484|POINT (-87.530712...|        41.650221676|      -87.531386257|POINT (-87.531386...|                 1|             null|            null|\n",
      "|    max|ffffff1aae5322736...|fff84aa08ac78890c...|               950|                77|                  9|                  99|                  500|                  1000|             9555|              9004| null|  null|      null|      -87.913624596|POINT (-87.913624...|        42.021223593|      -87.913624596|POINT (-87.913624...|               999|             null|            null|\n",
      "+-------+--------------------+--------------------+------------------+------------------+-------------------+--------------------+---------------------+----------------------+-----------------+------------------+-----+------+----------+-------------------+--------------------+--------------------+-------------------+--------------------+------------------+-----------------+----------------+\n",
      "\n"
     ]
    },
    {
     "name": "stderr",
     "output_type": "stream",
     "text": [
      "                                                                                \r"
     ]
    }
   ],
   "source": [
    "taxi.describe().show()"
   ]
  },
  {
   "cell_type": "code",
   "execution_count": 5,
   "id": "047e86d6-4b6e-4d8a-8720-48090e115bcf",
   "metadata": {},
   "outputs": [
    {
     "name": "stderr",
     "output_type": "stream",
     "text": [
      "                                                                                \r"
     ]
    },
    {
     "data": {
      "text/html": [
       "<div>\n",
       "<style scoped>\n",
       "    .dataframe tbody tr th:only-of-type {\n",
       "        vertical-align: middle;\n",
       "    }\n",
       "\n",
       "    .dataframe tbody tr th {\n",
       "        vertical-align: top;\n",
       "    }\n",
       "\n",
       "    .dataframe thead th {\n",
       "        text-align: right;\n",
       "    }\n",
       "</style>\n",
       "<table border=\"1\" class=\"dataframe\">\n",
       "  <thead>\n",
       "    <tr style=\"text-align: right;\">\n",
       "      <th></th>\n",
       "      <th>summary</th>\n",
       "      <th>unique_key</th>\n",
       "      <th>taxi_id</th>\n",
       "      <th>trip_seconds</th>\n",
       "      <th>trip_miles</th>\n",
       "      <th>pickup_census_tract</th>\n",
       "      <th>dropoff_census_tract</th>\n",
       "      <th>pickup_community_area</th>\n",
       "      <th>dropoff_community_area</th>\n",
       "      <th>fare</th>\n",
       "      <th>...</th>\n",
       "      <th>extras</th>\n",
       "      <th>trip_total</th>\n",
       "      <th>payment_type</th>\n",
       "      <th>company</th>\n",
       "      <th>pickup_latitude</th>\n",
       "      <th>pickup_longitude</th>\n",
       "      <th>pickup_location</th>\n",
       "      <th>dropoff_latitude</th>\n",
       "      <th>dropoff_longitude</th>\n",
       "      <th>dropoff_location</th>\n",
       "    </tr>\n",
       "  </thead>\n",
       "  <tbody>\n",
       "    <tr>\n",
       "      <th>0</th>\n",
       "      <td>count</td>\n",
       "      <td>20352161</td>\n",
       "      <td>20352161</td>\n",
       "      <td>2829328</td>\n",
       "      <td>20352161</td>\n",
       "      <td>20352161</td>\n",
       "      <td>5214529</td>\n",
       "      <td>15914800</td>\n",
       "      <td>16794907</td>\n",
       "      <td>19161717</td>\n",
       "      <td>...</td>\n",
       "      <td>0</td>\n",
       "      <td>0</td>\n",
       "      <td>17827660</td>\n",
       "      <td>17827660</td>\n",
       "      <td>17333531</td>\n",
       "      <td>17333531</td>\n",
       "      <td>17333531</td>\n",
       "      <td>20352161</td>\n",
       "      <td>0</td>\n",
       "      <td>0</td>\n",
       "    </tr>\n",
       "    <tr>\n",
       "      <th>1</th>\n",
       "      <td>mean</td>\n",
       "      <td>None</td>\n",
       "      <td>None</td>\n",
       "      <td>1.9476380963960347</td>\n",
       "      <td>26.07434694527033</td>\n",
       "      <td>21.03200981949779</td>\n",
       "      <td>17.394083147298634</td>\n",
       "      <td>0.9409646995249704</td>\n",
       "      <td>0.004890113413548524</td>\n",
       "      <td>1.220027307573742</td>\n",
       "      <td>...</td>\n",
       "      <td>None</td>\n",
       "      <td>None</td>\n",
       "      <td>-87.6724718774177</td>\n",
       "      <td>None</td>\n",
       "      <td>41.88627384287559</td>\n",
       "      <td>-87.64957851664845</td>\n",
       "      <td>None</td>\n",
       "      <td>17.208450051078113</td>\n",
       "      <td>None</td>\n",
       "      <td>None</td>\n",
       "    </tr>\n",
       "    <tr>\n",
       "      <th>2</th>\n",
       "      <td>stddev</td>\n",
       "      <td>None</td>\n",
       "      <td>None</td>\n",
       "      <td>5.370967954923644</td>\n",
       "      <td>23.637782212640044</td>\n",
       "      <td>19.07993369795151</td>\n",
       "      <td>24.615003101815958</td>\n",
       "      <td>2.176381276148622</td>\n",
       "      <td>0.4702432127410075</td>\n",
       "      <td>5.496590806089562</td>\n",
       "      <td>...</td>\n",
       "      <td>None</td>\n",
       "      <td>None</td>\n",
       "      <td>0.09270527304749865</td>\n",
       "      <td>None</td>\n",
       "      <td>0.04935942645499254</td>\n",
       "      <td>0.05718929883108902</td>\n",
       "      <td>None</td>\n",
       "      <td>26.80213265681773</td>\n",
       "      <td>None</td>\n",
       "      <td>None</td>\n",
       "    </tr>\n",
       "    <tr>\n",
       "      <th>3</th>\n",
       "      <td>min</td>\n",
       "      <td>000001bde866596a38db452f082a0ed75b4829b1</td>\n",
       "      <td>0008de7a146802839c9e6059f482d292ebdae13c5c31dd...</td>\n",
       "      <td>0</td>\n",
       "      <td>-1</td>\n",
       "      <td>-1</td>\n",
       "      <td>0</td>\n",
       "      <td>0</td>\n",
       "      <td>0</td>\n",
       "      <td>0</td>\n",
       "      <td>...</td>\n",
       "      <td>None</td>\n",
       "      <td>None</td>\n",
       "      <td>-87.530712484</td>\n",
       "      <td>POINT (-87.5307124836 41.7030053028)</td>\n",
       "      <td>41.650221676</td>\n",
       "      <td>-87.531386257</td>\n",
       "      <td>POINT (-87.5313862567 41.7204632831)</td>\n",
       "      <td>1</td>\n",
       "      <td>None</td>\n",
       "      <td>None</td>\n",
       "    </tr>\n",
       "    <tr>\n",
       "      <th>4</th>\n",
       "      <td>max</td>\n",
       "      <td>ffffff1aae5322736637e16dd2faecb5dfebe81a</td>\n",
       "      <td>fff84aa08ac78890c6e7da64b817cbd9aad6a124104e09...</td>\n",
       "      <td>950</td>\n",
       "      <td>77</td>\n",
       "      <td>9</td>\n",
       "      <td>99</td>\n",
       "      <td>500</td>\n",
       "      <td>1000</td>\n",
       "      <td>9555</td>\n",
       "      <td>...</td>\n",
       "      <td>None</td>\n",
       "      <td>None</td>\n",
       "      <td>-87.913624596</td>\n",
       "      <td>POINT (-87.913624596 41.9802643146)</td>\n",
       "      <td>42.021223593</td>\n",
       "      <td>-87.913624596</td>\n",
       "      <td>POINT (-87.913624596 41.9802643146)</td>\n",
       "      <td>999</td>\n",
       "      <td>None</td>\n",
       "      <td>None</td>\n",
       "    </tr>\n",
       "  </tbody>\n",
       "</table>\n",
       "<p>5 rows × 22 columns</p>\n",
       "</div>"
      ],
      "text/plain": [
       "  summary                                unique_key  \\\n",
       "0   count                                  20352161   \n",
       "1    mean                                      None   \n",
       "2  stddev                                      None   \n",
       "3     min  000001bde866596a38db452f082a0ed75b4829b1   \n",
       "4     max  ffffff1aae5322736637e16dd2faecb5dfebe81a   \n",
       "\n",
       "                                             taxi_id        trip_seconds  \\\n",
       "0                                           20352161             2829328   \n",
       "1                                               None  1.9476380963960347   \n",
       "2                                               None   5.370967954923644   \n",
       "3  0008de7a146802839c9e6059f482d292ebdae13c5c31dd...                   0   \n",
       "4  fff84aa08ac78890c6e7da64b817cbd9aad6a124104e09...                 950   \n",
       "\n",
       "           trip_miles pickup_census_tract dropoff_census_tract  \\\n",
       "0            20352161            20352161              5214529   \n",
       "1   26.07434694527033   21.03200981949779   17.394083147298634   \n",
       "2  23.637782212640044   19.07993369795151   24.615003101815958   \n",
       "3                  -1                  -1                    0   \n",
       "4                  77                   9                   99   \n",
       "\n",
       "  pickup_community_area dropoff_community_area               fare  ... extras  \\\n",
       "0              15914800               16794907           19161717  ...      0   \n",
       "1    0.9409646995249704   0.004890113413548524  1.220027307573742  ...   None   \n",
       "2     2.176381276148622     0.4702432127410075  5.496590806089562  ...   None   \n",
       "3                     0                      0                  0  ...   None   \n",
       "4                   500                   1000               9555  ...   None   \n",
       "\n",
       "  trip_total         payment_type                               company  \\\n",
       "0          0             17827660                              17827660   \n",
       "1       None    -87.6724718774177                                  None   \n",
       "2       None  0.09270527304749865                                  None   \n",
       "3       None        -87.530712484  POINT (-87.5307124836 41.7030053028)   \n",
       "4       None        -87.913624596   POINT (-87.913624596 41.9802643146)   \n",
       "\n",
       "       pickup_latitude     pickup_longitude  \\\n",
       "0             17333531             17333531   \n",
       "1    41.88627384287559   -87.64957851664845   \n",
       "2  0.04935942645499254  0.05718929883108902   \n",
       "3         41.650221676        -87.531386257   \n",
       "4         42.021223593        -87.913624596   \n",
       "\n",
       "                        pickup_location    dropoff_latitude dropoff_longitude  \\\n",
       "0                              17333531            20352161                 0   \n",
       "1                                  None  17.208450051078113              None   \n",
       "2                                  None   26.80213265681773              None   \n",
       "3  POINT (-87.5313862567 41.7204632831)                   1              None   \n",
       "4   POINT (-87.913624596 41.9802643146)                 999              None   \n",
       "\n",
       "  dropoff_location  \n",
       "0                0  \n",
       "1             None  \n",
       "2             None  \n",
       "3             None  \n",
       "4             None  \n",
       "\n",
       "[5 rows x 22 columns]"
      ]
     },
     "execution_count": 5,
     "metadata": {},
     "output_type": "execute_result"
    }
   ],
   "source": [
    "taxi.describe().toPandas()"
   ]
  },
  {
   "cell_type": "code",
   "execution_count": 12,
   "id": "0e51579e-7618-4387-8795-378855ab2d56",
   "metadata": {},
   "outputs": [
    {
     "name": "stderr",
     "output_type": "stream",
     "text": [
      "[Stage 7:========================================================>(72 + 1) / 73]\r"
     ]
    },
    {
     "name": "stdout",
     "output_type": "stream",
     "text": [
      "+----------+-------+--------------------+------------------+------------+----------+-------------------+--------------------+---------------------+----------------------+-------+--------+--------+--------+----------+------------+-------+---------------+----------------+---------------+----------------+-----------------+----------------+\n",
      "|unique_key|taxi_id|trip_start_timestamp|trip_end_timestamp|trip_seconds|trip_miles|pickup_census_tract|dropoff_census_tract|pickup_community_area|dropoff_community_area|   fare|    tips|   tolls|  extras|trip_total|payment_type|company|pickup_latitude|pickup_longitude|pickup_location|dropoff_latitude|dropoff_longitude|dropoff_location|\n",
      "+----------+-------+--------------------+------------------+------------+----------+-------------------+--------------------+---------------------+----------------------+-------+--------+--------+--------+----------+------------+-------+---------------+----------------+---------------+----------------+-----------------+----------------+\n",
      "|         0|      0|                   0|                 0|    17522833|         0|                  0|            15137632|              4437361|               3557254|1190444|15987897|20352161|20352161|  20352161|     2524501|2524501|        3018630|         3018630|        3018630|               0|         20352161|        20352161|\n",
      "+----------+-------+--------------------+------------------+------------+----------+-------------------+--------------------+---------------------+----------------------+-------+--------+--------+--------+----------+------------+-------+---------------+----------------+---------------+----------------+-----------------+----------------+\n",
      "\n"
     ]
    },
    {
     "name": "stderr",
     "output_type": "stream",
     "text": [
      "                                                                                \r"
     ]
    }
   ],
   "source": [
    "from pyspark.sql.functions import col, sum\n",
    "null_counts = taxi.select([sum(col(column).isNull().cast(\"int\")).alias(column) for column in taxi.columns])"
   ]
  },
  {
   "cell_type": "code",
   "execution_count": null,
   "id": "58fb195b-593d-4f53-a9d8-a33595e773d3",
   "metadata": {},
   "outputs": [
    {
     "name": "stderr",
     "output_type": "stream",
     "text": [
      "[Stage 10:==========================================>             (56 + 4) / 73]\r"
     ]
    }
   ],
   "source": [
    "null_counts.toPandas()"
   ]
  },
  {
   "cell_type": "code",
   "execution_count": null,
   "id": "f6fea7aa-aeb4-424f-8a23-e77c3e9dd275",
   "metadata": {},
   "outputs": [],
   "source": []
  }
 ],
 "metadata": {
  "kernelspec": {
   "display_name": "PySpark",
   "language": "python",
   "name": "pyspark"
  },
  "language_info": {
   "codemirror_mode": {
    "name": "ipython",
    "version": 3
   },
   "file_extension": ".py",
   "mimetype": "text/x-python",
   "name": "python",
   "nbconvert_exporter": "python",
   "pygments_lexer": "ipython3",
   "version": "3.10.8"
  }
 },
 "nbformat": 4,
 "nbformat_minor": 5
}
