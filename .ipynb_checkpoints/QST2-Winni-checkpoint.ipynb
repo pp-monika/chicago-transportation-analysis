{
 "cells": [
  {
   "cell_type": "markdown",
   "id": "046b030f-a507-499f-863e-1d05887b4845",
   "metadata": {},
   "source": [
    "# Analyzing Transportation Patterns Using Chicago Taxi Trip and Chicago Rideshare for Urban Planning Insights"
   ]
  },
  {
   "cell_type": "markdown",
   "id": "ae04d774-3d46-48d6-83b9-9383cae2d9d8",
   "metadata": {},
   "source": [
    "Urban planning is an important aspect of designing cities to meet the infrastructure needed to support the livelihood of tens of millions of residents. Transportation in particular has a critical impact on people’s decision to accept employment, how they spend their time, places they visit, and even business locations. This exploration of Chicago taxi and ride share service data will provide an insight on traffic conditions, travel expenses, and hotspots for visitation in the city which can be used for city planning purposes."
   ]
  },
  {
   "cell_type": "markdown",
   "id": "268484c2-2c72-4b6d-83a5-8228d06c3a26",
   "metadata": {},
   "source": [
    "**Group Members**\n",
    "1. Monika Phuengmak\n",
    "2. Winni Tai \n",
    "3. Syeda Aqeel"
   ]
  },
  {
   "cell_type": "markdown",
   "id": "14e293d3-119f-4c29-a88c-a36c4246f365",
   "metadata": {},
   "source": [
    "## 1. Problem Definition\n",
    "This project aims to analyze Chicago’s taxi and rideshare data from 2018 to 2023 to generate actionable insights that support urban planning, enhance traffic management, and optimize transportation services. By identifying peak demand zones, assessing traffic congestion effects on trip durations, and analyzing fare trends across variables such as time, location, and service type, the project seeks to provide data-driven recommendations to improve mobility, reduce congestion, and better meet the transportation needs of Chicago’s residents and visitors."
   ]
  },
  {
   "cell_type": "markdown",
   "id": "9c4396e9-2fe1-4996-ada2-55eef743a932",
   "metadata": {},
   "source": [
    "## 2. Data Sources\n",
    "- Chicago Taxi Trips from 2013 to 2023: [link](https://data.cityofchicago.org/Transportation/Taxi-Trips-2013-2023-/wrvz-psew/about_data)\n",
    "- Chicago Transportation Network Providers Trip: from 2018 to 2022: [link](https://data.cityofchicago.org/Transportation/Transportation-Network-Providers-Trips-2018-2022-/m6dm-c72p/about_data)\n",
    "- Chicago Transportation Network Providers Trip: from 2023 to present: [link](https://data.cityofchicago.org/Transportation/Transportation-Network-Providers-Trips-2023-/n26f-ihde/about_data)\n",
    "- Chicago Community Area: [link](https://data.cityofchicago.org/Facilities-Geographic-Boundaries/Boundaries-Community-Areas-current-/cauq-8yn6)"
   ]
  },
  {
   "cell_type": "markdown",
   "id": "2c08d856-bb5f-4cb5-8c95-d7ef26fb9fdf",
   "metadata": {},
   "source": [
    "### Chicago Taxi Trips Data 2013-2023\n",
    "\n",
    "This dataset reflects taxi trips reported to the City of Chicago in its role as a regulatory agency. To protect privacy but allow for aggregate analyses, the Taxi ID is consistent for any given taxi medallion number but does not show the number. Census Tracts are suppressed in some cases for privacy. Due to the data reporting process, not all trips are reported but the City believes that most are."
   ]
  },
  {
   "cell_type": "markdown",
   "id": "9bda28c7-013e-40d7-8dd7-2f027fea3092",
   "metadata": {},
   "source": [
    "**Columns in this dataset**\n",
    "\n",
    "|Column name|Description|Type|\n",
    "|--|--|--|\n",
    "|trip_id|A unique identifier for the trip. Initially called unique_key, but it will be renamed to trip_id.|String|\n",
    "|taxi_id|A unique identifier for the taxi.|String|\n",
    "|trip_start_timestamp|Date and time when the trip started, rounded to the nearest 15 minutes.|Timestamp|\n",
    "|trip_end_timestamp|Date and time when the trip ended, rounded to the nearest 15 minutes.|Timestamp|\n",
    "|trip_seconds|Duration of the trip in seconds.|Integer|\n",
    "|trip_miles|Distance of the trip in miles.|Integer|\n",
    "|pickup_census_tract|The Census Tract where the trip began. For privacy, this Census Tract is not shown for some trips. This column often will be blank for locations outside Chicago.|Number|\n",
    "|dropoff_census_tract|The Census Tract where the trip ended. For privacy, this Census Tract is not shown for some trips. This column often will be blank for locations outside Chicago.|Number|\n",
    "|pickup_community_area|The Community Area where the trip began. This column will be blank for locations outside Chicago.|Integer|\n",
    "|dropoff_community_area|The Community Area where the trip ended. This column will be blank for locations outside Chicago.|Integer|\n",
    "|fare|The fare for the trip.|Double|\n",
    "|tips|The tip for the trip. Cash tips generally will not be recorded.|Double|\n",
    "|tolls|The tolls for the trip.|Double|\n",
    "|extras|Extra charges for the trip. This generally includes airport surcharges, late-night or rush hour surcharges, credit card processing fee, and other surcharges.|Double|\n",
    "|trip_total|Total cost of the trip calculated from are, tips, tolls, and extras.|Double|\n",
    "|payment_type|Type of payment for the trip.|String|\n",
    "|company|The taxi company.|String|\n",
    "|pickup_latitude|The latitude of the center of the pickup census tract or the community area if the census tract has been hidden for privacy. This column often will be blank for locations outside Chicago.|Double|\n",
    "|pickup_longitude|The longitude of the center of the pickup census tract or the community area if the census tract has been hidden for privacy. This column often will be blank for locations outside Chicago.|Double|\n",
    "|pickup_location|The location of the center of the pickup census tract or the community area if the census tract has been hidden for privacy. This column often will be blank for locations outside Chicago.|String|\n",
    "|dropoff_latitude|The latitude of the center of the dropoff census tract or the community area if the census tract has been hidden for privacy. This column often will be blank for locations outside Chicago.|Double|\n",
    "|dropoff_longitude|The longitude of the center of the dropoff census tract or the community area if the census tract has been hidden for privacy. This column often will be blank for locations outside Chicago.|Double|\n",
    "|dropoff_location|The location of the center of the dropoff census tract or the community area if the census tract has been hidden for privacy. This column often will be blank for locations outside Chicago.|String|"
   ]
  },
  {
   "cell_type": "markdown",
   "id": "456558c3-3eb4-4ccd-ac67-ab08991290bc",
   "metadata": {},
   "source": [
    "### Chicagi Transportation Network Providers 2018 - 2023\n",
    "All trips, from November 2018 to December 2022, reported by Transportation Network Providers (sometimes called rideshare companies) to the City of Chicago as part of routine reporting required by ordinance. Starting fromm 2023, the dataset contains 3 new columns, which will be noted in the column description."
   ]
  },
  {
   "cell_type": "markdown",
   "id": "4b1fbf79-7c7c-4980-a3ef-f571a9734698",
   "metadata": {},
   "source": [
    "**Columns in this dataset**\n",
    "\n",
    "|Column name|Description|Type|\n",
    "|--|--|--|\n",
    "|trip_id|A unique identifier for the trip. Initially called unique_key, but it will be renamed to trip_id.|String|\n",
    "|trip_start_timestamp|Date and time when the trip started, rounded to the nearest 15 minutes.|Timestamp|\n",
    "|trip_end_timestamp|Date and time when the trip ended, rounded to the nearest 15 minutes.|Timestamp|\n",
    "|trip_seconds|Duration of the trip in seconds.|Integer|\n",
    "|trip_miles|Distance of the trip in miles.|Integer|\n",
    "|percent_time_chicago|Percent of the trip time that was in Chicago. (NEW IN 2023 DATASET)|Integer|\n",
    "|percent_distance_chicago|Percent of the trip distance that was in Chicago. (NEW IN 2023 DATASET)|Integer|\n",
    "|pickup_census_tract|The Census Tract where the trip began. For privacy, this Census Tract is not shown for some trips. This column often will be blank for locations outside Chicago.|Number|\n",
    "|dropoff_census_tract|The Census Tract where the trip ended. For privacy, this Census Tract is not shown for some trips. This column often will be blank for locations outside Chicago.|Number|\n",
    "|pickup_community_area|The Community Area where the trip began. This column will be blank for locations outside Chicago.|Integer|\n",
    "|dropoff_community_area|The Community Area where the trip ended. This column will be blank for locations outside Chicago.|Integer|\n",
    "|fare|The fare for the trip, rounded to the nearest \\$2.50.|Double|\n",
    "|tip|The tip for the trip, rounded to the nearest $1.00. Cash tips will not be recorded.|Double|\n",
    "|additional_charges|The taxes, fees, and any other charges for the trip.|Double|\n",
    "|trip_total|Total cost of the trip calculated from fare, tips, and additional charges.|Double|\n",
    "|shared_trip_authorized|Whether the customer agreed to a shared trip with another customer, regardless of whether the customer was actually matched for a shared trip.|Boolean|\n",
    "|shared_trip_match|Whether the customer was actually matched to a shared trip. (NEW IN 2023 DATASET)|Boolean|\n",
    "|trips_pooled|If customers were matched for a shared trip, how many trips, including this one, were pooled. All customer trips from the time the vehicle was empty until it was empty again contribute to this count, even if some customers were never present in the vehicle at the same time. Each trip making up the overall shared trip will have a separate record in this dataset, with the same value in this column.|Integer|\n",
    "|pickup_centroid_latitude|The latitude of the center of the pickup census tract or the community area if the census tract has been hidden for privacy. This column often will be blank for locations outside Chicago.|Double|\n",
    "|pickup_centroid_longitude|The longitude of the center of the pickup census tract or the community area if the census tract has been hidden for privacy. This column often will be blank for locations outside Chicago.|Double|\n",
    "|pickup_centroid_location|The location of the center of the pickup census tract or the community area if the census tract has been hidden for privacy. This column often will be blank for locations outside Chicago.|String|\n",
    "|dropoff_centroid_latitude|The latitude of the center of the dropoff census tract or the community area if the census tract has been hidden for privacy. This column often will be blank for locations outside Chicago.|Double|\n",
    "|dropoff_centroid_longitude|The longitude of the center of the dropoff census tract or the community area if the census tract has been hidden for privacy. This column often will be blank for locations outside Chicago.|Double|\n",
    "|dropoff_centroid_location|The location of the center of the dropoff census tract or the community area if the census tract has been hidden for privacy. This column often will be blank for locations outside Chicago.|String|"
   ]
  },
  {
   "cell_type": "markdown",
   "id": "1b95daa4-5e67-4001-a152-08b2297eecf1",
   "metadata": {},
   "source": [
    "### Chicago Community Area Data\n",
    "Chicago City has 77 community areas in total. This dataset is used in conjunction with Chicago Taxi dataset to get the name of community area for pickup and dropoff location."
   ]
  },
  {
   "cell_type": "markdown",
   "id": "7e062326-24a6-422c-a350-483e0d6fafb4",
   "metadata": {},
   "source": [
    "**Columns in this dataset**\n",
    "\n",
    "|Column name|Description|Type|\n",
    "|--|--|--|\n",
    "|the_geom|Polygons that outline the geographic boundaries.|String|\n",
    "|AREA_NUMBE|Community area number.|Integer|\n",
    "|COMMUNITY|Community name.|String|\n",
    "|AREA_NUM_1|Community area number. Duplicates of AREA_NUMBE.|Integer|"
   ]
  },
  {
   "cell_type": "markdown",
   "id": "3fbfd863-a48d-4f8b-84f3-365cd4a5e916",
   "metadata": {},
   "source": [
    "## 3. Data Cleaning"
   ]
  },
  {
   "cell_type": "markdown",
   "id": "43e2c9ac-24da-47d0-b3ee-bf522d46ad97",
   "metadata": {},
   "source": [
    "### Chicago Taxi Dataset"
   ]
  },
  {
   "cell_type": "markdown",
   "id": "a3e5ee71-5006-45ad-ab3a-5ef791b3ff71",
   "metadata": {},
   "source": [
    "Download data from Google Cloud Bucket:"
   ]
  },
  {
   "cell_type": "code",
   "execution_count": 1,
   "id": "c3f2dca4-1cb7-4797-8a23-603359b04894",
   "metadata": {},
   "outputs": [],
   "source": [
    "bucket = spark._jsc.hadoopConfiguration().get(\"fs.gs.system.bucket\")\n",
    "\n",
    "url = \"gs://\" + bucket + \"/data/chicago-taxi-trip/chicago-taxi-0000000000*\""
   ]
  },
  {
   "cell_type": "code",
   "execution_count": 2,
   "id": "54fbd83c-2183-4042-9082-4c0016817528",
   "metadata": {},
   "outputs": [
    {
     "name": "stderr",
     "output_type": "stream",
     "text": [
      "                                                                                \r"
     ]
    }
   ],
   "source": [
    "from pyspark.sql.types import (StructType, \n",
    "                               StructField, \n",
    "                               DoubleType,\n",
    "                               IntegerType,\n",
    "                               StringType,\n",
    "                               TimestampType)\n",
    "\n",
    "taxi_schema = StructType([StructField('unique_key', StringType(), True),\n",
    "                StructField('taxi_id', StringType(), True),\n",
    "                StructField('trip_start_timestamp', TimestampType(), True), \n",
    "                StructField('trip_end_timestamp', TimestampType(), True), \n",
    "                StructField('trip_seconds', IntegerType(), True), \n",
    "                StructField('trip_miles', IntegerType(), True), \n",
    "                StructField('pickup_census_tract', StringType(), True), \n",
    "                StructField('dropoff_census_tract', StringType(), True), \n",
    "                StructField('pickup_community_area', IntegerType(), True), \n",
    "                StructField('dropoff_community_area', IntegerType(), True), \n",
    "                StructField('fare', IntegerType(), True), \n",
    "                StructField('tips', IntegerType(), True), \n",
    "                StructField('tolls', IntegerType(), True), \n",
    "                StructField('extras', IntegerType(), True), \n",
    "                StructField('trip_total', IntegerType(), True), \n",
    "                StructField('payment_type', StringType(), True), \n",
    "                StructField('company', StringType(), True), \n",
    "                StructField('pickup_latitude', StringType(), True), \n",
    "                StructField('pickup_longitude', StringType(), True), \n",
    "                StructField('pickup_location', StringType(), True), \n",
    "                StructField('dropoff_latitude', StringType(), True), \n",
    "                StructField('dropoff_longitude', StringType(), True), \n",
    "                StructField('dropoff_location', StringType(), True)])\n",
    "\n",
    "taxi_all_years = spark.read.format(\"csv\").option(\"header\", \"true\").schema(taxi_schema).csv(url)"
   ]
  },
  {
   "cell_type": "code",
   "execution_count": 3,
   "id": "37cdb429-1034-4451-93b4-391ebc43570f",
   "metadata": {},
   "outputs": [
    {
     "name": "stdout",
     "output_type": "stream",
     "text": [
      "root\n",
      " |-- unique_key: string (nullable = true)\n",
      " |-- taxi_id: string (nullable = true)\n",
      " |-- trip_start_timestamp: timestamp (nullable = true)\n",
      " |-- trip_end_timestamp: timestamp (nullable = true)\n",
      " |-- trip_seconds: integer (nullable = true)\n",
      " |-- trip_miles: integer (nullable = true)\n",
      " |-- pickup_census_tract: string (nullable = true)\n",
      " |-- dropoff_census_tract: string (nullable = true)\n",
      " |-- pickup_community_area: integer (nullable = true)\n",
      " |-- dropoff_community_area: integer (nullable = true)\n",
      " |-- fare: integer (nullable = true)\n",
      " |-- tips: integer (nullable = true)\n",
      " |-- tolls: integer (nullable = true)\n",
      " |-- extras: integer (nullable = true)\n",
      " |-- trip_total: integer (nullable = true)\n",
      " |-- payment_type: string (nullable = true)\n",
      " |-- company: string (nullable = true)\n",
      " |-- pickup_latitude: string (nullable = true)\n",
      " |-- pickup_longitude: string (nullable = true)\n",
      " |-- pickup_location: string (nullable = true)\n",
      " |-- dropoff_latitude: string (nullable = true)\n",
      " |-- dropoff_longitude: string (nullable = true)\n",
      " |-- dropoff_location: string (nullable = true)\n",
      "\n"
     ]
    }
   ],
   "source": [
    "taxi_all_years.printSchema()"
   ]
  },
  {
   "cell_type": "markdown",
   "id": "06a88efb-c636-47fc-a5e5-73dba57ca796",
   "metadata": {},
   "source": [
    "Inspect the first 10 rows of the dataset:"
   ]
  },
  {
   "cell_type": "code",
   "execution_count": 4,
   "id": "7b401cb8-ffa5-4fb6-9243-6b9fc83f7db7",
   "metadata": {},
   "outputs": [
    {
     "name": "stderr",
     "output_type": "stream",
     "text": [
      "                                                                                \r"
     ]
    },
    {
     "data": {
      "text/html": [
       "<div>\n",
       "<style scoped>\n",
       "    .dataframe tbody tr th:only-of-type {\n",
       "        vertical-align: middle;\n",
       "    }\n",
       "\n",
       "    .dataframe tbody tr th {\n",
       "        vertical-align: top;\n",
       "    }\n",
       "\n",
       "    .dataframe thead th {\n",
       "        text-align: right;\n",
       "    }\n",
       "</style>\n",
       "<table border=\"1\" class=\"dataframe\">\n",
       "  <thead>\n",
       "    <tr style=\"text-align: right;\">\n",
       "      <th></th>\n",
       "      <th>unique_key</th>\n",
       "      <th>taxi_id</th>\n",
       "      <th>trip_start_timestamp</th>\n",
       "      <th>trip_end_timestamp</th>\n",
       "      <th>trip_seconds</th>\n",
       "      <th>trip_miles</th>\n",
       "      <th>pickup_census_tract</th>\n",
       "      <th>dropoff_census_tract</th>\n",
       "      <th>pickup_community_area</th>\n",
       "      <th>dropoff_community_area</th>\n",
       "      <th>...</th>\n",
       "      <th>extras</th>\n",
       "      <th>trip_total</th>\n",
       "      <th>payment_type</th>\n",
       "      <th>company</th>\n",
       "      <th>pickup_latitude</th>\n",
       "      <th>pickup_longitude</th>\n",
       "      <th>pickup_location</th>\n",
       "      <th>dropoff_latitude</th>\n",
       "      <th>dropoff_longitude</th>\n",
       "      <th>dropoff_location</th>\n",
       "    </tr>\n",
       "  </thead>\n",
       "  <tbody>\n",
       "    <tr>\n",
       "      <th>0</th>\n",
       "      <td>5003bdd51918a9b5a52134096663b4d7e02395c5</td>\n",
       "      <td>2130bc5fd239a4e3b304662424fb4cc7db0ca7abf78cc5...</td>\n",
       "      <td>2013-02-25 14:15:00</td>\n",
       "      <td>2013-02-25 14:15:00</td>\n",
       "      <td>120</td>\n",
       "      <td>0.0</td>\n",
       "      <td>None</td>\n",
       "      <td>None</td>\n",
       "      <td>NaN</td>\n",
       "      <td>NaN</td>\n",
       "      <td>...</td>\n",
       "      <td>NaN</td>\n",
       "      <td>NaN</td>\n",
       "      <td>Cash</td>\n",
       "      <td>None</td>\n",
       "      <td>None</td>\n",
       "      <td>None</td>\n",
       "      <td>None</td>\n",
       "      <td>None</td>\n",
       "      <td>None</td>\n",
       "      <td>None</td>\n",
       "    </tr>\n",
       "    <tr>\n",
       "      <th>1</th>\n",
       "      <td>720534d264001b2644f682755b294067fdf1da21</td>\n",
       "      <td>4bb55b69e710d1792f5fd4888001f4ff0ce34040f976f8...</td>\n",
       "      <td>2013-06-02 08:15:00</td>\n",
       "      <td>2013-06-02 08:15:00</td>\n",
       "      <td>60</td>\n",
       "      <td>NaN</td>\n",
       "      <td>None</td>\n",
       "      <td>None</td>\n",
       "      <td>NaN</td>\n",
       "      <td>NaN</td>\n",
       "      <td>...</td>\n",
       "      <td>NaN</td>\n",
       "      <td>NaN</td>\n",
       "      <td>Cash</td>\n",
       "      <td>None</td>\n",
       "      <td>None</td>\n",
       "      <td>None</td>\n",
       "      <td>None</td>\n",
       "      <td>None</td>\n",
       "      <td>None</td>\n",
       "      <td>None</td>\n",
       "    </tr>\n",
       "    <tr>\n",
       "      <th>2</th>\n",
       "      <td>515b9a6d5234a4d1fb559dca27b3e1cc541a342d</td>\n",
       "      <td>4bb55b69e710d1792f5fd4888001f4ff0ce34040f976f8...</td>\n",
       "      <td>2013-06-24 06:15:00</td>\n",
       "      <td>2013-06-24 06:15:00</td>\n",
       "      <td>60</td>\n",
       "      <td>NaN</td>\n",
       "      <td>None</td>\n",
       "      <td>None</td>\n",
       "      <td>1.0</td>\n",
       "      <td>77.0</td>\n",
       "      <td>...</td>\n",
       "      <td>NaN</td>\n",
       "      <td>NaN</td>\n",
       "      <td>Cash</td>\n",
       "      <td>None</td>\n",
       "      <td>42.009622881</td>\n",
       "      <td>-87.670166857</td>\n",
       "      <td>POINT (-87.67016685690001 42.0096228806)</td>\n",
       "      <td>41.9867118</td>\n",
       "      <td>-87.663416405</td>\n",
       "      <td>POINT (-87.6634164054 41.9867117999)</td>\n",
       "    </tr>\n",
       "    <tr>\n",
       "      <th>3</th>\n",
       "      <td>8afd48d966bf464e93127f43b72a8e405596a8eb</td>\n",
       "      <td>0150188f8c8e8973a198d4af0b427fca8ff48df2662d6b...</td>\n",
       "      <td>2013-02-01 07:00:00</td>\n",
       "      <td>2013-02-02 00:00:00</td>\n",
       "      <td>61560</td>\n",
       "      <td>0.0</td>\n",
       "      <td>None</td>\n",
       "      <td>None</td>\n",
       "      <td>NaN</td>\n",
       "      <td>NaN</td>\n",
       "      <td>...</td>\n",
       "      <td>0.0</td>\n",
       "      <td>0.0</td>\n",
       "      <td>Cash</td>\n",
       "      <td>None</td>\n",
       "      <td>None</td>\n",
       "      <td>None</td>\n",
       "      <td>None</td>\n",
       "      <td>None</td>\n",
       "      <td>None</td>\n",
       "      <td>None</td>\n",
       "    </tr>\n",
       "    <tr>\n",
       "      <th>4</th>\n",
       "      <td>fe73a44f01fdd2a3c740a01f53e97ec2ced93455</td>\n",
       "      <td>0150188f8c8e8973a198d4af0b427fca8ff48df2662d6b...</td>\n",
       "      <td>2013-02-01 07:00:00</td>\n",
       "      <td>2013-02-02 00:00:00</td>\n",
       "      <td>60900</td>\n",
       "      <td>0.0</td>\n",
       "      <td>None</td>\n",
       "      <td>None</td>\n",
       "      <td>NaN</td>\n",
       "      <td>NaN</td>\n",
       "      <td>...</td>\n",
       "      <td>0.0</td>\n",
       "      <td>0.0</td>\n",
       "      <td>Cash</td>\n",
       "      <td>None</td>\n",
       "      <td>None</td>\n",
       "      <td>None</td>\n",
       "      <td>None</td>\n",
       "      <td>None</td>\n",
       "      <td>None</td>\n",
       "      <td>None</td>\n",
       "    </tr>\n",
       "    <tr>\n",
       "      <th>5</th>\n",
       "      <td>e3f992b350122d006ab02bade16f0db85a77efad</td>\n",
       "      <td>0150188f8c8e8973a198d4af0b427fca8ff48df2662d6b...</td>\n",
       "      <td>2013-02-01 07:00:00</td>\n",
       "      <td>2013-02-02 00:00:00</td>\n",
       "      <td>60780</td>\n",
       "      <td>0.0</td>\n",
       "      <td>None</td>\n",
       "      <td>None</td>\n",
       "      <td>NaN</td>\n",
       "      <td>NaN</td>\n",
       "      <td>...</td>\n",
       "      <td>0.0</td>\n",
       "      <td>0.0</td>\n",
       "      <td>Cash</td>\n",
       "      <td>None</td>\n",
       "      <td>None</td>\n",
       "      <td>None</td>\n",
       "      <td>None</td>\n",
       "      <td>None</td>\n",
       "      <td>None</td>\n",
       "      <td>None</td>\n",
       "    </tr>\n",
       "    <tr>\n",
       "      <th>6</th>\n",
       "      <td>90e0d51d20f84ddbeece8c05a21ea031c8812a01</td>\n",
       "      <td>1f3593421771a4a6cc906137e5d3221ed2ab7bef3c2bfa...</td>\n",
       "      <td>2013-02-15 18:00:00</td>\n",
       "      <td>2013-02-15 18:00:00</td>\n",
       "      <td>0</td>\n",
       "      <td>0.0</td>\n",
       "      <td>None</td>\n",
       "      <td>None</td>\n",
       "      <td>NaN</td>\n",
       "      <td>NaN</td>\n",
       "      <td>...</td>\n",
       "      <td>0.0</td>\n",
       "      <td>0.0</td>\n",
       "      <td>Cash</td>\n",
       "      <td>None</td>\n",
       "      <td>None</td>\n",
       "      <td>None</td>\n",
       "      <td>None</td>\n",
       "      <td>None</td>\n",
       "      <td>None</td>\n",
       "      <td>None</td>\n",
       "    </tr>\n",
       "    <tr>\n",
       "      <th>7</th>\n",
       "      <td>ff4a3c7cd1bd70b906eb1ca91d620bfd215dd27e</td>\n",
       "      <td>1f3593421771a4a6cc906137e5d3221ed2ab7bef3c2bfa...</td>\n",
       "      <td>2013-02-15 18:00:00</td>\n",
       "      <td>2013-02-15 18:00:00</td>\n",
       "      <td>0</td>\n",
       "      <td>0.0</td>\n",
       "      <td>None</td>\n",
       "      <td>None</td>\n",
       "      <td>NaN</td>\n",
       "      <td>NaN</td>\n",
       "      <td>...</td>\n",
       "      <td>0.0</td>\n",
       "      <td>0.0</td>\n",
       "      <td>Cash</td>\n",
       "      <td>None</td>\n",
       "      <td>None</td>\n",
       "      <td>None</td>\n",
       "      <td>None</td>\n",
       "      <td>None</td>\n",
       "      <td>None</td>\n",
       "      <td>None</td>\n",
       "    </tr>\n",
       "    <tr>\n",
       "      <th>8</th>\n",
       "      <td>f927054758d789285e2ef73b21751e358bd5f64e</td>\n",
       "      <td>1f3593421771a4a6cc906137e5d3221ed2ab7bef3c2bfa...</td>\n",
       "      <td>2013-02-15 18:00:00</td>\n",
       "      <td>2013-02-15 18:00:00</td>\n",
       "      <td>60</td>\n",
       "      <td>NaN</td>\n",
       "      <td>None</td>\n",
       "      <td>None</td>\n",
       "      <td>NaN</td>\n",
       "      <td>NaN</td>\n",
       "      <td>...</td>\n",
       "      <td>0.0</td>\n",
       "      <td>0.0</td>\n",
       "      <td>Cash</td>\n",
       "      <td>None</td>\n",
       "      <td>None</td>\n",
       "      <td>None</td>\n",
       "      <td>None</td>\n",
       "      <td>None</td>\n",
       "      <td>None</td>\n",
       "      <td>None</td>\n",
       "    </tr>\n",
       "    <tr>\n",
       "      <th>9</th>\n",
       "      <td>95934109e937217408cc935b332e9ee3326b4875</td>\n",
       "      <td>842e2b1cd011fab01b6cc042f40c5941798405df1b3b02...</td>\n",
       "      <td>2013-02-17 06:00:00</td>\n",
       "      <td>2013-02-17 06:15:00</td>\n",
       "      <td>660</td>\n",
       "      <td>NaN</td>\n",
       "      <td>None</td>\n",
       "      <td>None</td>\n",
       "      <td>NaN</td>\n",
       "      <td>NaN</td>\n",
       "      <td>...</td>\n",
       "      <td>0.0</td>\n",
       "      <td>0.0</td>\n",
       "      <td>Cash</td>\n",
       "      <td>None</td>\n",
       "      <td>None</td>\n",
       "      <td>None</td>\n",
       "      <td>None</td>\n",
       "      <td>None</td>\n",
       "      <td>None</td>\n",
       "      <td>None</td>\n",
       "    </tr>\n",
       "  </tbody>\n",
       "</table>\n",
       "<p>10 rows × 23 columns</p>\n",
       "</div>"
      ],
      "text/plain": [
       "                                 unique_key  \\\n",
       "0  5003bdd51918a9b5a52134096663b4d7e02395c5   \n",
       "1  720534d264001b2644f682755b294067fdf1da21   \n",
       "2  515b9a6d5234a4d1fb559dca27b3e1cc541a342d   \n",
       "3  8afd48d966bf464e93127f43b72a8e405596a8eb   \n",
       "4  fe73a44f01fdd2a3c740a01f53e97ec2ced93455   \n",
       "5  e3f992b350122d006ab02bade16f0db85a77efad   \n",
       "6  90e0d51d20f84ddbeece8c05a21ea031c8812a01   \n",
       "7  ff4a3c7cd1bd70b906eb1ca91d620bfd215dd27e   \n",
       "8  f927054758d789285e2ef73b21751e358bd5f64e   \n",
       "9  95934109e937217408cc935b332e9ee3326b4875   \n",
       "\n",
       "                                             taxi_id trip_start_timestamp  \\\n",
       "0  2130bc5fd239a4e3b304662424fb4cc7db0ca7abf78cc5...  2013-02-25 14:15:00   \n",
       "1  4bb55b69e710d1792f5fd4888001f4ff0ce34040f976f8...  2013-06-02 08:15:00   \n",
       "2  4bb55b69e710d1792f5fd4888001f4ff0ce34040f976f8...  2013-06-24 06:15:00   \n",
       "3  0150188f8c8e8973a198d4af0b427fca8ff48df2662d6b...  2013-02-01 07:00:00   \n",
       "4  0150188f8c8e8973a198d4af0b427fca8ff48df2662d6b...  2013-02-01 07:00:00   \n",
       "5  0150188f8c8e8973a198d4af0b427fca8ff48df2662d6b...  2013-02-01 07:00:00   \n",
       "6  1f3593421771a4a6cc906137e5d3221ed2ab7bef3c2bfa...  2013-02-15 18:00:00   \n",
       "7  1f3593421771a4a6cc906137e5d3221ed2ab7bef3c2bfa...  2013-02-15 18:00:00   \n",
       "8  1f3593421771a4a6cc906137e5d3221ed2ab7bef3c2bfa...  2013-02-15 18:00:00   \n",
       "9  842e2b1cd011fab01b6cc042f40c5941798405df1b3b02...  2013-02-17 06:00:00   \n",
       "\n",
       "   trip_end_timestamp  trip_seconds  trip_miles pickup_census_tract  \\\n",
       "0 2013-02-25 14:15:00           120         0.0                None   \n",
       "1 2013-06-02 08:15:00            60         NaN                None   \n",
       "2 2013-06-24 06:15:00            60         NaN                None   \n",
       "3 2013-02-02 00:00:00         61560         0.0                None   \n",
       "4 2013-02-02 00:00:00         60900         0.0                None   \n",
       "5 2013-02-02 00:00:00         60780         0.0                None   \n",
       "6 2013-02-15 18:00:00             0         0.0                None   \n",
       "7 2013-02-15 18:00:00             0         0.0                None   \n",
       "8 2013-02-15 18:00:00            60         NaN                None   \n",
       "9 2013-02-17 06:15:00           660         NaN                None   \n",
       "\n",
       "  dropoff_census_tract  pickup_community_area  dropoff_community_area  ...  \\\n",
       "0                 None                    NaN                     NaN  ...   \n",
       "1                 None                    NaN                     NaN  ...   \n",
       "2                 None                    1.0                    77.0  ...   \n",
       "3                 None                    NaN                     NaN  ...   \n",
       "4                 None                    NaN                     NaN  ...   \n",
       "5                 None                    NaN                     NaN  ...   \n",
       "6                 None                    NaN                     NaN  ...   \n",
       "7                 None                    NaN                     NaN  ...   \n",
       "8                 None                    NaN                     NaN  ...   \n",
       "9                 None                    NaN                     NaN  ...   \n",
       "\n",
       "   extras  trip_total  payment_type  company  pickup_latitude  \\\n",
       "0     NaN         NaN          Cash     None             None   \n",
       "1     NaN         NaN          Cash     None             None   \n",
       "2     NaN         NaN          Cash     None     42.009622881   \n",
       "3     0.0         0.0          Cash     None             None   \n",
       "4     0.0         0.0          Cash     None             None   \n",
       "5     0.0         0.0          Cash     None             None   \n",
       "6     0.0         0.0          Cash     None             None   \n",
       "7     0.0         0.0          Cash     None             None   \n",
       "8     0.0         0.0          Cash     None             None   \n",
       "9     0.0         0.0          Cash     None             None   \n",
       "\n",
       "  pickup_longitude                           pickup_location dropoff_latitude  \\\n",
       "0             None                                      None             None   \n",
       "1             None                                      None             None   \n",
       "2    -87.670166857  POINT (-87.67016685690001 42.0096228806)       41.9867118   \n",
       "3             None                                      None             None   \n",
       "4             None                                      None             None   \n",
       "5             None                                      None             None   \n",
       "6             None                                      None             None   \n",
       "7             None                                      None             None   \n",
       "8             None                                      None             None   \n",
       "9             None                                      None             None   \n",
       "\n",
       "  dropoff_longitude                      dropoff_location  \n",
       "0              None                                  None  \n",
       "1              None                                  None  \n",
       "2     -87.663416405  POINT (-87.6634164054 41.9867117999)  \n",
       "3              None                                  None  \n",
       "4              None                                  None  \n",
       "5              None                                  None  \n",
       "6              None                                  None  \n",
       "7              None                                  None  \n",
       "8              None                                  None  \n",
       "9              None                                  None  \n",
       "\n",
       "[10 rows x 23 columns]"
      ]
     },
     "execution_count": 4,
     "metadata": {},
     "output_type": "execute_result"
    }
   ],
   "source": [
    "taxi_all_years.limit(10).toPandas()"
   ]
  },
  {
   "cell_type": "markdown",
   "id": "b27c2464-2829-46f9-a62d-c28ee754b1bb",
   "metadata": {},
   "source": [
    "#### Filter only data between 2018 and 2023"
   ]
  },
  {
   "cell_type": "code",
   "execution_count": 5,
   "id": "92bc5950-da3f-4402-86d4-f594cd4b884a",
   "metadata": {},
   "outputs": [],
   "source": [
    "from pyspark.sql.functions import year, col\n",
    "\n",
    "start_year = (year(col(\"trip_start_timestamp\")) >= 2018)\n",
    "end_year = (year(col(\"trip_end_timestamp\")) <= 2023)\n",
    "taxi_trips = taxi_all_years.filter(start_year & end_year)"
   ]
  },
  {
   "cell_type": "code",
   "execution_count": 6,
   "id": "18d7a906-4eba-4ea9-bf15-140483771eea",
   "metadata": {},
   "outputs": [
    {
     "name": "stderr",
     "output_type": "stream",
     "text": [
      "                                                                                \r"
     ]
    },
    {
     "data": {
      "text/html": [
       "<div>\n",
       "<style scoped>\n",
       "    .dataframe tbody tr th:only-of-type {\n",
       "        vertical-align: middle;\n",
       "    }\n",
       "\n",
       "    .dataframe tbody tr th {\n",
       "        vertical-align: top;\n",
       "    }\n",
       "\n",
       "    .dataframe thead th {\n",
       "        text-align: right;\n",
       "    }\n",
       "</style>\n",
       "<table border=\"1\" class=\"dataframe\">\n",
       "  <thead>\n",
       "    <tr style=\"text-align: right;\">\n",
       "      <th></th>\n",
       "      <th>unique_key</th>\n",
       "      <th>taxi_id</th>\n",
       "      <th>trip_start_timestamp</th>\n",
       "      <th>trip_end_timestamp</th>\n",
       "      <th>trip_seconds</th>\n",
       "      <th>trip_miles</th>\n",
       "      <th>pickup_census_tract</th>\n",
       "      <th>dropoff_census_tract</th>\n",
       "      <th>pickup_community_area</th>\n",
       "      <th>dropoff_community_area</th>\n",
       "      <th>...</th>\n",
       "      <th>extras</th>\n",
       "      <th>trip_total</th>\n",
       "      <th>payment_type</th>\n",
       "      <th>company</th>\n",
       "      <th>pickup_latitude</th>\n",
       "      <th>pickup_longitude</th>\n",
       "      <th>pickup_location</th>\n",
       "      <th>dropoff_latitude</th>\n",
       "      <th>dropoff_longitude</th>\n",
       "      <th>dropoff_location</th>\n",
       "    </tr>\n",
       "  </thead>\n",
       "  <tbody>\n",
       "    <tr>\n",
       "      <th>0</th>\n",
       "      <td>5290649a65d2501064d8d39c53e0c1206347c67b</td>\n",
       "      <td>883e86111c7bebb7bdd41cbcac8ebbcc1172fe7464b90f...</td>\n",
       "      <td>2019-12-13 09:30:00</td>\n",
       "      <td>2019-12-13 09:45:00</td>\n",
       "      <td>404</td>\n",
       "      <td>NaN</td>\n",
       "      <td>None</td>\n",
       "      <td>None</td>\n",
       "      <td>NaN</td>\n",
       "      <td>NaN</td>\n",
       "      <td>...</td>\n",
       "      <td>1</td>\n",
       "      <td>NaN</td>\n",
       "      <td>Cash</td>\n",
       "      <td>Flash Cab</td>\n",
       "      <td>None</td>\n",
       "      <td>None</td>\n",
       "      <td>None</td>\n",
       "      <td>None</td>\n",
       "      <td>None</td>\n",
       "      <td>None</td>\n",
       "    </tr>\n",
       "    <tr>\n",
       "      <th>1</th>\n",
       "      <td>53b7935d29bfae1ce438d7cd29fd23bf6541ca41</td>\n",
       "      <td>5e00ac77728ae1790a517495300680a2ff69fe9a569218...</td>\n",
       "      <td>2019-12-18 14:00:00</td>\n",
       "      <td>2019-12-18 14:00:00</td>\n",
       "      <td>37</td>\n",
       "      <td>0.0</td>\n",
       "      <td>None</td>\n",
       "      <td>None</td>\n",
       "      <td>NaN</td>\n",
       "      <td>NaN</td>\n",
       "      <td>...</td>\n",
       "      <td>0</td>\n",
       "      <td>NaN</td>\n",
       "      <td>Cash</td>\n",
       "      <td>Flash Cab</td>\n",
       "      <td>None</td>\n",
       "      <td>None</td>\n",
       "      <td>None</td>\n",
       "      <td>None</td>\n",
       "      <td>None</td>\n",
       "      <td>None</td>\n",
       "    </tr>\n",
       "    <tr>\n",
       "      <th>2</th>\n",
       "      <td>53c4edd49b2a26df6b88afb0904cb9306571af20</td>\n",
       "      <td>55af2e70fd4624a43fea70121974c54db44c8e7582ce3d...</td>\n",
       "      <td>2019-12-01 12:00:00</td>\n",
       "      <td>2019-12-01 12:15:00</td>\n",
       "      <td>480</td>\n",
       "      <td>0.0</td>\n",
       "      <td>None</td>\n",
       "      <td>None</td>\n",
       "      <td>NaN</td>\n",
       "      <td>NaN</td>\n",
       "      <td>...</td>\n",
       "      <td>0</td>\n",
       "      <td>NaN</td>\n",
       "      <td>Cash</td>\n",
       "      <td>Blue Ribbon Taxi Association Inc.</td>\n",
       "      <td>None</td>\n",
       "      <td>None</td>\n",
       "      <td>None</td>\n",
       "      <td>None</td>\n",
       "      <td>None</td>\n",
       "      <td>None</td>\n",
       "    </tr>\n",
       "    <tr>\n",
       "      <th>3</th>\n",
       "      <td>53b0ac3da64a6dd0237a17aab7e5ac93e558d529</td>\n",
       "      <td>8023557dc87c352423d1acd20c4f6e8390d29f01902c23...</td>\n",
       "      <td>2019-12-23 12:15:00</td>\n",
       "      <td>2019-12-23 12:15:00</td>\n",
       "      <td>0</td>\n",
       "      <td>0.0</td>\n",
       "      <td>None</td>\n",
       "      <td>None</td>\n",
       "      <td>NaN</td>\n",
       "      <td>NaN</td>\n",
       "      <td>...</td>\n",
       "      <td>4</td>\n",
       "      <td>NaN</td>\n",
       "      <td>Cash</td>\n",
       "      <td>Star North Management LLC</td>\n",
       "      <td>None</td>\n",
       "      <td>None</td>\n",
       "      <td>None</td>\n",
       "      <td>None</td>\n",
       "      <td>None</td>\n",
       "      <td>None</td>\n",
       "    </tr>\n",
       "    <tr>\n",
       "      <th>4</th>\n",
       "      <td>5296a3e6eaac88f70a45806e5ee24d6cd4828261</td>\n",
       "      <td>e39f9fb04c45fac83b35fbc9c36b68ba97cdf877dd76fd...</td>\n",
       "      <td>2019-12-05 12:00:00</td>\n",
       "      <td>2019-12-05 12:00:00</td>\n",
       "      <td>180</td>\n",
       "      <td>NaN</td>\n",
       "      <td>None</td>\n",
       "      <td>None</td>\n",
       "      <td>NaN</td>\n",
       "      <td>NaN</td>\n",
       "      <td>...</td>\n",
       "      <td>0</td>\n",
       "      <td>7.0</td>\n",
       "      <td>Credit Card</td>\n",
       "      <td>Taxicab Insurance Agency, LLC</td>\n",
       "      <td>None</td>\n",
       "      <td>None</td>\n",
       "      <td>None</td>\n",
       "      <td>None</td>\n",
       "      <td>None</td>\n",
       "      <td>None</td>\n",
       "    </tr>\n",
       "    <tr>\n",
       "      <th>5</th>\n",
       "      <td>5253c0e121214173cd918a11a5f78557003a287f</td>\n",
       "      <td>6b13f64954003e46e0831bab52e2593cacb51d69a49be6...</td>\n",
       "      <td>2019-12-21 11:00:00</td>\n",
       "      <td>2019-12-21 11:30:00</td>\n",
       "      <td>2089</td>\n",
       "      <td>NaN</td>\n",
       "      <td>None</td>\n",
       "      <td>None</td>\n",
       "      <td>NaN</td>\n",
       "      <td>NaN</td>\n",
       "      <td>...</td>\n",
       "      <td>1</td>\n",
       "      <td>NaN</td>\n",
       "      <td>Credit Card</td>\n",
       "      <td>Flash Cab</td>\n",
       "      <td>None</td>\n",
       "      <td>None</td>\n",
       "      <td>None</td>\n",
       "      <td>None</td>\n",
       "      <td>None</td>\n",
       "      <td>None</td>\n",
       "    </tr>\n",
       "    <tr>\n",
       "      <th>6</th>\n",
       "      <td>52f116b84bc70cf34ce75ceca0178e02b78aa65d</td>\n",
       "      <td>4563c3624d5325c354809e64158cc6d81e8f2254128a84...</td>\n",
       "      <td>2019-12-12 18:45:00</td>\n",
       "      <td>2019-12-12 18:45:00</td>\n",
       "      <td>361</td>\n",
       "      <td>NaN</td>\n",
       "      <td>None</td>\n",
       "      <td>None</td>\n",
       "      <td>NaN</td>\n",
       "      <td>NaN</td>\n",
       "      <td>...</td>\n",
       "      <td>2</td>\n",
       "      <td>NaN</td>\n",
       "      <td>Credit Card</td>\n",
       "      <td>Flash Cab</td>\n",
       "      <td>None</td>\n",
       "      <td>None</td>\n",
       "      <td>None</td>\n",
       "      <td>None</td>\n",
       "      <td>None</td>\n",
       "      <td>None</td>\n",
       "    </tr>\n",
       "    <tr>\n",
       "      <th>7</th>\n",
       "      <td>525828b52def908b4dcba7fe9e568bf05e123430</td>\n",
       "      <td>d0653a3c1a990641559a9e6e7c0e07db3765fe11e48ad7...</td>\n",
       "      <td>2019-12-22 01:15:00</td>\n",
       "      <td>2019-12-22 01:45:00</td>\n",
       "      <td>1680</td>\n",
       "      <td>NaN</td>\n",
       "      <td>None</td>\n",
       "      <td>None</td>\n",
       "      <td>NaN</td>\n",
       "      <td>NaN</td>\n",
       "      <td>...</td>\n",
       "      <td>4</td>\n",
       "      <td>NaN</td>\n",
       "      <td>Cash</td>\n",
       "      <td>Choice Taxi Association</td>\n",
       "      <td>None</td>\n",
       "      <td>None</td>\n",
       "      <td>None</td>\n",
       "      <td>None</td>\n",
       "      <td>None</td>\n",
       "      <td>None</td>\n",
       "    </tr>\n",
       "    <tr>\n",
       "      <th>8</th>\n",
       "      <td>53617484016e459524736f782632d3a7695ce16b</td>\n",
       "      <td>8195103b539d970548a1674c838870eaca8e1237aca990...</td>\n",
       "      <td>2019-12-20 19:15:00</td>\n",
       "      <td>2019-12-20 19:30:00</td>\n",
       "      <td>857</td>\n",
       "      <td>NaN</td>\n",
       "      <td>None</td>\n",
       "      <td>None</td>\n",
       "      <td>NaN</td>\n",
       "      <td>NaN</td>\n",
       "      <td>...</td>\n",
       "      <td>1</td>\n",
       "      <td>16.0</td>\n",
       "      <td>Credit Card</td>\n",
       "      <td>Flash Cab</td>\n",
       "      <td>None</td>\n",
       "      <td>None</td>\n",
       "      <td>None</td>\n",
       "      <td>None</td>\n",
       "      <td>None</td>\n",
       "      <td>None</td>\n",
       "    </tr>\n",
       "    <tr>\n",
       "      <th>9</th>\n",
       "      <td>53c7396bdeafabff72744c7e3f8b821116570aa6</td>\n",
       "      <td>5cffb97a6fd517bd5bc14f2d55ded4698066eb285e8c02...</td>\n",
       "      <td>2019-12-03 00:15:00</td>\n",
       "      <td>2019-12-03 00:30:00</td>\n",
       "      <td>1059</td>\n",
       "      <td>NaN</td>\n",
       "      <td>None</td>\n",
       "      <td>None</td>\n",
       "      <td>NaN</td>\n",
       "      <td>NaN</td>\n",
       "      <td>...</td>\n",
       "      <td>0</td>\n",
       "      <td>NaN</td>\n",
       "      <td>Credit Card</td>\n",
       "      <td>Flash Cab</td>\n",
       "      <td>None</td>\n",
       "      <td>None</td>\n",
       "      <td>None</td>\n",
       "      <td>None</td>\n",
       "      <td>None</td>\n",
       "      <td>None</td>\n",
       "    </tr>\n",
       "  </tbody>\n",
       "</table>\n",
       "<p>10 rows × 23 columns</p>\n",
       "</div>"
      ],
      "text/plain": [
       "                                 unique_key  \\\n",
       "0  5290649a65d2501064d8d39c53e0c1206347c67b   \n",
       "1  53b7935d29bfae1ce438d7cd29fd23bf6541ca41   \n",
       "2  53c4edd49b2a26df6b88afb0904cb9306571af20   \n",
       "3  53b0ac3da64a6dd0237a17aab7e5ac93e558d529   \n",
       "4  5296a3e6eaac88f70a45806e5ee24d6cd4828261   \n",
       "5  5253c0e121214173cd918a11a5f78557003a287f   \n",
       "6  52f116b84bc70cf34ce75ceca0178e02b78aa65d   \n",
       "7  525828b52def908b4dcba7fe9e568bf05e123430   \n",
       "8  53617484016e459524736f782632d3a7695ce16b   \n",
       "9  53c7396bdeafabff72744c7e3f8b821116570aa6   \n",
       "\n",
       "                                             taxi_id trip_start_timestamp  \\\n",
       "0  883e86111c7bebb7bdd41cbcac8ebbcc1172fe7464b90f...  2019-12-13 09:30:00   \n",
       "1  5e00ac77728ae1790a517495300680a2ff69fe9a569218...  2019-12-18 14:00:00   \n",
       "2  55af2e70fd4624a43fea70121974c54db44c8e7582ce3d...  2019-12-01 12:00:00   \n",
       "3  8023557dc87c352423d1acd20c4f6e8390d29f01902c23...  2019-12-23 12:15:00   \n",
       "4  e39f9fb04c45fac83b35fbc9c36b68ba97cdf877dd76fd...  2019-12-05 12:00:00   \n",
       "5  6b13f64954003e46e0831bab52e2593cacb51d69a49be6...  2019-12-21 11:00:00   \n",
       "6  4563c3624d5325c354809e64158cc6d81e8f2254128a84...  2019-12-12 18:45:00   \n",
       "7  d0653a3c1a990641559a9e6e7c0e07db3765fe11e48ad7...  2019-12-22 01:15:00   \n",
       "8  8195103b539d970548a1674c838870eaca8e1237aca990...  2019-12-20 19:15:00   \n",
       "9  5cffb97a6fd517bd5bc14f2d55ded4698066eb285e8c02...  2019-12-03 00:15:00   \n",
       "\n",
       "   trip_end_timestamp  trip_seconds  trip_miles pickup_census_tract  \\\n",
       "0 2019-12-13 09:45:00           404         NaN                None   \n",
       "1 2019-12-18 14:00:00            37         0.0                None   \n",
       "2 2019-12-01 12:15:00           480         0.0                None   \n",
       "3 2019-12-23 12:15:00             0         0.0                None   \n",
       "4 2019-12-05 12:00:00           180         NaN                None   \n",
       "5 2019-12-21 11:30:00          2089         NaN                None   \n",
       "6 2019-12-12 18:45:00           361         NaN                None   \n",
       "7 2019-12-22 01:45:00          1680         NaN                None   \n",
       "8 2019-12-20 19:30:00           857         NaN                None   \n",
       "9 2019-12-03 00:30:00          1059         NaN                None   \n",
       "\n",
       "  dropoff_census_tract  pickup_community_area  dropoff_community_area  ...  \\\n",
       "0                 None                    NaN                     NaN  ...   \n",
       "1                 None                    NaN                     NaN  ...   \n",
       "2                 None                    NaN                     NaN  ...   \n",
       "3                 None                    NaN                     NaN  ...   \n",
       "4                 None                    NaN                     NaN  ...   \n",
       "5                 None                    NaN                     NaN  ...   \n",
       "6                 None                    NaN                     NaN  ...   \n",
       "7                 None                    NaN                     NaN  ...   \n",
       "8                 None                    NaN                     NaN  ...   \n",
       "9                 None                    NaN                     NaN  ...   \n",
       "\n",
       "   extras  trip_total  payment_type                            company  \\\n",
       "0       1         NaN          Cash                          Flash Cab   \n",
       "1       0         NaN          Cash                          Flash Cab   \n",
       "2       0         NaN          Cash  Blue Ribbon Taxi Association Inc.   \n",
       "3       4         NaN          Cash          Star North Management LLC   \n",
       "4       0         7.0   Credit Card      Taxicab Insurance Agency, LLC   \n",
       "5       1         NaN   Credit Card                          Flash Cab   \n",
       "6       2         NaN   Credit Card                          Flash Cab   \n",
       "7       4         NaN          Cash            Choice Taxi Association   \n",
       "8       1        16.0   Credit Card                          Flash Cab   \n",
       "9       0         NaN   Credit Card                          Flash Cab   \n",
       "\n",
       "   pickup_latitude pickup_longitude pickup_location dropoff_latitude  \\\n",
       "0             None             None            None             None   \n",
       "1             None             None            None             None   \n",
       "2             None             None            None             None   \n",
       "3             None             None            None             None   \n",
       "4             None             None            None             None   \n",
       "5             None             None            None             None   \n",
       "6             None             None            None             None   \n",
       "7             None             None            None             None   \n",
       "8             None             None            None             None   \n",
       "9             None             None            None             None   \n",
       "\n",
       "  dropoff_longitude dropoff_location  \n",
       "0              None             None  \n",
       "1              None             None  \n",
       "2              None             None  \n",
       "3              None             None  \n",
       "4              None             None  \n",
       "5              None             None  \n",
       "6              None             None  \n",
       "7              None             None  \n",
       "8              None             None  \n",
       "9              None             None  \n",
       "\n",
       "[10 rows x 23 columns]"
      ]
     },
     "execution_count": 6,
     "metadata": {},
     "output_type": "execute_result"
    }
   ],
   "source": [
    "taxi_trips.limit(10).toPandas()"
   ]
  },
  {
   "cell_type": "markdown",
   "id": "b110ec74-455e-4a9b-8e46-616cae2187dc",
   "metadata": {},
   "source": [
    "#### Dropping pickup_census_tract and dropoff_census_tract\n",
    "These 2 columns contains a lot of missing data that is purposely left blank for privacy. As you can see from the dataframe below, more than half of pickup_census_tract and dropoff_census_tract are missing. Because of this, as well as the size of a census track that is too granular a scale for our purpose, we will drop the census tract columns and use pickup_community_area and dropoff_community_area, which is more populated as an indicator for locations in Chicago."
   ]
  },
  {
   "cell_type": "code",
   "execution_count": 7,
   "id": "925a0131-e550-49b1-a09d-63ce63edf2cc",
   "metadata": {},
   "outputs": [
    {
     "name": "stderr",
     "output_type": "stream",
     "text": [
      "                                                                                \r"
     ]
    },
    {
     "data": {
      "text/html": [
       "<div>\n",
       "<style scoped>\n",
       "    .dataframe tbody tr th:only-of-type {\n",
       "        vertical-align: middle;\n",
       "    }\n",
       "\n",
       "    .dataframe tbody tr th {\n",
       "        vertical-align: top;\n",
       "    }\n",
       "\n",
       "    .dataframe thead th {\n",
       "        text-align: right;\n",
       "    }\n",
       "</style>\n",
       "<table border=\"1\" class=\"dataframe\">\n",
       "  <thead>\n",
       "    <tr style=\"text-align: right;\">\n",
       "      <th></th>\n",
       "      <th>total_trip_count</th>\n",
       "      <th>pickup_census_tract_null_count</th>\n",
       "      <th>dropoff_census_tract_null_count</th>\n",
       "      <th>pickup_community_area_null_count</th>\n",
       "      <th>dropoff_community_area_null_count</th>\n",
       "    </tr>\n",
       "  </thead>\n",
       "  <tbody>\n",
       "    <tr>\n",
       "      <th>0</th>\n",
       "      <td>25347250</td>\n",
       "      <td>13799907</td>\n",
       "      <td>13736014</td>\n",
       "      <td>3079528</td>\n",
       "      <td>3603842</td>\n",
       "    </tr>\n",
       "  </tbody>\n",
       "</table>\n",
       "</div>"
      ],
      "text/plain": [
       "   total_trip_count  pickup_census_tract_null_count  \\\n",
       "0          25347250                        13799907   \n",
       "\n",
       "   dropoff_census_tract_null_count  pickup_community_area_null_count  \\\n",
       "0                         13736014                           3079528   \n",
       "\n",
       "   dropoff_community_area_null_count  \n",
       "0                            3603842  "
      ]
     },
     "execution_count": 7,
     "metadata": {},
     "output_type": "execute_result"
    }
   ],
   "source": [
    "from pyspark.sql.functions import sum, count\n",
    "\n",
    "\n",
    "null_counts_df = taxi_trips.select(\n",
    "    count(\"*\").alias(\"total_trip_count\"),\n",
    "    sum(col(\"pickup_census_tract\").isNull().cast(\"int\")).alias(\"pickup_census_tract_null_count\"),\n",
    "    sum(col(\"dropoff_census_tract\").isNull().cast(\"int\")).alias(\"dropoff_census_tract_null_count\"),\n",
    "    sum(col(\"pickup_community_area\").isNull().cast(\"int\")).alias(\"pickup_community_area_null_count\"),\n",
    "    sum(col(\"dropoff_community_area\").isNull().cast(\"int\")).alias(\"dropoff_community_area_null_count\")\n",
    ")\n",
    "\n",
    "null_counts_df.toPandas()"
   ]
  },
  {
   "cell_type": "code",
   "execution_count": 8,
   "id": "b34e686f-c4b3-4ce6-851c-97093da25d4b",
   "metadata": {},
   "outputs": [],
   "source": [
    "taxi_trips = taxi_trips.drop(\"pickup_census_tract\", \"dropoff_census_tract\")"
   ]
  },
  {
   "cell_type": "markdown",
   "id": "bd8ab923-03ed-43f8-80e3-563b03264c42",
   "metadata": {},
   "source": [
    "#### Rename `unique_key` column to `trip_id`"
   ]
  },
  {
   "cell_type": "code",
   "execution_count": 9,
   "id": "b546e7ab-a7b0-4f69-a83f-613015d97890",
   "metadata": {},
   "outputs": [
    {
     "data": {
      "text/plain": [
       "StructType([StructField('trip_id', StringType(), True), StructField('taxi_id', StringType(), True), StructField('trip_start_timestamp', TimestampType(), True), StructField('trip_end_timestamp', TimestampType(), True), StructField('trip_seconds', IntegerType(), True), StructField('trip_miles', IntegerType(), True), StructField('pickup_community_area', IntegerType(), True), StructField('dropoff_community_area', IntegerType(), True), StructField('fare', IntegerType(), True), StructField('tips', IntegerType(), True), StructField('tolls', IntegerType(), True), StructField('extras', IntegerType(), True), StructField('trip_total', IntegerType(), True), StructField('payment_type', StringType(), True), StructField('company', StringType(), True), StructField('pickup_latitude', StringType(), True), StructField('pickup_longitude', StringType(), True), StructField('pickup_location', StringType(), True), StructField('dropoff_latitude', StringType(), True), StructField('dropoff_longitude', StringType(), True), StructField('dropoff_location', StringType(), True)])"
      ]
     },
     "execution_count": 9,
     "metadata": {},
     "output_type": "execute_result"
    }
   ],
   "source": [
    "taxi_trips = taxi_trips.withColumnRenamed(\"unique_key\", \"trip_id\")\n",
    "taxi_trips.schema"
   ]
  },
  {
   "cell_type": "markdown",
   "id": "46ec50c9-047d-43e2-8d47-77157e285ed6",
   "metadata": {},
   "source": [
    "#### Filter rows where the `trip_seconds` is too short\n",
    "Some rows has trip second that doesn't last more than 1 minute, which we found unlikely for a taxi trip to be that short. We think that this is most likely due to mistakes in data reporting, meter errors, or some other factors which does not reflect the taxi services or demands. We decide to use 60 seconds as a threshold where any trip under 60 seconds is considered to be an error in data collection."
   ]
  },
  {
   "cell_type": "code",
   "execution_count": 10,
   "id": "9c27667e-4d6d-463a-bae9-fb6642636f60",
   "metadata": {},
   "outputs": [],
   "source": [
    "taxi_trips = taxi_trips.where(col(\"trip_seconds\") >= 60)"
   ]
  },
  {
   "cell_type": "markdown",
   "id": "eef1acd0-24e7-47dc-bcdd-78ce62006565",
   "metadata": {},
   "source": [
    "#### Convert the the unit for trip duration from seconds to minute\n",
    "Second isn't the usual unit we would use to describe a trip duration. We will use minute instead considering that it is not as granular as second, and a taxi trip rarely goes over an hour. Any reminder from calculating the minute will be rounded to the nearest minute."
   ]
  },
  {
   "cell_type": "code",
   "execution_count": 11,
   "id": "c96f377a-af05-4a91-a0b3-e514869e12aa",
   "metadata": {},
   "outputs": [],
   "source": [
    "from pyspark.sql.functions import round\n",
    "\n",
    "taxi_trips = taxi_trips.withColumn(\"trip_minutes\", round(col(\"trip_seconds\") / 60).cast(IntegerType())).drop(\"trip_seconds\")"
   ]
  },
  {
   "cell_type": "markdown",
   "id": "430b9a74-6f63-44c6-8d12-3aac6449301d",
   "metadata": {},
   "source": [
    "#### Replace `NULL` community area columns with -1\n",
    "Since the missing value in pickup_community_area and dropoff_community_area means that the location is outside of Chicago, not that the data is actually missing, we will replace it with a value -1 instead."
   ]
  },
  {
   "cell_type": "code",
   "execution_count": 12,
   "id": "d5ad6ef4-c08f-4f89-af74-d61646680f50",
   "metadata": {},
   "outputs": [],
   "source": [
    "taxi_trips = taxi_trips.fillna({\"pickup_community_area\": -1, \"dropoff_community_area\": -1})"
   ]
  },
  {
   "cell_type": "markdown",
   "id": "5f74db38-7a41-438b-9d1d-115fa0eed624",
   "metadata": {},
   "source": [
    "#### Cache `taxi_trips` dataframe"
   ]
  },
  {
   "cell_type": "code",
   "execution_count": 13,
   "id": "62a9b67f-7ee7-481b-ac49-55ef2b253104",
   "metadata": {},
   "outputs": [
    {
     "data": {
      "text/plain": [
       "DataFrame[trip_id: string, taxi_id: string, trip_start_timestamp: timestamp, trip_end_timestamp: timestamp, trip_miles: int, pickup_community_area: int, dropoff_community_area: int, fare: int, tips: int, tolls: int, extras: int, trip_total: int, payment_type: string, company: string, pickup_latitude: string, pickup_longitude: string, pickup_location: string, dropoff_latitude: string, dropoff_longitude: string, dropoff_location: string, trip_minutes: int]"
      ]
     },
     "execution_count": 13,
     "metadata": {},
     "output_type": "execute_result"
    }
   ],
   "source": [
    "taxi_trips.cache()"
   ]
  },
  {
   "cell_type": "markdown",
   "id": "f1d858a5-01d0-4a2a-9da3-3337a325755d",
   "metadata": {},
   "source": [
    "### Community Area Dataset"
   ]
  },
  {
   "cell_type": "code",
   "execution_count": 14,
   "id": "c4e8236a-7210-430a-a03e-e77511fcc47b",
   "metadata": {},
   "outputs": [],
   "source": [
    "community_area_schema = StructType([StructField('the_geom', StringType(), True), \n",
    "                                    StructField('PERIMETER', StringType(), True), \n",
    "                                    StructField('AREA', StringType(), True), \n",
    "                                    StructField('COMAREA_', StringType(), True), \n",
    "                                    StructField('COMAREA_ID', StringType(), True), \n",
    "                                    StructField('AREA_NUMBE', IntegerType(), True), \n",
    "                                    StructField('COMMUNITY', StringType(), True), \n",
    "                                    StructField('AREA_NUM_1', IntegerType(), True), \n",
    "                                    StructField('SHAPE_AREA', StringType(), True), \n",
    "                                    StructField('SHAPE_LEN', StringType(), True)])\n",
    "\n",
    "community_areas = spark.read.format(\"csv\").option(\"header\", \"true\").schema(community_area_schema).csv(\"gs://qstba843-team2/data/chicago-taxi-trip/community_area.csv\")"
   ]
  },
  {
   "cell_type": "markdown",
   "id": "81ad5bb1-6a73-4a30-b0b8-a24aadf8bfd1",
   "metadata": {},
   "source": [
    "#### Drop columns with missing values and duplicate values\n",
    "All rows of `PERIMETER`, `AREA`, `COMAREA_`, and `COMAREA_ID` columns contains the same value 0, which implies that the data is missing, so there is no use to them. `AREA_NUM_1` column is a duplicte of `AREA_NUMBE` column. We will drop these 5 columns."
   ]
  },
  {
   "cell_type": "code",
   "execution_count": 15,
   "id": "42bda9d6-5836-4253-a94f-b162b066a313",
   "metadata": {},
   "outputs": [
    {
     "name": "stdout",
     "output_type": "stream",
     "text": [
      "+---------+\n",
      "|PERIMETER|\n",
      "+---------+\n",
      "|        0|\n",
      "+---------+\n",
      "\n",
      "+----+\n",
      "|AREA|\n",
      "+----+\n",
      "|   0|\n",
      "+----+\n",
      "\n",
      "+--------+\n",
      "|COMAREA_|\n",
      "+--------+\n",
      "|       0|\n",
      "+--------+\n",
      "\n",
      "+----------+\n",
      "|COMAREA_ID|\n",
      "+----------+\n",
      "|         0|\n",
      "+----------+\n",
      "\n"
     ]
    }
   ],
   "source": [
    "community_areas.select(\"PERIMETER\").distinct().show()\n",
    "community_areas.select(\"AREA\").distinct().show()\n",
    "community_areas.select(\"COMAREA_\").distinct().show()\n",
    "community_areas.select(\"COMAREA_ID\").distinct().show()"
   ]
  },
  {
   "cell_type": "code",
   "execution_count": 16,
   "id": "4c95c272-c730-4678-aad0-b140d587c248",
   "metadata": {},
   "outputs": [],
   "source": [
    "community_areas = community_areas.drop(\"PERIMETER\", \"AREA\", \"COMAREA_\", \"COMAREA_ID\", \"AREA_NUM_1\")"
   ]
  },
  {
   "cell_type": "markdown",
   "id": "3d895d6e-ec05-407e-8fd1-2b281c9f61a0",
   "metadata": {},
   "source": [
    "#### Add a row to indicate a placeholder community area outside of Chicago"
   ]
  },
  {
   "cell_type": "code",
   "execution_count": 17,
   "id": "e5f0267b-31b1-4967-a4db-3d5506f56ced",
   "metadata": {},
   "outputs": [
    {
     "data": {
      "text/plain": [
       "StructType([StructField('the_geom', StringType(), True), StructField('AREA_NUMBE', IntegerType(), True), StructField('COMMUNITY', StringType(), True), StructField('SHAPE_AREA', StringType(), True), StructField('SHAPE_LEN', StringType(), True)])"
      ]
     },
     "execution_count": 17,
     "metadata": {},
     "output_type": "execute_result"
    }
   ],
   "source": [
    "community_areas.schema"
   ]
  },
  {
   "cell_type": "code",
   "execution_count": 18,
   "id": "c4b84a36-af4a-4358-9cf8-8a60bb27c8b1",
   "metadata": {},
   "outputs": [],
   "source": [
    "from pyspark.sql import Row\n",
    "\n",
    "community_areas = community_areas.union(spark.createDataFrame([Row(the_geom=None, AREA_NUMBE=-1, COMMUNITY=\"Outside of Chicago\", SHAPE_AREA=None, SHAPE_LEN=None)], schema=community_areas.schema))"
   ]
  },
  {
   "cell_type": "markdown",
   "id": "8b79477a-acc3-4bf9-9bfb-6ba10d457300",
   "metadata": {},
   "source": [
    "#### Cache `community_areas` dataframe"
   ]
  },
  {
   "cell_type": "code",
   "execution_count": 19,
   "id": "04e182fa-2ce4-4d45-a1d8-bb0368ad687a",
   "metadata": {},
   "outputs": [
    {
     "data": {
      "text/plain": [
       "DataFrame[the_geom: string, AREA_NUMBE: int, COMMUNITY: string, SHAPE_AREA: string, SHAPE_LEN: string]"
      ]
     },
     "execution_count": 19,
     "metadata": {},
     "output_type": "execute_result"
    }
   ],
   "source": [
    "community_areas.cache()"
   ]
  },
  {
   "cell_type": "code",
   "execution_count": 50,
   "id": "782f6429-736a-4d9e-a88d-a3ca18047c95",
   "metadata": {},
   "outputs": [
    {
     "name": "stderr",
     "output_type": "stream",
     "text": [
      "                                                                                \r"
     ]
    },
    {
     "name": "stdout",
     "output_type": "stream",
     "text": [
      "5165\n"
     ]
    },
    {
     "name": "stderr",
     "output_type": "stream",
     "text": [
      "[Stage 165:====================================================>(287 + 1) / 291]\r"
     ]
    },
    {
     "name": "stdout",
     "output_type": "stream",
     "text": [
      "+---------------------+----------------------+------------------+\n",
      "|pickup_community_area|dropoff_community_area|average_trip_miles|\n",
      "+---------------------+----------------------+------------------+\n",
      "|                   33|                     8|1.5720990873533247|\n",
      "|                   32|                    68| 4.157894736842105|\n",
      "|                   32|                     8|0.4724402741278042|\n",
      "|                   44|                     8| 7.162222222222222|\n",
      "|                   28|                    68| 4.403409090909091|\n",
      "+---------------------+----------------------+------------------+\n",
      "only showing top 5 rows\n",
      "\n",
      "None\n"
     ]
    },
    {
     "name": "stderr",
     "output_type": "stream",
     "text": [
      "                                                                                \r"
     ]
    }
   ],
   "source": [
    "from pyspark.sql.functions import avg\n",
    "average_trip_miles = taxi_trips.select(col(\"pickup_community_area\"), col(\"dropoff_community_area\"), col(\"trip_miles\"))\\\n",
    "                        .filter(col(\"trip_miles\").isNotNull())\\\n",
    "                        .groupBy(col(\"pickup_community_area\"), col(\"dropoff_community_area\"))\\\n",
    "                        .agg(avg(col(\"trip_miles\")).alias(\"average_trip_miles\"))\n",
    "print (average_trip_miles.count())\n",
    "print (average_trip_miles.show(5))"
   ]
  },
  {
   "cell_type": "code",
   "execution_count": 80,
   "id": "0acc483c-2bd0-4be1-8fd7-4540ffa60f27",
   "metadata": {},
   "outputs": [
    {
     "name": "stdout",
     "output_type": "stream",
     "text": [
      "+----------+---------------------+----------------------+\n",
      "|trip_miles|pickup_community_area|dropoff_community_area|\n",
      "+----------+---------------------+----------------------+\n",
      "|      null|                   52|                    54|\n",
      "|         0|                   48|                    54|\n",
      "|      null|                   43|                    54|\n",
      "|      null|                   43|                    54|\n",
      "|      null|                   43|                    54|\n",
      "|      null|                   43|                    54|\n",
      "|      null|                   43|                    54|\n",
      "|      null|                   43|                    54|\n",
      "|         0|                   41|                    54|\n",
      "|      null|                   41|                    54|\n",
      "+----------+---------------------+----------------------+\n",
      "only showing top 10 rows\n",
      "\n"
     ]
    }
   ],
   "source": [
    "from pyspark.sql import SparkSession\n",
    "from pyspark.sql.functions import col\n",
    "\n",
    "trip_pair_columns = taxi_trips.select(col(\"trip_miles\"), col(\"pickup_community_area\"),col(\"dropoff_community_area\"))\\\n",
    "                              .filter((col(\"pickup_community_area\") != -1) & (col(\"dropoff_community_area\") != -1))\n",
    "                            \n",
    "trip_pair_columns.show(10)\n",
    "\n"
   ]
  },
  {
   "cell_type": "code",
   "execution_count": 81,
   "id": "f92ea61f-30b5-42d4-a5c2-f1a51fba0cc5",
   "metadata": {},
   "outputs": [
    {
     "name": "stderr",
     "output_type": "stream",
     "text": [
      "                                                                                \r"
     ]
    },
    {
     "name": "stdout",
     "output_type": "stream",
     "text": [
      "2962\n"
     ]
    },
    {
     "name": "stderr",
     "output_type": "stream",
     "text": [
      "                                                                                \r"
     ]
    },
    {
     "name": "stdout",
     "output_type": "stream",
     "text": [
      "+-------------------+--------------------+------------------+\n",
      "|pickup_standardized|dropoff_standardized|  average_distance|\n",
      "+-------------------+--------------------+------------------+\n",
      "|                 49|                  49|0.2891832229580574|\n",
      "|                  8|                  52|3.6140350877192984|\n",
      "|                 35|                  45|3.5950413223140494|\n",
      "|                 28|                  63|3.6769230769230767|\n",
      "|                 25|                  61| 9.705882352941176|\n",
      "|                 33|                  37| 2.520408163265306|\n",
      "|                  3|                  57| 7.666666666666667|\n",
      "|                 44|                  54| 4.353658536585366|\n",
      "|                 26|                  75|              19.0|\n",
      "|                 45|                  70|2.3333333333333335|\n",
      "|                 43|                  69|1.0833333333333333|\n",
      "|                 32|                  43|4.7990021382751245|\n",
      "|                 68|                  74|             1.375|\n",
      "|                  3|                  30| 5.407407407407407|\n",
      "|                 22|                  33| 3.400523560209424|\n",
      "|                 29|                  72| 5.142857142857143|\n",
      "|                 54|                  69|4.2368421052631575|\n",
      "|                  6|                  74|               0.0|\n",
      "|                 52|                  69| 4.583333333333333|\n",
      "|                 56|                  70|2.8440366972477062|\n",
      "+-------------------+--------------------+------------------+\n",
      "only showing top 20 rows\n",
      "\n",
      "None\n"
     ]
    }
   ],
   "source": [
    "from pyspark.sql import SparkSession\n",
    "from pyspark.sql.functions import col, avg, least, greatest\n",
    "\n",
    "df_standardized = trip_pair_columns.withColumn(\"pickup_standardized\", least(col(\"pickup_community_area\"), col(\"dropoff_community_area\"))) \\\n",
    "                    .withColumn(\"dropoff_standardized\", greatest(col(\"pickup_community_area\"), col(\"dropoff_community_area\")))\n",
    "# Calculate the average distance for each standardized pickup-dropoff pair\n",
    "average_distance = df_standardized.groupBy(\"pickup_standardized\", \"dropoff_standardized\") \\\n",
    "    .agg(avg(\"trip_miles\").alias(\"average_distance\"))\n",
    "# Show the result\n",
    "print(average_distance.count())\n",
    "print(average_distance.show())"
   ]
  },
  {
   "cell_type": "code",
   "execution_count": 82,
   "id": "63c37b3f-c308-4a17-a17e-2c6136c0d6e0",
   "metadata": {},
   "outputs": [
    {
     "name": "stderr",
     "output_type": "stream",
     "text": [
      "                                                                                \r"
     ]
    },
    {
     "data": {
      "text/plain": [
       "173"
      ]
     },
     "execution_count": 82,
     "metadata": {},
     "output_type": "execute_result"
    }
   ],
   "source": [
    "filtered_df = average_distance.where(col(\"average_distance\") == 0)\n",
    "filtered_df.count()"
   ]
  },
  {
   "cell_type": "code",
   "execution_count": 83,
   "id": "a3cfcd13-1e7f-4f58-a814-81b109d19ed8",
   "metadata": {},
   "outputs": [
    {
     "name": "stderr",
     "output_type": "stream",
     "text": [
      "                                                                                \r"
     ]
    },
    {
     "name": "stdout",
     "output_type": "stream",
     "text": [
      "+-------------------+--------------------+--------------------+\n",
      "|pickup_standardized|dropoff_standardized|    average_distance|\n",
      "+-------------------+--------------------+--------------------+\n",
      "|                  8|                   8| 0.31693719382905605|\n",
      "|                 28|                  28|  0.3709301255101728|\n",
      "|                 53|                  53| 0.12340425531914893|\n",
      "|                 32|                  32|  0.3007703025158945|\n",
      "|                 34|                  34|  0.3547589616810878|\n",
      "|                 37|                  37|  0.5120481927710844|\n",
      "|                 33|                  33| 0.43895767348114023|\n",
      "|                  7|                   7|  0.3566642340609036|\n",
      "|                  6|                   6| 0.34663897626973705|\n",
      "|                 68|                  68| 0.28950542822677927|\n",
      "|                 49|                  49|  0.2891832229580574|\n",
      "|                 42|                  42|  0.2667167543200601|\n",
      "|                 59|                  59|  0.5020810514786418|\n",
      "|                 31|                  31|  0.3387096774193548|\n",
      "|                 56|                  56|  0.6432104997476022|\n",
      "|                 75|                  75| 0.17050691244239632|\n",
      "|                 29|                  29|  0.5010845986984815|\n",
      "|                 62|                  62|  0.3956043956043956|\n",
      "|                 52|                  52|0.046511627906976744|\n",
      "|                 40|                  40| 0.10816326530612246|\n",
      "+-------------------+--------------------+--------------------+\n",
      "only showing top 20 rows\n",
      "\n"
     ]
    }
   ],
   "source": [
    "same_pickup_dropoff = average_distance.filter(col(\"pickup_standardized\") == col(\"dropoff_standardized\"))\n",
    "\n",
    "same_pickup_dropoff.show()"
   ]
  },
  {
   "cell_type": "code",
   "execution_count": 75,
   "id": "d6888239-2c73-4771-b661-b8ecdefddf2d",
   "metadata": {},
   "outputs": [
    {
     "data": {
      "text/plain": [
       "DataFrame[trip_id: string, taxi_id: string, trip_start_timestamp: timestamp, trip_end_timestamp: timestamp, trip_miles: int, pickup_community_area: int, dropoff_community_area: int, fare: int, tips: int, tolls: int, extras: int, trip_total: int, payment_type: string, company: string, pickup_latitude: string, pickup_longitude: string, pickup_location: string, dropoff_latitude: string, dropoff_longitude: string, dropoff_location: string, trip_minutes: int]"
      ]
     },
     "execution_count": 76,
     "metadata": {},
     "output_type": "execute_result"
    }
   ],
   "source": [
    "df_joined = taxi_trips.join(\n",
    "    average_distance.select(\n",
    "        col(\"pickup_standardized\").alias(\"pickup\"),\n",
    "        col(\"dropoff_standardized\").alias(\"dropoff\"),\n",
    "    ),\n",
    "    (taxi_trips[\"pickup_community_area\"] == col(\"pickup\")) &\n",
    "    (taxi_trips[\"dropoff_community_area\"] == col(\"dropoff\")),\n",
    "    how=\"left\"\n",
    ")\n",
    "\n",
    "# Use coalesce to fill NULL values in 'trip_miles' with 'trip_miles_replacement'\n",
    "taxi_trips_filled = df_joined.withColumn(\n",
    "    \"trip_miles\",\n",
    "    coalesce(taxi_trips[\"trip_miles\"], col(\"trip_miles_replacement\"))\n",
    ").drop(\"trip_miles_replacement\", \"pickup\", \"dropoff\")\n",
    "\n",
    "# Show the result\n",
    "taxi_trips_filled.show()"
   ]
  },
  {
   "cell_type": "markdown",
   "id": "a7a41923-f930-47cd-a3d1-d03cad6cb047",
   "metadata": {},
   "source": [
    "## 4. Exploratory Data Analysis"
   ]
  },
  {
   "cell_type": "markdown",
   "id": "ab3f0af3-0c2d-4b01-8e6e-6e28eee6ea6e",
   "metadata": {},
   "source": [
    "### What is the distribution of trip duration?"
   ]
  },
  {
   "cell_type": "code",
   "execution_count": 20,
   "id": "6712eaac-b82d-44d0-9b8d-9d6158553fc4",
   "metadata": {},
   "outputs": [
    {
     "name": "stderr",
     "output_type": "stream",
     "text": [
      "24/10/30 19:14:43 WARN YarnAllocator: Cannot find executorId for container: container_1730302565621_0007_01_000002\n",
      "                                                                                \r"
     ]
    },
    {
     "data": {
      "image/png": "[encoded data removed]",
      "text/plain": [
       "<Figure size 1000x600 with 1 Axes>"
      ]
     },
     "metadata": {},
     "output_type": "display_data"
    }
   ],
   "source": [
    "import matplotlib.pyplot as plt\n",
    "\n",
    "plt.figure(figsize=(10, 6))\n",
    "plt.hist(taxi_trips.select(col(\"trip_minutes\")).toPandas(), bins=50, color=\"skyblue\", edgecolor=\"black\")\n",
    "plt.xlabel(\"Time in Minutes\")\n",
    "plt.ylabel(\"Frequency\")\n",
    "plt.title(\"Distribution of Trip Time in Minutes\")\n",
    "plt.show()"
   ]
  },
  {
   "cell_type": "code",
   "execution_count": 21,
   "id": "25ee2efa-8e9a-44d0-a693-fbbfdc27e143",
   "metadata": {},
   "outputs": [
    {
     "name": "stdout",
     "output_type": "stream",
     "text": [
      "+------------+\n",
      "|trip_minutes|\n",
      "+------------+\n",
      "|           7|\n",
      "|           8|\n",
      "|           3|\n",
      "|          35|\n",
      "|           6|\n",
      "|          28|\n",
      "|          14|\n",
      "|          18|\n",
      "|          30|\n",
      "|          21|\n",
      "|           4|\n",
      "|          22|\n",
      "|           5|\n",
      "|          24|\n",
      "|           7|\n",
      "|           3|\n",
      "|          39|\n",
      "|           1|\n",
      "|           6|\n",
      "|           7|\n",
      "+------------+\n",
      "only showing top 20 rows\n",
      "\n"
     ]
    }
   ],
   "source": [
    "taxi_trips.select(col(\"trip_minutes\")).show()"
   ]
  },
  {
   "cell_type": "code",
   "execution_count": 29,
   "id": "b2a91769-eb13-4be6-bc31-e99b0b37a8d2",
   "metadata": {},
   "outputs": [
    {
     "name": "stderr",
     "output_type": "stream",
     "text": [
      "[Stage 65:===========================================>            (10 + 2) / 13]\r"
     ]
    },
    {
     "name": "stdout",
     "output_type": "stream",
     "text": [
      "+----+-----------------+\n",
      "|year|unique_taxi_count|\n",
      "+----+-----------------+\n",
      "|2018|             6071|\n",
      "|2019|             5255|\n",
      "|2020|             4323|\n",
      "|2021|             2381|\n",
      "|2022|             2884|\n",
      "|2023|             3075|\n",
      "+----+-----------------+\n",
      "\n"
     ]
    },
    {
     "name": "stderr",
     "output_type": "stream",
     "text": [
      "                                                                                \r"
     ]
    }
   ],
   "source": [
    "from pyspark.sql import SparkSession\n",
    "from pyspark.sql.functions import year,countDistinct\n",
    "\n",
    "df_with_year = taxi_trips.withColumn(\"year\", year(taxi_trips[\"trip_start_timestamp\"])) \n",
    "taxi_count_per_year = (\n",
    "    df_with_year.groupBy(\"year\")                      \n",
    "                 .agg(countDistinct(\"taxi_id\").alias(\"unique_taxi_count\"))\n",
    "                 .orderBy(\"year\", ascending=True)\n",
    ")\n",
    "\n",
    "\n",
    "taxi_count_per_year.show()"
   ]
  },
  {
   "cell_type": "markdown",
   "id": "5314a73c-74e8-4e8a-bde9-bad76df12e9f",
   "metadata": {},
   "source": [
    "## What is the number of taxi cars per year?"
   ]
  },
  {
   "cell_type": "code",
   "execution_count": 30,
   "id": "eca63906-2aae-4802-807d-18760075e578",
   "metadata": {},
   "outputs": [
    {
     "name": "stderr",
     "output_type": "stream",
     "text": [
      "                                                                                \r"
     ]
    },
    {
     "data": {
      "image/png": "[encoded data removed]",
      "text/plain": [
       "<Figure size 1000x600 with 1 Axes>"
      ]
     },
     "metadata": {},
     "output_type": "display_data"
    }
   ],
   "source": [
    "import matplotlib.pyplot as plt\n",
    "\n",
    "taxi_count_per_year_pd = taxi_count_per_year.toPandas()\n",
    "\n",
    "plt.figure(figsize=(10, 6))\n",
    "plt.plot(taxi_count_per_year_pd[\"year\"], taxi_count_per_year_pd[\"unique_taxi_count\"], marker='o', linestyle='-', color='skyblue')\n",
    "plt.xlabel(\"Year\")\n",
    "plt.ylabel(\"Number of taxi car\")\n",
    "plt.title(\"Number of taxi cars per year\")\n",
    "plt.ylim(bottom=0) \n",
    "plt.grid()\n",
    "plt.show()"
   ]
  },
  {
   "cell_type": "markdown",
   "id": "d03c2420-a56a-4e5a-b7f4-649719b300e2",
   "metadata": {},
   "source": [
    "**Summary:**  During 2018 to 2020 the number of taxi has gradually decrease, and in 2021 there's a huge drop of number. This may be cause by the affect of COVID-19 that people couldn't go out or traveling during pandemic, leading less amount of taxi."
   ]
  },
  {
   "cell_type": "markdown",
   "id": "4e1c0c2d-f6d8-4a79-a9b6-8b90d9b708e6",
   "metadata": {},
   "source": [
    "## What is the number of taxi companies over the years? "
   ]
  },
  {
   "cell_type": "code",
   "execution_count": 31,
   "id": "f9986037-03eb-47ee-b945-4e63fcccdf7e",
   "metadata": {},
   "outputs": [
    {
     "name": "stderr",
     "output_type": "stream",
     "text": [
      "[Stage 82:=====================================================>(290 + 1) / 291]\r"
     ]
    },
    {
     "name": "stdout",
     "output_type": "stream",
     "text": [
      "+----+-------------+\n",
      "|year|company_count|\n",
      "+----+-------------+\n",
      "|2018|           69|\n",
      "|2019|           56|\n",
      "|2020|           50|\n",
      "|2021|           38|\n",
      "|2022|           36|\n",
      "|2023|           36|\n",
      "+----+-------------+\n",
      "\n"
     ]
    },
    {
     "name": "stderr",
     "output_type": "stream",
     "text": [
      "                                                                                \r"
     ]
    }
   ],
   "source": [
    "from pyspark.sql.functions import year, countDistinct\n",
    "\n",
    "company_with_year = taxi_trips.withColumn(\"year\", year(taxi_trips[\"trip_start_timestamp\"])) \n",
    "company_count_per_year = (\n",
    "    company_with_year.groupBy(\"year\")                      \n",
    "                 .agg(countDistinct(\"company\").alias(\"company_count\"))\n",
    "                 .orderBy(\"year\", ascending=True)\n",
    ")\n",
    "\n",
    "company_count_per_year.show()\n",
    "\n"
   ]
  },
  {
   "cell_type": "code",
   "execution_count": 32,
   "id": "3260e3b2-fd1f-4b54-9291-9dd6e3a808ce",
   "metadata": {},
   "outputs": [
    {
     "name": "stderr",
     "output_type": "stream",
     "text": [
      "                                                                                \r"
     ]
    },
    {
     "data": {
      "image/png": "[encoded data removed]",
      "text/plain": [
       "<Figure size 1000x600 with 1 Axes>"
      ]
     },
     "metadata": {},
     "output_type": "display_data"
    }
   ],
   "source": [
    "import matplotlib.pyplot as plt\n",
    "\n",
    "company_with_year_pd = company_count_per_year.toPandas()\n",
    "\n",
    "plt.figure(figsize=(10, 6))\n",
    "plt.plot(company_with_year_pd[\"year\"], company_with_year_pd[\"company_count\"], marker='o', linestyle='-', color='skyblue')\n",
    "plt.xlabel(\"Year\")\n",
    "plt.ylabel(\"Number of taxi company\")\n",
    "plt.title(\"Number of taxi companies per year\")\n",
    "plt.ylim(bottom=0) \n",
    "plt.grid()\n",
    "plt.show()"
   ]
  },
  {
   "cell_type": "markdown",
   "id": "3c446609-89bf-4514-ac10-5a8f54c45344",
   "metadata": {},
   "source": [
    "**Summary:**  During 2018 to 2023 the number of taxi companies has gradually decrease, indicating that amount of taxi that companies provide also decreasing. Which might because of the rise of the rideshare industry. "
   ]
  },
  {
   "cell_type": "code",
   "execution_count": 37,
   "id": "d5711b90-b525-43e3-a611-93e5805475fd",
   "metadata": {},
   "outputs": [
    {
     "name": "stderr",
     "output_type": "stream",
     "text": [
      "                                                                                \r"
     ]
    },
    {
     "data": {
      "text/plain": [
       "5165"
      ]
     },
     "execution_count": 37,
     "metadata": {},
     "output_type": "execute_result"
    }
   ],
   "source": []
  },
  {
   "cell_type": "code",
   "execution_count": null,
   "id": "3e1a99ca-9b1a-4454-83b4-01b15157f350",
   "metadata": {},
   "outputs": [],
   "source": []
  }
 ],
 "metadata": {
  "kernelspec": {
   "display_name": "PySpark",
   "language": "python",
   "name": "pyspark"
  },
  "language_info": {
   "codemirror_mode": {
    "name": "ipython",
    "version": 3
   },
   "file_extension": ".py",
   "mimetype": "text/x-python",
   "name": "python",
   "nbconvert_exporter": "python",
   "pygments_lexer": "ipython3",
   "version": "3.10.8"
  }
 },
 "nbformat": 4,
 "nbformat_minor": 5
}
