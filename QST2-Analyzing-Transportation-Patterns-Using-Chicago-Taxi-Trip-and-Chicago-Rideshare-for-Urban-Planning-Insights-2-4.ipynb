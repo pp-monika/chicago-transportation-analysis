{
 "cells": [
  {
   "cell_type": "markdown",
   "id": "046b030f-a507-499f-863e-1d05887b4845",
   "metadata": {},
   "source": [
    "# Analyzing Transportation Patterns Using Chicago Taxi Trip and Chicago Rideshare for Urban Planning Insights"
   ]
  },
  {
   "cell_type": "markdown",
   "id": "268484c2-2c72-4b6d-83a5-8228d06c3a26",
   "metadata": {},
   "source": [
    "**Group Members**\n",
    "1. Monika Phuengmak\n",
    "2. Winni Tai \n",
    "3. Syeda Aqeel"
   ]
  },
  {
   "cell_type": "markdown",
   "id": "c5a59995-7893-45b2-a30b-8e6bcd776139",
   "metadata": {},
   "source": [
    "## Table of Content\n",
    "---\n",
    "1. [Executive Summary](#1)\n",
    "2. [Data Sources](#2)\n",
    "3. [Data Cleaning](#3)\n",
    "4. [Exploratory Data Analysis](#4)\n",
    "5. [Hotspot Analysis](#5)\n",
    "6. [Time Analysis](#6)\n",
    "7. [Congestion Analysis](#7)\n",
    "8. [Machine Learning](#8)\n",
    "9. [Conclusion](#9)"
   ]
  },
  {
   "cell_type": "markdown",
   "id": "6018d2c7-2e86-4de8-828f-5c175be41316",
   "metadata": {
    "tags": []
   },
   "source": [
    "## 1. Executive Summary <a class=\"anchor\" id=\"1\"></a>\n",
    "---\n",
    "### Problem Definition\n",
    "This project aims to analyze Chicago’s taxi rides from 2018 to 2023 to generate actionable insights that support urban planning, enhance traffic management, and optimize transportation services. By identifying peak demand zones, assessing traffic congestion effects on trip durations, and analyzing fare trends across variables such as time, location, and service type, the project seeks to provide data-driven recommendations to improve mobility, reduce congestion, and better meet the transportation needs of Chicago’s residents and visitors.\n",
    "\n",
    "### Motivation\n",
    "Urban planning is an important aspect of designing cities to meet the infrastructure needed to support the livelihood of tens of millions of residents. Transportation in particular has a critical impact on people’s decision to accept employment, how they spend their time, places they visit, and even business locations. This exploration of Chicago taxi and ride share service data will provide an insight on traffic conditions, travel expenses, and hotspots for visitation in the city which can be used for city planning purposes. This exploration of Chicago taxi provides an insight on traffic conditions, travel expenses, and hotspots for visitation in the city which can be used for city planning purposes."
   ]
  },
  {
   "cell_type": "markdown",
   "id": "9c4396e9-2fe1-4996-ada2-55eef743a932",
   "metadata": {},
   "source": [
    "## 2. Data Sources <a class=\"anchor\" id=\"2\"></a>\n",
    "---\n",
    "- Chicago Taxi Trips from 2013 to 2023: [link](https://data.cityofchicago.org/Transportation/Taxi-Trips-2013-2023-/wrvz-psew/about_data)\n",
    "- Chicago Community Area: [link](https://data.cityofchicago.org/Facilities-Geographic-Boundaries/Boundaries-Community-Areas-current-/cauq-8yn6)"
   ]
  },
  {
   "cell_type": "markdown",
   "id": "2c08d856-bb5f-4cb5-8c95-d7ef26fb9fdf",
   "metadata": {},
   "source": [
    "### Chicago Taxi Trips Data 2013-2023\n",
    "\n",
    "This dataset reflects taxi trips reported to the City of Chicago in its role as a regulatory agency. To protect privacy but allow for aggregate analyses, the Taxi ID is consistent for any given taxi medallion number but does not show the number. Census Tracts are suppressed in some cases for privacy. Due to the data reporting process, not all trips are reported but the City believes that most are."
   ]
  },
  {
   "cell_type": "markdown",
   "id": "9bda28c7-013e-40d7-8dd7-2f027fea3092",
   "metadata": {},
   "source": [
    "**Columns in this dataset**\n",
    "\n",
    "|Column name|Description|Type|\n",
    "|--|--|--|\n",
    "|trip_id|A unique identifier for the trip. Initially called unique_key, but it will be renamed to trip_id.|String|\n",
    "|taxi_id|A unique identifier for the taxi.|String|\n",
    "|trip_start_timestamp|Date and time when the trip started, rounded to the nearest 15 minutes.|Timestamp|\n",
    "|trip_end_timestamp|Date and time when the trip ended, rounded to the nearest 15 minutes.|Timestamp|\n",
    "|trip_seconds|Duration of the trip in seconds.|Integer|\n",
    "|trip_miles|Distance of the trip in miles.|Integer|\n",
    "|pickup_census_tract|The Census Tract where the trip began. For privacy, this Census Tract is not shown for some trips. This column often will be blank for locations outside Chicago.|Number|\n",
    "|dropoff_census_tract|The Census Tract where the trip ended. For privacy, this Census Tract is not shown for some trips. This column often will be blank for locations outside Chicago.|Number|\n",
    "|pickup_community_area|The Community Area where the trip began. This column will be blank for locations outside Chicago.|Integer|\n",
    "|dropoff_community_area|The Community Area where the trip ended. This column will be blank for locations outside Chicago.|Integer|\n",
    "|fare|The fare for the trip.|Double|\n",
    "|tips|The tip for the trip. Cash tips generally will not be recorded.|Double|\n",
    "|tolls|The tolls for the trip.|Double|\n",
    "|extras|Extra charges for the trip. This generally includes airport surcharges, late-night or rush hour surcharges, credit card processing fee, and other surcharges.|Double|\n",
    "|trip_total|Total cost of the trip calculated from are, tips, tolls, and extras.|Double|\n",
    "|payment_type|Type of payment for the trip.|String|\n",
    "|company|The taxi company.|String|\n",
    "|pickup_latitude|The latitude of the center of the pickup census tract or the community area if the census tract has been hidden for privacy. This column often will be blank for locations outside Chicago.|Double|\n",
    "|pickup_longitude|The longitude of the center of the pickup census tract or the community area if the census tract has been hidden for privacy. This column often will be blank for locations outside Chicago.|Double|\n",
    "|pickup_location|The location of the center of the pickup census tract or the community area if the census tract has been hidden for privacy. This column often will be blank for locations outside Chicago.|String|\n",
    "|dropoff_latitude|The latitude of the center of the dropoff census tract or the community area if the census tract has been hidden for privacy. This column often will be blank for locations outside Chicago.|Double|\n",
    "|dropoff_longitude|The longitude of the center of the dropoff census tract or the community area if the census tract has been hidden for privacy. This column often will be blank for locations outside Chicago.|Double|\n",
    "|dropoff_location|The location of the center of the dropoff census tract or the community area if the census tract has been hidden for privacy. This column often will be blank for locations outside Chicago.|String|"
   ]
  },
  {
   "cell_type": "markdown",
   "id": "1b95daa4-5e67-4001-a152-08b2297eecf1",
   "metadata": {},
   "source": [
    "### Chicago Community Area Data\n",
    "Chicago City has 77 community areas in total. This dataset is used in conjunction with Chicago Taxi dataset to get the name of community area for pickup and dropoff location."
   ]
  },
  {
   "cell_type": "markdown",
   "id": "7e062326-24a6-422c-a350-483e0d6fafb4",
   "metadata": {},
   "source": [
    "**Columns in this dataset**\n",
    "\n",
    "|Column name|Description|Type|\n",
    "|--|--|--|\n",
    "|the_geom|Polygons that outline the geographic boundaries.|String|\n",
    "|AREA_NUMBE|Community area number.|Integer|\n",
    "|COMMUNITY|Community name.|String|\n",
    "|AREA_NUM_1|Community area number. Duplicates of AREA_NUMBE.|Integer|"
   ]
  },
  {
   "cell_type": "markdown",
   "id": "3fbfd863-a48d-4f8b-84f3-365cd4a5e916",
   "metadata": {},
   "source": [
    "## 3. Data Cleaning <a class=\"anchor\" id=\"3\"></a>\n",
    "---"
   ]
  },
  {
   "cell_type": "code",
   "execution_count": 1,
   "id": "2e4fb7c0-a007-4eb9-bf0d-1551dd11bdb9",
   "metadata": {},
   "outputs": [],
   "source": [
    "from pyspark.sql.types import (StructType, \n",
    "                               StructField, \n",
    "                               DoubleType,\n",
    "                               IntegerType,\n",
    "                               StringType,\n",
    "                               TimestampType)\n",
    "\n",
    "from pyspark.sql.functions import year, col, round, sum, count"
   ]
  },
  {
   "cell_type": "markdown",
   "id": "43e2c9ac-24da-47d0-b3ee-bf522d46ad97",
   "metadata": {},
   "source": [
    "### Chicago Taxi Dataset"
   ]
  },
  {
   "cell_type": "markdown",
   "id": "a3e5ee71-5006-45ad-ab3a-5ef791b3ff71",
   "metadata": {},
   "source": [
    "Download data from Google Cloud Bucket:"
   ]
  },
  {
   "cell_type": "code",
   "execution_count": 2,
   "id": "c3f2dca4-1cb7-4797-8a23-603359b04894",
   "metadata": {},
   "outputs": [],
   "source": [
    "bucket = spark._jsc.hadoopConfiguration().get(\"fs.gs.system.bucket\")\n",
    "\n",
    "url = \"gs://\" + bucket + \"/data/chicago-taxi-trip/chicago-taxi-0000000000*\""
   ]
  },
  {
   "cell_type": "code",
   "execution_count": 3,
   "id": "54fbd83c-2183-4042-9082-4c0016817528",
   "metadata": {},
   "outputs": [
    {
     "name": "stderr",
     "output_type": "stream",
     "text": [
      "                                                                                \r"
     ]
    }
   ],
   "source": [
    "taxi_schema = StructType([StructField('trip_id', StringType(), True),\n",
    "                StructField('taxi_id', StringType(), True),\n",
    "                StructField('trip_start_timestamp', TimestampType(), True), \n",
    "                StructField('trip_end_timestamp', TimestampType(), True), \n",
    "                StructField('trip_seconds', IntegerType(), True), \n",
    "                StructField('trip_miles', DoubleType(), True), \n",
    "                StructField('pickup_census_tract', IntegerType(), True), \n",
    "                StructField('dropoff_census_tract', IntegerType(), True), \n",
    "                StructField('pickup_community_area', IntegerType(), True), \n",
    "                StructField('dropoff_community_area', IntegerType(), True), \n",
    "                StructField('fare', DoubleType(), True), \n",
    "                StructField('tips', DoubleType(), True), \n",
    "                StructField('tolls', DoubleType(), True), \n",
    "                StructField('extras', DoubleType(), True), \n",
    "                StructField('trip_total', DoubleType(), True), \n",
    "                StructField('payment_type', StringType(), True), \n",
    "                StructField('company', StringType(), True), \n",
    "                StructField('pickup_latitude', DoubleType(), True), \n",
    "                StructField('pickup_longitude', DoubleType(), True), \n",
    "                StructField('pickup_location', StringType(), True), \n",
    "                StructField('dropoff_latitude', DoubleType(), True), \n",
    "                StructField('dropoff_longitude', DoubleType(), True), \n",
    "                StructField('dropoff_location', StringType(), True)])\n",
    "\n",
    "taxi_all_years = spark.read.format(\"csv\").option(\"header\", \"true\").schema(taxi_schema).csv(url)"
   ]
  },
  {
   "cell_type": "code",
   "execution_count": 11,
   "id": "37cdb429-1034-4451-93b4-391ebc43570f",
   "metadata": {},
   "outputs": [
    {
     "name": "stdout",
     "output_type": "stream",
     "text": [
      "root\n",
      " |-- trip_id: string (nullable = true)\n",
      " |-- taxi_id: string (nullable = true)\n",
      " |-- trip_start_timestamp: timestamp (nullable = true)\n",
      " |-- trip_end_timestamp: timestamp (nullable = true)\n",
      " |-- trip_seconds: integer (nullable = true)\n",
      " |-- trip_miles: double (nullable = true)\n",
      " |-- pickup_census_tract: integer (nullable = true)\n",
      " |-- dropoff_census_tract: integer (nullable = true)\n",
      " |-- pickup_community_area: integer (nullable = true)\n",
      " |-- dropoff_community_area: integer (nullable = true)\n",
      " |-- fare: double (nullable = true)\n",
      " |-- tips: double (nullable = true)\n",
      " |-- tolls: double (nullable = true)\n",
      " |-- extras: double (nullable = true)\n",
      " |-- trip_total: double (nullable = true)\n",
      " |-- payment_type: string (nullable = true)\n",
      " |-- company: string (nullable = true)\n",
      " |-- pickup_latitude: double (nullable = true)\n",
      " |-- pickup_longitude: double (nullable = true)\n",
      " |-- pickup_location: string (nullable = true)\n",
      " |-- dropoff_latitude: double (nullable = true)\n",
      " |-- dropoff_longitude: double (nullable = true)\n",
      " |-- dropoff_location: string (nullable = true)\n",
      "\n"
     ]
    }
   ],
   "source": [
    "taxi_all_years.printSchema()"
   ]
  },
  {
   "cell_type": "code",
   "execution_count": 12,
   "id": "e81f2061-da20-4b35-88ca-f131de1b4208",
   "metadata": {},
   "outputs": [
    {
     "name": "stderr",
     "output_type": "stream",
     "text": [
      "                                                                                \r"
     ]
    },
    {
     "data": {
      "text/plain": [
       "99667058"
      ]
     },
     "execution_count": 12,
     "metadata": {},
     "output_type": "execute_result"
    }
   ],
   "source": [
    "taxi_all_years.count()"
   ]
  },
  {
   "cell_type": "markdown",
   "id": "06a88efb-c636-47fc-a5e5-73dba57ca796",
   "metadata": {},
   "source": [
    "Inspect the first 10 rows of the dataset:"
   ]
  },
  {
   "cell_type": "code",
   "execution_count": null,
   "id": "7b401cb8-ffa5-4fb6-9243-6b9fc83f7db7",
   "metadata": {},
   "outputs": [],
   "source": [
    "taxi_all_years.limit(10).toPandas()"
   ]
  },
  {
   "cell_type": "markdown",
   "id": "b27c2464-2829-46f9-a62d-c28ee754b1bb",
   "metadata": {},
   "source": [
    "#### Filter only data between 2018 and 2023"
   ]
  },
  {
   "cell_type": "code",
   "execution_count": null,
   "id": "92bc5950-da3f-4402-86d4-f594cd4b884a",
   "metadata": {},
   "outputs": [],
   "source": [
    "start_year = (year(col(\"trip_start_timestamp\")) >= 2018)\n",
    "end_year = (year(col(\"trip_end_timestamp\")) <= 2023)\n",
    "taxi_trips = taxi_all_years.filter(start_year & end_year)"
   ]
  },
  {
   "cell_type": "code",
   "execution_count": null,
   "id": "54775b3b-561d-4665-9269-b2eaf5d44422",
   "metadata": {},
   "outputs": [],
   "source": [
    "print(f\"There are {taxi_trips.count()} taxi trips between 2013 and 2023\")"
   ]
  },
  {
   "cell_type": "markdown",
   "id": "b57b1567-6cc8-456e-b1da-215b449b80ea",
   "metadata": {},
   "source": [
    "#### Examine columns relating to travel duration and distance\n",
    "Columns that we will use to estimate the traffic condition is trip_start_timestamp, trip_end_timestamp, trip_seconds, and trip_miles."
   ]
  },
  {
   "cell_type": "code",
   "execution_count": 14,
   "id": "8e77c26d-4905-48ca-9f59-81b9d2490acc",
   "metadata": {},
   "outputs": [
    {
     "name": "stderr",
     "output_type": "stream",
     "text": [
      "                                                                                \r"
     ]
    },
    {
     "data": {
      "text/html": [
       "<div>\n",
       "<style scoped>\n",
       "    .dataframe tbody tr th:only-of-type {\n",
       "        vertical-align: middle;\n",
       "    }\n",
       "\n",
       "    .dataframe tbody tr th {\n",
       "        vertical-align: top;\n",
       "    }\n",
       "\n",
       "    .dataframe thead th {\n",
       "        text-align: right;\n",
       "    }\n",
       "</style>\n",
       "<table border=\"1\" class=\"dataframe\">\n",
       "  <thead>\n",
       "    <tr style=\"text-align: right;\">\n",
       "      <th></th>\n",
       "      <th>total_trip_count</th>\n",
       "      <th>trip_start_timestamp_null_count</th>\n",
       "      <th>trip_end_timestamp_null_count</th>\n",
       "      <th>trip_seconds_null_count</th>\n",
       "      <th>trip_miles_null_count</th>\n",
       "    </tr>\n",
       "  </thead>\n",
       "  <tbody>\n",
       "    <tr>\n",
       "      <th>0</th>\n",
       "      <td>99667058</td>\n",
       "      <td>0</td>\n",
       "      <td>5501</td>\n",
       "      <td>929913</td>\n",
       "      <td>1086</td>\n",
       "    </tr>\n",
       "  </tbody>\n",
       "</table>\n",
       "</div>"
      ],
      "text/plain": [
       "   total_trip_count  trip_start_timestamp_null_count  \\\n",
       "0          99667058                                0   \n",
       "\n",
       "   trip_end_timestamp_null_count  trip_seconds_null_count  \\\n",
       "0                           5501                   929913   \n",
       "\n",
       "   trip_miles_null_count  \n",
       "0                   1086  "
      ]
     },
     "execution_count": 14,
     "metadata": {},
     "output_type": "execute_result"
    }
   ],
   "source": [
    "taxi_trips.select(\n",
    "    count(\"*\").alias(\"total_trip_count\"),\n",
    "    sum(col(\"trip_start_timestamp\").isNull().cast(\"int\")).alias(\"trip_start_timestamp_null_count\"),\n",
    "    sum(col(\"trip_end_timestamp\").isNull().cast(\"int\")).alias(\"trip_end_timestamp_null_count\"),\n",
    "    sum(col(\"trip_seconds\").isNull().cast(\"int\")).alias(\"trip_seconds_null_count\"),\n",
    "    sum(col(\"trip_miles\").isNull().cast(\"int\")).alias(\"trip_miles_null_count\"),\n",
    ").toPandas()"
   ]
  },
  {
   "cell_type": "markdown",
   "id": "02729595-a3b3-4977-a6a4-3641cbe3752f",
   "metadata": {},
   "source": [
    "As we can see from the table above, very few rows are missing values in trip_seconds and trip_miles. We decide to drop rows with missing trip_miles and trip_seconds."
   ]
  },
  {
   "cell_type": "code",
   "execution_count": 5,
   "id": "bd916a8a-0385-45c0-8633-2e644472c8cb",
   "metadata": {},
   "outputs": [],
   "source": [
    "taxi_trips = taxi_trips.na.drop(subset=[\"trip_miles\", \"trip_seconds\"])"
   ]
  },
  {
   "cell_type": "code",
   "execution_count": 15,
   "id": "0a4df870-502e-469d-95df-7b0f8556cfd2",
   "metadata": {},
   "outputs": [
    {
     "name": "stderr",
     "output_type": "stream",
     "text": [
      "                                                                                \r"
     ]
    },
    {
     "data": {
      "text/html": [
       "<div>\n",
       "<style scoped>\n",
       "    .dataframe tbody tr th:only-of-type {\n",
       "        vertical-align: middle;\n",
       "    }\n",
       "\n",
       "    .dataframe tbody tr th {\n",
       "        vertical-align: top;\n",
       "    }\n",
       "\n",
       "    .dataframe thead th {\n",
       "        text-align: right;\n",
       "    }\n",
       "</style>\n",
       "<table border=\"1\" class=\"dataframe\">\n",
       "  <thead>\n",
       "    <tr style=\"text-align: right;\">\n",
       "      <th></th>\n",
       "      <th>trip_miles_null_count</th>\n",
       "      <th>trip_seconds_null_count</th>\n",
       "    </tr>\n",
       "  </thead>\n",
       "  <tbody>\n",
       "    <tr>\n",
       "      <th>0</th>\n",
       "      <td>0</td>\n",
       "      <td>0</td>\n",
       "    </tr>\n",
       "  </tbody>\n",
       "</table>\n",
       "</div>"
      ],
      "text/plain": [
       "   trip_miles_null_count  trip_seconds_null_count\n",
       "0                      0                        0"
      ]
     },
     "execution_count": 15,
     "metadata": {},
     "output_type": "execute_result"
    }
   ],
   "source": [
    "taxi_trips.select(\n",
    "    sum(col(\"trip_miles\").isNull().cast(\"int\")).alias(\"trip_miles_null_count\"),\n",
    "    sum(col(\"trip_seconds\").isNull().cast(\"int\")).alias(\"trip_seconds_null_count\"),\n",
    ").toPandas()"
   ]
  },
  {
   "cell_type": "code",
   "execution_count": 16,
   "id": "cbc31703-af5c-4936-bfe7-cb2cc84afcb2",
   "metadata": {},
   "outputs": [
    {
     "name": "stderr",
     "output_type": "stream",
     "text": [
      "[Stage 14:=====================================================>(290 + 1) / 291]\r"
     ]
    },
    {
     "name": "stdout",
     "output_type": "stream",
     "text": [
      "+-------+------------------+\n",
      "|summary|      trip_seconds|\n",
      "+-------+------------------+\n",
      "|  count|          98736062|\n",
      "|   mean| 820.9721180798157|\n",
      "| stddev|1374.2388478617586|\n",
      "|    min|                 0|\n",
      "|    max|             86400|\n",
      "+-------+------------------+\n",
      "\n"
     ]
    },
    {
     "name": "stderr",
     "output_type": "stream",
     "text": [
      "                                                                                \r"
     ]
    }
   ],
   "source": [
    "taxi_trips.select(\"trip_seconds\").describe().show()"
   ]
  },
  {
   "cell_type": "code",
   "execution_count": 17,
   "id": "bce3959c-7a9e-429d-bcaa-f1aa234b9e59",
   "metadata": {},
   "outputs": [
    {
     "name": "stderr",
     "output_type": "stream",
     "text": [
      "[Stage 17:=====================================================>(290 + 1) / 291]\r"
     ]
    },
    {
     "name": "stdout",
     "output_type": "stream",
     "text": [
      "+-------+------------------+\n",
      "|summary|        trip_miles|\n",
      "+-------+------------------+\n",
      "|  count|          98736062|\n",
      "|   mean| 3.769302306486622|\n",
      "| stddev|13.366970403359673|\n",
      "|    min|               0.0|\n",
      "|    max|            3460.0|\n",
      "+-------+------------------+\n",
      "\n"
     ]
    },
    {
     "name": "stderr",
     "output_type": "stream",
     "text": [
      "                                                                                \r"
     ]
    }
   ],
   "source": [
    "taxi_trips.select(\"trip_miles\").describe().show()"
   ]
  },
  {
   "cell_type": "markdown",
   "id": "46ec50c9-047d-43e2-8d47-77157e285ed6",
   "metadata": {},
   "source": [
    "#### Filter rows where the `trip_seconds` is too short\n",
    "Some rows has trip second that doesn't last more than 1 minute, which we found unlikely for a taxi trip to be that short. We think that this is most likely due to mistakes in data reporting, meter errors, or some other factors which does not reflect the taxi services or demands such as cancelled rides and ride reassignment. We decide to use 60 seconds as a threshold where any trip under 60 seconds is considered to be an error in data collection or edge cases."
   ]
  },
  {
   "cell_type": "code",
   "execution_count": 6,
   "id": "9c27667e-4d6d-463a-bae9-fb6642636f60",
   "metadata": {},
   "outputs": [],
   "source": [
    "taxi_trips = taxi_trips.where(col(\"trip_seconds\") >= 60)"
   ]
  },
  {
   "cell_type": "markdown",
   "id": "eef1acd0-24e7-47dc-bcdd-78ce62006565",
   "metadata": {},
   "source": [
    "#### Convert the the unit for trip duration from seconds to minute\n",
    "Second isn't the usual unit we would use to describe a trip duration. We will use minute instead considering that it is not as granular as second, and a taxi trip rarely goes over an hour. Any reminder from calculating the minute will be rounded to the nearest minute."
   ]
  },
  {
   "cell_type": "code",
   "execution_count": 7,
   "id": "c96f377a-af05-4a91-a0b3-e514869e12aa",
   "metadata": {},
   "outputs": [],
   "source": [
    "taxi_trips = taxi_trips.withColumn(\"trip_minutes\", round(col(\"trip_seconds\") / 60).cast(IntegerType())).drop(\"trip_seconds\")"
   ]
  },
  {
   "cell_type": "markdown",
   "id": "b110ec74-455e-4a9b-8e46-616cae2187dc",
   "metadata": {},
   "source": [
    "#### Dropping pickup_census_tract and dropoff_census_tract\n",
    "These 2 columns contains a lot of missing data that is purposely left blank for privacy. As you can see from the dataframe below, more than half of pickup_census_tract and dropoff_census_tract are missing. Because of this, as well as the size of a census track that is too granular a scale for our purpose, we will drop the census tract columns. pickup_community_area and dropoff_community_area which is more populated will be used as an indicator for locations in Chicago during analysis, while pickup_location and dropoff_location, which is the latitude and longitude of the location will be used in machine learning model to predict the duration of a trip in the later section."
   ]
  },
  {
   "cell_type": "code",
   "execution_count": 20,
   "id": "925a0131-e550-49b1-a09d-63ce63edf2cc",
   "metadata": {},
   "outputs": [
    {
     "name": "stderr",
     "output_type": "stream",
     "text": [
      "                                                                                \r"
     ]
    },
    {
     "data": {
      "text/html": [
       "<div>\n",
       "<style scoped>\n",
       "    .dataframe tbody tr th:only-of-type {\n",
       "        vertical-align: middle;\n",
       "    }\n",
       "\n",
       "    .dataframe tbody tr th {\n",
       "        vertical-align: top;\n",
       "    }\n",
       "\n",
       "    .dataframe thead th {\n",
       "        text-align: right;\n",
       "    }\n",
       "</style>\n",
       "<table border=\"1\" class=\"dataframe\">\n",
       "  <thead>\n",
       "    <tr style=\"text-align: right;\">\n",
       "      <th></th>\n",
       "      <th>total_trip_count</th>\n",
       "      <th>pickup_census_tract_null_count</th>\n",
       "      <th>dropoff_census_tract_null_count</th>\n",
       "      <th>pickup_community_area_null_count</th>\n",
       "      <th>dropoff_community_area_null_count</th>\n",
       "      <th>pickup_location_null_count</th>\n",
       "      <th>dropoff_location_null_count</th>\n",
       "    </tr>\n",
       "  </thead>\n",
       "  <tbody>\n",
       "    <tr>\n",
       "      <th>0</th>\n",
       "      <td>90990969</td>\n",
       "      <td>90990969</td>\n",
       "      <td>90990969</td>\n",
       "      <td>12958723</td>\n",
       "      <td>14376036</td>\n",
       "      <td>12954053</td>\n",
       "      <td>14154342</td>\n",
       "    </tr>\n",
       "  </tbody>\n",
       "</table>\n",
       "</div>"
      ],
      "text/plain": [
       "   total_trip_count  pickup_census_tract_null_count  \\\n",
       "0          90990969                        90990969   \n",
       "\n",
       "   dropoff_census_tract_null_count  pickup_community_area_null_count  \\\n",
       "0                         90990969                          12958723   \n",
       "\n",
       "   dropoff_community_area_null_count  pickup_location_null_count  \\\n",
       "0                           14376036                    12954053   \n",
       "\n",
       "   dropoff_location_null_count  \n",
       "0                     14154342  "
      ]
     },
     "execution_count": 20,
     "metadata": {},
     "output_type": "execute_result"
    }
   ],
   "source": [
    "taxi_trips.select(\n",
    "    count(\"*\").alias(\"total_trip_count\"),\n",
    "    sum(col(\"pickup_census_tract\").isNull().cast(\"int\")).alias(\"pickup_census_tract_null_count\"),\n",
    "    sum(col(\"dropoff_census_tract\").isNull().cast(\"int\")).alias(\"dropoff_census_tract_null_count\"),\n",
    "    sum(col(\"pickup_community_area\").isNull().cast(\"int\")).alias(\"pickup_community_area_null_count\"),\n",
    "    sum(col(\"dropoff_community_area\").isNull().cast(\"int\")).alias(\"dropoff_community_area_null_count\"),\n",
    "    sum(col(\"pickup_location\").isNull().cast(\"int\")).alias(\"pickup_location_null_count\"),\n",
    "    sum(col(\"dropoff_location\").isNull().cast(\"int\")).alias(\"dropoff_location_null_count\"),\n",
    ").toPandas()"
   ]
  },
  {
   "cell_type": "code",
   "execution_count": 8,
   "id": "b34e686f-c4b3-4ce6-851c-97093da25d4b",
   "metadata": {},
   "outputs": [],
   "source": [
    "taxi_trips = taxi_trips.drop(\"pickup_census_tract\", \"dropoff_census_tract\")"
   ]
  },
  {
   "cell_type": "markdown",
   "id": "76c8b675-b1f1-4ebe-86ab-186ce740a8a4",
   "metadata": {},
   "source": [
    "#### Pickup and Dropoff Locations\n",
    "The columns that contain latitude, longitude, and location of pickup and dropoff is based off of the center of community area if the census tract is hidden. Considering that much of the census tract columns are missing, most of these columns can be replaced with community area. We'll also drop pickup_latitude, pickup_longitude, pickup_location, dropoff_latitude, dropoff_longitude, and dropoff_location."
   ]
  },
  {
   "cell_type": "code",
   "execution_count": 9,
   "id": "e5363fa1-0f49-4a0d-8ca0-e1f4ca9b1025",
   "metadata": {},
   "outputs": [],
   "source": [
    "taxi_trips = taxi_trips.drop(\"pickup_latitude\", \"pickup_longitude\", \"pickup_location\", \"dropoff_latitude\", \"dropoff_longitude\", \"dropoff_location\")"
   ]
  },
  {
   "cell_type": "markdown",
   "id": "430b9a74-6f63-44c6-8d12-3aac6449301d",
   "metadata": {},
   "source": [
    "#### Replace `NULL` community area columns with -1\n",
    "Since the missing value in pickup_community_area and dropoff_community_area means that the location is outside of Chicago, not that the data is actually missing, we will replace it with a value -1 instead."
   ]
  },
  {
   "cell_type": "code",
   "execution_count": 10,
   "id": "d5ad6ef4-c08f-4f89-af74-d61646680f50",
   "metadata": {},
   "outputs": [],
   "source": [
    "taxi_trips = taxi_trips.fillna({\"pickup_community_area\": -1, \"dropoff_community_area\": -1})"
   ]
  },
  {
   "cell_type": "markdown",
   "id": "c0f095e3-4f07-4109-a056-0acc705e41f6",
   "metadata": {},
   "source": [
    "#### Examine columns related to payment"
   ]
  },
  {
   "cell_type": "code",
   "execution_count": 24,
   "id": "0cbe928a-ed12-440e-b70a-3b42d68b1d9a",
   "metadata": {},
   "outputs": [
    {
     "name": "stderr",
     "output_type": "stream",
     "text": [
      "                                                                                \r"
     ]
    },
    {
     "data": {
      "text/html": [
       "<div>\n",
       "<style scoped>\n",
       "    .dataframe tbody tr th:only-of-type {\n",
       "        vertical-align: middle;\n",
       "    }\n",
       "\n",
       "    .dataframe tbody tr th {\n",
       "        vertical-align: top;\n",
       "    }\n",
       "\n",
       "    .dataframe thead th {\n",
       "        text-align: right;\n",
       "    }\n",
       "</style>\n",
       "<table border=\"1\" class=\"dataframe\">\n",
       "  <thead>\n",
       "    <tr style=\"text-align: right;\">\n",
       "      <th></th>\n",
       "      <th>total_trip_count</th>\n",
       "      <th>fare_null_count</th>\n",
       "      <th>tips_null_count</th>\n",
       "      <th>tolls_null_count</th>\n",
       "      <th>extras_null_count</th>\n",
       "      <th>trip_total_null_count</th>\n",
       "    </tr>\n",
       "  </thead>\n",
       "  <tbody>\n",
       "    <tr>\n",
       "      <th>0</th>\n",
       "      <td>90990969</td>\n",
       "      <td>7921</td>\n",
       "      <td>7921</td>\n",
       "      <td>23258964</td>\n",
       "      <td>7921</td>\n",
       "      <td>7921</td>\n",
       "    </tr>\n",
       "  </tbody>\n",
       "</table>\n",
       "</div>"
      ],
      "text/plain": [
       "   total_trip_count  fare_null_count  tips_null_count  tolls_null_count  \\\n",
       "0          90990969             7921             7921          23258964   \n",
       "\n",
       "   extras_null_count  trip_total_null_count  \n",
       "0               7921                   7921  "
      ]
     },
     "execution_count": 24,
     "metadata": {},
     "output_type": "execute_result"
    }
   ],
   "source": [
    "taxi_trips.select(\n",
    "    count(\"*\").alias(\"total_trip_count\"),\n",
    "    sum(col(\"fare\").isNull().cast(\"int\")).alias(\"fare_null_count\"),\n",
    "    sum(col(\"tips\").isNull().cast(\"int\")).alias(\"tips_null_count\"),\n",
    "    sum(col(\"tolls\").isNull().cast(\"int\")).alias(\"tolls_null_count\"),\n",
    "    sum(col(\"extras\").isNull().cast(\"int\")).alias(\"extras_null_count\"),\n",
    "    sum(col(\"trip_total\").isNull().cast(\"int\")).alias(\"trip_total_null_count\"),\n",
    ").toPandas()"
   ]
  },
  {
   "cell_type": "markdown",
   "id": "81acedb4-ad17-4383-8d82-c4e4d2294134",
   "metadata": {},
   "source": [
    "The column tips, tolls, and extra will be left as null since it is possible for the ride to not incur such cost, but drop the row where fare or trip_total is missing."
   ]
  },
  {
   "cell_type": "code",
   "execution_count": 11,
   "id": "3279e260-6560-418c-ab37-354d13f852e0",
   "metadata": {},
   "outputs": [],
   "source": [
    "taxi_trips = taxi_trips.na.drop(subset=[\"fare\", \"trip_total\"])"
   ]
  },
  {
   "cell_type": "code",
   "execution_count": 26,
   "id": "0bd5ea82-41b6-4ef7-bc00-ef37f1b7a0a9",
   "metadata": {},
   "outputs": [
    {
     "name": "stderr",
     "output_type": "stream",
     "text": [
      "                                                                                \r"
     ]
    },
    {
     "data": {
      "text/html": [
       "<div>\n",
       "<style scoped>\n",
       "    .dataframe tbody tr th:only-of-type {\n",
       "        vertical-align: middle;\n",
       "    }\n",
       "\n",
       "    .dataframe tbody tr th {\n",
       "        vertical-align: top;\n",
       "    }\n",
       "\n",
       "    .dataframe thead th {\n",
       "        text-align: right;\n",
       "    }\n",
       "</style>\n",
       "<table border=\"1\" class=\"dataframe\">\n",
       "  <thead>\n",
       "    <tr style=\"text-align: right;\">\n",
       "      <th></th>\n",
       "      <th>fare_null_count</th>\n",
       "      <th>trip_total_null_count</th>\n",
       "    </tr>\n",
       "  </thead>\n",
       "  <tbody>\n",
       "    <tr>\n",
       "      <th>0</th>\n",
       "      <td>0</td>\n",
       "      <td>0</td>\n",
       "    </tr>\n",
       "  </tbody>\n",
       "</table>\n",
       "</div>"
      ],
      "text/plain": [
       "   fare_null_count  trip_total_null_count\n",
       "0                0                      0"
      ]
     },
     "execution_count": 26,
     "metadata": {},
     "output_type": "execute_result"
    }
   ],
   "source": [
    "taxi_trips.select(\n",
    "    sum(col(\"fare\").isNull().cast(\"int\")).alias(\"fare_null_count\"),\n",
    "    sum(col(\"trip_total\").isNull().cast(\"int\")).alias(\"trip_total_null_count\"),\n",
    ").toPandas()"
   ]
  },
  {
   "cell_type": "code",
   "execution_count": 12,
   "id": "c8748dd1-b6c1-4856-9475-e2663c835d46",
   "metadata": {},
   "outputs": [
    {
     "name": "stdout",
     "output_type": "stream",
     "text": [
      "root\n",
      " |-- trip_id: string (nullable = true)\n",
      " |-- taxi_id: string (nullable = true)\n",
      " |-- trip_start_timestamp: timestamp (nullable = true)\n",
      " |-- trip_end_timestamp: timestamp (nullable = true)\n",
      " |-- trip_miles: double (nullable = true)\n",
      " |-- pickup_community_area: integer (nullable = false)\n",
      " |-- dropoff_community_area: integer (nullable = false)\n",
      " |-- fare: double (nullable = true)\n",
      " |-- tips: double (nullable = true)\n",
      " |-- tolls: double (nullable = true)\n",
      " |-- extras: double (nullable = true)\n",
      " |-- trip_total: double (nullable = true)\n",
      " |-- payment_type: string (nullable = true)\n",
      " |-- company: string (nullable = true)\n",
      " |-- trip_minutes: integer (nullable = true)\n",
      "\n"
     ]
    }
   ],
   "source": [
    "taxi_trips.printSchema()"
   ]
  },
  {
   "cell_type": "markdown",
   "id": "5f74db38-7a41-438b-9d1d-115fa0eed624",
   "metadata": {},
   "source": [
    "#### Cache `taxi_trips` dataframe"
   ]
  },
  {
   "cell_type": "code",
   "execution_count": 13,
   "id": "62a9b67f-7ee7-481b-ac49-55ef2b253104",
   "metadata": {},
   "outputs": [
    {
     "data": {
      "text/plain": [
       "DataFrame[trip_id: string, taxi_id: string, trip_start_timestamp: timestamp, trip_end_timestamp: timestamp, trip_miles: double, pickup_community_area: int, dropoff_community_area: int, fare: double, tips: double, tolls: double, extras: double, trip_total: double, payment_type: string, company: string, trip_minutes: int]"
      ]
     },
     "execution_count": 13,
     "metadata": {},
     "output_type": "execute_result"
    }
   ],
   "source": [
    "taxi_trips.cache()"
   ]
  },
  {
   "cell_type": "code",
   "execution_count": 29,
   "id": "596d1fe9-1729-4040-8311-b63a3a5b2e5a",
   "metadata": {},
   "outputs": [
    {
     "name": "stderr",
     "output_type": "stream",
     "text": [
      "ERROR:root:KeyboardInterrupt while sending command.===========> (284 + 7) / 291]\n",
      "Traceback (most recent call last):\n",
      "  File \"/usr/lib/spark/python/lib/py4j-0.10.9.5-src.zip/py4j/java_gateway.py\", line 1038, in send_command\n",
      "    response = connection.send_command(command)\n",
      "  File \"/usr/lib/spark/python/lib/py4j-0.10.9.5-src.zip/py4j/clientserver.py\", line 511, in send_command\n",
      "    answer = smart_decode(self.stream.readline()[:-1])\n",
      "  File \"/opt/conda/miniconda3/lib/python3.10/socket.py\", line 705, in readinto\n",
      "    return self._sock.recv_into(b)\n",
      "KeyboardInterrupt\n"
     ]
    },
    {
     "ename": "KeyboardInterrupt",
     "evalue": "",
     "output_type": "error",
     "traceback": [
      "\u001b[0;31m---------------------------------------------------------------------------\u001b[0m",
      "\u001b[0;31mKeyboardInterrupt\u001b[0m                         Traceback (most recent call last)",
      "\u001b[0;32m/tmp/ipykernel_9322/3853012377.py\u001b[0m in \u001b[0;36m<cell line: 5>\u001b[0;34m()\u001b[0m\n\u001b[1;32m      3\u001b[0m \u001b[0;31m# Count nulls in all columns\u001b[0m\u001b[0;34m\u001b[0m\u001b[0;34m\u001b[0m\u001b[0m\n\u001b[1;32m      4\u001b[0m \u001b[0mnull_counts\u001b[0m \u001b[0;34m=\u001b[0m \u001b[0mtaxi_trips\u001b[0m\u001b[0;34m.\u001b[0m\u001b[0mselect\u001b[0m\u001b[0;34m(\u001b[0m\u001b[0;34m[\u001b[0m\u001b[0msum\u001b[0m\u001b[0;34m(\u001b[0m\u001b[0mwhen\u001b[0m\u001b[0;34m(\u001b[0m\u001b[0mcol\u001b[0m\u001b[0;34m(\u001b[0m\u001b[0mc\u001b[0m\u001b[0;34m)\u001b[0m\u001b[0;34m.\u001b[0m\u001b[0misNull\u001b[0m\u001b[0;34m(\u001b[0m\u001b[0;34m)\u001b[0m\u001b[0;34m,\u001b[0m \u001b[0;36m1\u001b[0m\u001b[0;34m)\u001b[0m\u001b[0;34m.\u001b[0m\u001b[0motherwise\u001b[0m\u001b[0;34m(\u001b[0m\u001b[0;36m0\u001b[0m\u001b[0;34m)\u001b[0m\u001b[0;34m)\u001b[0m\u001b[0;34m.\u001b[0m\u001b[0malias\u001b[0m\u001b[0;34m(\u001b[0m\u001b[0mc\u001b[0m\u001b[0;34m)\u001b[0m \u001b[0;32mfor\u001b[0m \u001b[0mc\u001b[0m \u001b[0;32min\u001b[0m \u001b[0mtaxi_trips\u001b[0m\u001b[0;34m.\u001b[0m\u001b[0mcolumns\u001b[0m\u001b[0;34m]\u001b[0m\u001b[0;34m)\u001b[0m\u001b[0;34m\u001b[0m\u001b[0;34m\u001b[0m\u001b[0m\n\u001b[0;32m----> 5\u001b[0;31m \u001b[0mnull_counts\u001b[0m\u001b[0;34m.\u001b[0m\u001b[0mshow\u001b[0m\u001b[0;34m(\u001b[0m\u001b[0;34m)\u001b[0m\u001b[0;34m\u001b[0m\u001b[0;34m\u001b[0m\u001b[0m\n\u001b[0m",
      "\u001b[0;32m/usr/lib/spark/python/pyspark/sql/dataframe.py\u001b[0m in \u001b[0;36mshow\u001b[0;34m(self, n, truncate, vertical)\u001b[0m\n\u001b[1;32m    604\u001b[0m \u001b[0;34m\u001b[0m\u001b[0m\n\u001b[1;32m    605\u001b[0m         \u001b[0;32mif\u001b[0m \u001b[0misinstance\u001b[0m\u001b[0;34m(\u001b[0m\u001b[0mtruncate\u001b[0m\u001b[0;34m,\u001b[0m \u001b[0mbool\u001b[0m\u001b[0;34m)\u001b[0m \u001b[0;32mand\u001b[0m \u001b[0mtruncate\u001b[0m\u001b[0;34m:\u001b[0m\u001b[0;34m\u001b[0m\u001b[0;34m\u001b[0m\u001b[0m\n\u001b[0;32m--> 606\u001b[0;31m             \u001b[0mprint\u001b[0m\u001b[0;34m(\u001b[0m\u001b[0mself\u001b[0m\u001b[0;34m.\u001b[0m\u001b[0m_jdf\u001b[0m\u001b[0;34m.\u001b[0m\u001b[0mshowString\u001b[0m\u001b[0;34m(\u001b[0m\u001b[0mn\u001b[0m\u001b[0;34m,\u001b[0m \u001b[0;36m20\u001b[0m\u001b[0;34m,\u001b[0m \u001b[0mvertical\u001b[0m\u001b[0;34m)\u001b[0m\u001b[0;34m)\u001b[0m\u001b[0;34m\u001b[0m\u001b[0;34m\u001b[0m\u001b[0m\n\u001b[0m\u001b[1;32m    607\u001b[0m         \u001b[0;32melse\u001b[0m\u001b[0;34m:\u001b[0m\u001b[0;34m\u001b[0m\u001b[0;34m\u001b[0m\u001b[0m\n\u001b[1;32m    608\u001b[0m             \u001b[0;32mtry\u001b[0m\u001b[0;34m:\u001b[0m\u001b[0;34m\u001b[0m\u001b[0;34m\u001b[0m\u001b[0m\n",
      "\u001b[0;32m/usr/lib/spark/python/lib/py4j-0.10.9.5-src.zip/py4j/java_gateway.py\u001b[0m in \u001b[0;36m__call__\u001b[0;34m(self, *args)\u001b[0m\n\u001b[1;32m   1318\u001b[0m             \u001b[0mproto\u001b[0m\u001b[0;34m.\u001b[0m\u001b[0mEND_COMMAND_PART\u001b[0m\u001b[0;34m\u001b[0m\u001b[0;34m\u001b[0m\u001b[0m\n\u001b[1;32m   1319\u001b[0m \u001b[0;34m\u001b[0m\u001b[0m\n\u001b[0;32m-> 1320\u001b[0;31m         \u001b[0manswer\u001b[0m \u001b[0;34m=\u001b[0m \u001b[0mself\u001b[0m\u001b[0;34m.\u001b[0m\u001b[0mgateway_client\u001b[0m\u001b[0;34m.\u001b[0m\u001b[0msend_command\u001b[0m\u001b[0;34m(\u001b[0m\u001b[0mcommand\u001b[0m\u001b[0;34m)\u001b[0m\u001b[0;34m\u001b[0m\u001b[0;34m\u001b[0m\u001b[0m\n\u001b[0m\u001b[1;32m   1321\u001b[0m         return_value = get_return_value(\n\u001b[1;32m   1322\u001b[0m             answer, self.gateway_client, self.target_id, self.name)\n",
      "\u001b[0;32m/usr/lib/spark/python/lib/py4j-0.10.9.5-src.zip/py4j/java_gateway.py\u001b[0m in \u001b[0;36msend_command\u001b[0;34m(self, command, retry, binary)\u001b[0m\n\u001b[1;32m   1036\u001b[0m         \u001b[0mconnection\u001b[0m \u001b[0;34m=\u001b[0m \u001b[0mself\u001b[0m\u001b[0;34m.\u001b[0m\u001b[0m_get_connection\u001b[0m\u001b[0;34m(\u001b[0m\u001b[0;34m)\u001b[0m\u001b[0;34m\u001b[0m\u001b[0;34m\u001b[0m\u001b[0m\n\u001b[1;32m   1037\u001b[0m         \u001b[0;32mtry\u001b[0m\u001b[0;34m:\u001b[0m\u001b[0;34m\u001b[0m\u001b[0;34m\u001b[0m\u001b[0m\n\u001b[0;32m-> 1038\u001b[0;31m             \u001b[0mresponse\u001b[0m \u001b[0;34m=\u001b[0m \u001b[0mconnection\u001b[0m\u001b[0;34m.\u001b[0m\u001b[0msend_command\u001b[0m\u001b[0;34m(\u001b[0m\u001b[0mcommand\u001b[0m\u001b[0;34m)\u001b[0m\u001b[0;34m\u001b[0m\u001b[0;34m\u001b[0m\u001b[0m\n\u001b[0m\u001b[1;32m   1039\u001b[0m             \u001b[0;32mif\u001b[0m \u001b[0mbinary\u001b[0m\u001b[0;34m:\u001b[0m\u001b[0;34m\u001b[0m\u001b[0;34m\u001b[0m\u001b[0m\n\u001b[1;32m   1040\u001b[0m                 \u001b[0;32mreturn\u001b[0m \u001b[0mresponse\u001b[0m\u001b[0;34m,\u001b[0m \u001b[0mself\u001b[0m\u001b[0;34m.\u001b[0m\u001b[0m_create_connection_guard\u001b[0m\u001b[0;34m(\u001b[0m\u001b[0mconnection\u001b[0m\u001b[0;34m)\u001b[0m\u001b[0;34m\u001b[0m\u001b[0;34m\u001b[0m\u001b[0m\n",
      "\u001b[0;32m/usr/lib/spark/python/lib/py4j-0.10.9.5-src.zip/py4j/clientserver.py\u001b[0m in \u001b[0;36msend_command\u001b[0;34m(self, command)\u001b[0m\n\u001b[1;32m    509\u001b[0m         \u001b[0;32mtry\u001b[0m\u001b[0;34m:\u001b[0m\u001b[0;34m\u001b[0m\u001b[0;34m\u001b[0m\u001b[0m\n\u001b[1;32m    510\u001b[0m             \u001b[0;32mwhile\u001b[0m \u001b[0;32mTrue\u001b[0m\u001b[0;34m:\u001b[0m\u001b[0;34m\u001b[0m\u001b[0;34m\u001b[0m\u001b[0m\n\u001b[0;32m--> 511\u001b[0;31m                 \u001b[0manswer\u001b[0m \u001b[0;34m=\u001b[0m \u001b[0msmart_decode\u001b[0m\u001b[0;34m(\u001b[0m\u001b[0mself\u001b[0m\u001b[0;34m.\u001b[0m\u001b[0mstream\u001b[0m\u001b[0;34m.\u001b[0m\u001b[0mreadline\u001b[0m\u001b[0;34m(\u001b[0m\u001b[0;34m)\u001b[0m\u001b[0;34m[\u001b[0m\u001b[0;34m:\u001b[0m\u001b[0;34m-\u001b[0m\u001b[0;36m1\u001b[0m\u001b[0;34m]\u001b[0m\u001b[0;34m)\u001b[0m\u001b[0;34m\u001b[0m\u001b[0;34m\u001b[0m\u001b[0m\n\u001b[0m\u001b[1;32m    512\u001b[0m                 \u001b[0mlogger\u001b[0m\u001b[0;34m.\u001b[0m\u001b[0mdebug\u001b[0m\u001b[0;34m(\u001b[0m\u001b[0;34m\"Answer received: {0}\"\u001b[0m\u001b[0;34m.\u001b[0m\u001b[0mformat\u001b[0m\u001b[0;34m(\u001b[0m\u001b[0manswer\u001b[0m\u001b[0;34m)\u001b[0m\u001b[0;34m)\u001b[0m\u001b[0;34m\u001b[0m\u001b[0;34m\u001b[0m\u001b[0m\n\u001b[1;32m    513\u001b[0m                 \u001b[0;31m# Happens when a the other end is dead. There might be an empty\u001b[0m\u001b[0;34m\u001b[0m\u001b[0;34m\u001b[0m\u001b[0m\n",
      "\u001b[0;32m/opt/conda/miniconda3/lib/python3.10/socket.py\u001b[0m in \u001b[0;36mreadinto\u001b[0;34m(self, b)\u001b[0m\n\u001b[1;32m    703\u001b[0m         \u001b[0;32mwhile\u001b[0m \u001b[0;32mTrue\u001b[0m\u001b[0;34m:\u001b[0m\u001b[0;34m\u001b[0m\u001b[0;34m\u001b[0m\u001b[0m\n\u001b[1;32m    704\u001b[0m             \u001b[0;32mtry\u001b[0m\u001b[0;34m:\u001b[0m\u001b[0;34m\u001b[0m\u001b[0;34m\u001b[0m\u001b[0m\n\u001b[0;32m--> 705\u001b[0;31m                 \u001b[0;32mreturn\u001b[0m \u001b[0mself\u001b[0m\u001b[0;34m.\u001b[0m\u001b[0m_sock\u001b[0m\u001b[0;34m.\u001b[0m\u001b[0mrecv_into\u001b[0m\u001b[0;34m(\u001b[0m\u001b[0mb\u001b[0m\u001b[0;34m)\u001b[0m\u001b[0;34m\u001b[0m\u001b[0;34m\u001b[0m\u001b[0m\n\u001b[0m\u001b[1;32m    706\u001b[0m             \u001b[0;32mexcept\u001b[0m \u001b[0mtimeout\u001b[0m\u001b[0;34m:\u001b[0m\u001b[0;34m\u001b[0m\u001b[0;34m\u001b[0m\u001b[0m\n\u001b[1;32m    707\u001b[0m                 \u001b[0mself\u001b[0m\u001b[0;34m.\u001b[0m\u001b[0m_timeout_occurred\u001b[0m \u001b[0;34m=\u001b[0m \u001b[0;32mTrue\u001b[0m\u001b[0;34m\u001b[0m\u001b[0;34m\u001b[0m\u001b[0m\n",
      "\u001b[0;31mKeyboardInterrupt\u001b[0m: "
     ]
    }
   ],
   "source": [
    "from pyspark.sql.functions import col, sum, when\n",
    "\n",
    "# Count nulls in all columns\n",
    "null_counts = taxi_trips.select([sum(when(col(c).isNull(), 1).otherwise(0)).alias(c) for c in taxi_trips.columns])\n",
    "null_counts.show()"
   ]
  },
  {
   "cell_type": "code",
   "execution_count": null,
   "id": "3d9a860a-612c-4f3b-b59f-94e5eb6f5971",
   "metadata": {},
   "outputs": [],
   "source": [
    "from pyspark.sql.functions import col\n",
    "\n",
    "# Count nulls in a specific column\n",
    "null_count = taxi_trips.filter(col(\"trip_start_timestamp\").isNull()).count()\n",
    "print(f\"Number of null values: {null_count}\")"
   ]
  },
  {
   "cell_type": "markdown",
   "id": "e24212c6-796e-4917-8cef-6f9f9f6417b6",
   "metadata": {},
   "source": [
    "#### Save cleaned dataframe to Google Cloud Storage for easy use"
   ]
  },
  {
   "cell_type": "code",
   "execution_count": 24,
   "id": "db9d4172-c8ea-47f4-8198-2c7d71a2b257",
   "metadata": {},
   "outputs": [
    {
     "data": {
      "text/plain": [
       "'\\n# Only run this cell when saving the clean dataset to GCS\\ngcs_path = \"gs://\" + bucket + \"/data/cleaned-data-2018-2023/taxi\"\\n\\ntaxi_trips.write.option(\"header\", \"true\").csv(gcs_path)\\n'"
      ]
     },
     "execution_count": 24,
     "metadata": {},
     "output_type": "execute_result"
    }
   ],
   "source": [
    "\"\"\"\n",
    "# Only run this cell when saving the clean dataset to GCS\n",
    "gcs_path = \"gs://\" + bucket + \"/data/cleaned-data-2018-2023/taxi\"\n",
    "\n",
    "taxi_trips.write.option(\"header\", \"true\").csv(gcs_path)\n",
    "\"\"\""
   ]
  },
  {
   "cell_type": "markdown",
   "id": "f1d858a5-01d0-4a2a-9da3-3337a325755d",
   "metadata": {},
   "source": [
    "### Community Area Dataset"
   ]
  },
  {
   "cell_type": "code",
   "execution_count": 14,
   "id": "c4e8236a-7210-430a-a03e-e77511fcc47b",
   "metadata": {},
   "outputs": [],
   "source": [
    "community_area_schema = StructType([StructField('the_geom', StringType(), True), \n",
    "                                    StructField('PERIMETER', StringType(), True), \n",
    "                                    StructField('AREA', StringType(), True), \n",
    "                                    StructField('COMAREA_', StringType(), True), \n",
    "                                    StructField('COMAREA_ID', StringType(), True), \n",
    "                                    StructField('AREA_NUMBE', IntegerType(), True), \n",
    "                                    StructField('COMMUNITY', StringType(), True), \n",
    "                                    StructField('AREA_NUM_1', IntegerType(), True), \n",
    "                                    StructField('SHAPE_AREA', StringType(), True), \n",
    "                                    StructField('SHAPE_LEN', StringType(), True)])\n",
    "\n",
    "community_areas = spark.read.format(\"csv\").option(\"header\", \"true\").schema(community_area_schema).csv(\"gs://qstba843-team2/data/chicago-taxi-trip/community_area.csv\")"
   ]
  },
  {
   "cell_type": "code",
   "execution_count": null,
   "id": "da63d43a-2b61-405f-b987-33d8bfa9c3e2",
   "metadata": {},
   "outputs": [],
   "source": [
    "community_areas.limit(5).toPandas()"
   ]
  },
  {
   "cell_type": "markdown",
   "id": "81ad5bb1-6a73-4a30-b0b8-a24aadf8bfd1",
   "metadata": {},
   "source": [
    "#### Drop columns with missing values and duplicate values\n",
    "All rows of `PERIMETER`, `AREA`, `COMAREA_`, and `COMAREA_ID` columns contains the same value 0, which implies that the data is missing, so there is no use to them. `AREA_NUM_1` column is a duplicte of `AREA_NUM` column. We will drop these 5 columns."
   ]
  },
  {
   "cell_type": "code",
   "execution_count": null,
   "id": "42bda9d6-5836-4253-a94f-b162b066a313",
   "metadata": {},
   "outputs": [],
   "source": [
    "community_areas.select(\"PERIMETER\").distinct().show()\n",
    "community_areas.select(\"AREA\").distinct().show()\n",
    "community_areas.select(\"COMAREA_\").distinct().show()\n",
    "community_areas.select(\"COMAREA_ID\").distinct().show()"
   ]
  },
  {
   "cell_type": "code",
   "execution_count": 15,
   "id": "4c95c272-c730-4678-aad0-b140d587c248",
   "metadata": {},
   "outputs": [],
   "source": [
    "community_areas = community_areas.drop(\"PERIMETER\", \"AREA\", \"COMAREA_\", \"COMAREA_ID\", \"AREA_NUM_1\")"
   ]
  },
  {
   "cell_type": "markdown",
   "id": "3d895d6e-ec05-407e-8fd1-2b281c9f61a0",
   "metadata": {
    "tags": []
   },
   "source": [
    "#### Add a row to indicate a placeholder community area outside of Chicago"
   ]
  },
  {
   "cell_type": "code",
   "execution_count": 16,
   "id": "c4b84a36-af4a-4358-9cf8-8a60bb27c8b1",
   "metadata": {},
   "outputs": [],
   "source": [
    "from pyspark.sql import Row\n",
    "\n",
    "community_areas = community_areas.union(spark.createDataFrame([Row(the_geom=None, AREA_NUMBE=-1, COMMUNITY=\"Outside of Chicago\", SHAPE_AREA=None, SHAPE_LEN=None)], schema=community_areas.schema))"
   ]
  },
  {
   "cell_type": "code",
   "execution_count": null,
   "id": "67842a40-f3ed-4ff0-8157-5e185f46947f",
   "metadata": {},
   "outputs": [],
   "source": [
    "community_areas.where(col(\"AREA_NUMBE\") == -1).toPandas()"
   ]
  },
  {
   "cell_type": "markdown",
   "id": "80b6f6cb-b981-40d2-b84d-f2305f7eaddb",
   "metadata": {},
   "source": [
    "#### Rename column AREA_NUMBE to AREA_NUMBER"
   ]
  },
  {
   "cell_type": "code",
   "execution_count": 17,
   "id": "31fa96ea-d906-403b-986d-d42f14566ef3",
   "metadata": {},
   "outputs": [],
   "source": [
    "community_areas = community_areas.withColumnRenamed(\"AREA_NUMBE\", \"AREA_NUMBER\")"
   ]
  },
  {
   "cell_type": "code",
   "execution_count": 18,
   "id": "e5f0267b-31b1-4967-a4db-3d5506f56ced",
   "metadata": {},
   "outputs": [
    {
     "name": "stdout",
     "output_type": "stream",
     "text": [
      "root\n",
      " |-- the_geom: string (nullable = true)\n",
      " |-- AREA_NUMBER: integer (nullable = true)\n",
      " |-- COMMUNITY: string (nullable = true)\n",
      " |-- SHAPE_AREA: string (nullable = true)\n",
      " |-- SHAPE_LEN: string (nullable = true)\n",
      "\n"
     ]
    }
   ],
   "source": [
    "community_areas.printSchema()"
   ]
  },
  {
   "cell_type": "markdown",
   "id": "8b79477a-acc3-4bf9-9bfb-6ba10d457300",
   "metadata": {},
   "source": [
    "#### Cache `community_areas` dataframe"
   ]
  },
  {
   "cell_type": "code",
   "execution_count": 19,
   "id": "04e182fa-2ce4-4d45-a1d8-bb0368ad687a",
   "metadata": {
    "tags": []
   },
   "outputs": [
    {
     "data": {
      "text/plain": [
       "DataFrame[the_geom: string, AREA_NUMBER: int, COMMUNITY: string, SHAPE_AREA: string, SHAPE_LEN: string]"
      ]
     },
     "execution_count": 19,
     "metadata": {},
     "output_type": "execute_result"
    }
   ],
   "source": [
    "community_areas.cache()"
   ]
  },
  {
   "cell_type": "markdown",
   "id": "f8ab9eb4-4a66-4c91-b21d-2ce76b9401e9",
   "metadata": {},
   "source": [
    "#### Save cleaned dataframe to Google Cloud Storage for easy use"
   ]
  },
  {
   "cell_type": "code",
   "execution_count": 34,
   "id": "616ce109-df88-4b22-aff9-c2690f130d08",
   "metadata": {},
   "outputs": [
    {
     "data": {
      "text/plain": [
       "'\\n# Only run this cell when saving the clean dataset to GCS\\ngcs_path = \"gs://\" + bucket + \"/data/cleaned-data-2018-2023/community-area\"\\n\\ncommunity_areas.write.option(\"header\", \"true\").csv(gcs_path)\\n'"
      ]
     },
     "execution_count": 34,
     "metadata": {},
     "output_type": "execute_result"
    }
   ],
   "source": [
    "\"\"\"\n",
    "# Only run this cell when saving the clean dataset to GCS\n",
    "gcs_path = \"gs://\" + bucket + \"/data/cleaned-data-2018-2023/community-area\"\n",
    "\n",
    "community_areas.write.option(\"header\", \"true\").csv(gcs_path)\n",
    "\"\"\""
   ]
  },
  {
   "cell_type": "markdown",
   "id": "a7a41923-f930-47cd-a3d1-d03cad6cb047",
   "metadata": {},
   "source": [
    "## 4. Exploratory Data Analysis <a class=\"anchor\" id=\"4\"></a>\n",
    "---"
   ]
  },
  {
   "cell_type": "code",
   "execution_count": 45,
   "id": "4624b483-e92e-4e19-a290-5878646a459b",
   "metadata": {},
   "outputs": [],
   "source": [
    "import matplotlib.pyplot as plt\n",
    "import seaborn as sns\n",
    "import pandas as pd\n",
    "import numpy as np"
   ]
  },
  {
   "cell_type": "code",
   "execution_count": 46,
   "id": "eb866e0c-8755-4591-a4e1-643a02e8b857",
   "metadata": {},
   "outputs": [
    {
     "ename": "Py4JJavaError",
     "evalue": "An error occurred while calling o361.csv.\n: java.lang.IllegalStateException: Cannot call methods on a stopped SparkContext.\nThis stopped SparkContext was created at:\n\norg.apache.spark.api.java.JavaSparkContext.<init>(JavaSparkContext.scala:58)\njava.base/jdk.internal.reflect.NativeConstructorAccessorImpl.newInstance0(Native Method)\njava.base/jdk.internal.reflect.NativeConstructorAccessorImpl.newInstance(NativeConstructorAccessorImpl.java:62)\njava.base/jdk.internal.reflect.DelegatingConstructorAccessorImpl.newInstance(DelegatingConstructorAccessorImpl.java:45)\njava.base/java.lang.reflect.Constructor.newInstance(Constructor.java:490)\npy4j.reflection.MethodInvoker.invoke(MethodInvoker.java:247)\npy4j.reflection.ReflectionEngine.invoke(ReflectionEngine.java:357)\npy4j.Gateway.invoke(Gateway.java:238)\npy4j.commands.ConstructorCommand.invokeConstructor(ConstructorCommand.java:80)\npy4j.commands.ConstructorCommand.execute(ConstructorCommand.java:69)\npy4j.ClientServerConnection.waitForCommands(ClientServerConnection.java:182)\npy4j.ClientServerConnection.run(ClientServerConnection.java:106)\njava.base/java.lang.Thread.run(Thread.java:829)\n\nThe currently active SparkContext was created at:\n\n(No active SparkContext.)\n         \n\tat org.apache.spark.SparkContext.assertNotStopped(SparkContext.scala:120)\n\tat org.apache.spark.SparkContext.$anonfun$parallelize$1(SparkContext.scala:874)\n\tat org.apache.spark.rdd.RDDOperationScope$.withScope(RDDOperationScope.scala:151)\n\tat org.apache.spark.rdd.RDDOperationScope$.withScope(RDDOperationScope.scala:112)\n\tat org.apache.spark.SparkContext.withScope(SparkContext.scala:856)\n\tat org.apache.spark.SparkContext.parallelize(SparkContext.scala:873)\n\tat org.apache.spark.util.HadoopFSUtils$.parallelListLeafFilesInternal(HadoopFSUtils.scala:123)\n\tat org.apache.spark.util.HadoopFSUtils$.parallelListLeafFiles(HadoopFSUtils.scala:69)\n\tat org.apache.spark.sql.execution.datasources.InMemoryFileIndex$.bulkListLeafFiles(InMemoryFileIndex.scala:158)\n\tat org.apache.spark.sql.execution.datasources.InMemoryFileIndex.listLeafFiles(InMemoryFileIndex.scala:131)\n\tat org.apache.spark.sql.execution.datasources.InMemoryFileIndex.refresh0(InMemoryFileIndex.scala:94)\n\tat org.apache.spark.sql.execution.datasources.InMemoryFileIndex.<init>(InMemoryFileIndex.scala:66)\n\tat org.apache.spark.sql.execution.datasources.DataSource.createInMemoryFileIndex(DataSource.scala:567)\n\tat org.apache.spark.sql.execution.datasources.DataSource.resolveRelation(DataSource.scala:409)\n\tat org.apache.spark.sql.DataFrameReader.loadV1Source(DataFrameReader.scala:228)\n\tat org.apache.spark.sql.DataFrameReader.$anonfun$load$2(DataFrameReader.scala:210)\n\tat scala.Option.getOrElse(Option.scala:189)\n\tat org.apache.spark.sql.DataFrameReader.load(DataFrameReader.scala:210)\n\tat org.apache.spark.sql.DataFrameReader.csv(DataFrameReader.scala:537)\n\tat java.base/jdk.internal.reflect.NativeMethodAccessorImpl.invoke0(Native Method)\n\tat java.base/jdk.internal.reflect.NativeMethodAccessorImpl.invoke(NativeMethodAccessorImpl.java:62)\n\tat java.base/jdk.internal.reflect.DelegatingMethodAccessorImpl.invoke(DelegatingMethodAccessorImpl.java:43)\n\tat java.base/java.lang.reflect.Method.invoke(Method.java:566)\n\tat py4j.reflection.MethodInvoker.invoke(MethodInvoker.java:244)\n\tat py4j.reflection.ReflectionEngine.invoke(ReflectionEngine.java:357)\n\tat py4j.Gateway.invoke(Gateway.java:282)\n\tat py4j.commands.AbstractCommand.invokeMethod(AbstractCommand.java:132)\n\tat py4j.commands.CallCommand.execute(CallCommand.java:79)\n\tat py4j.ClientServerConnection.waitForCommands(ClientServerConnection.java:182)\n\tat py4j.ClientServerConnection.run(ClientServerConnection.java:106)\n\tat java.base/java.lang.Thread.run(Thread.java:829)\n",
     "output_type": "error",
     "traceback": [
      "\u001b[0;31m---------------------------------------------------------------------------\u001b[0m",
      "\u001b[0;31mPy4JJavaError\u001b[0m                             Traceback (most recent call last)",
      "\u001b[0;32m/tmp/ipykernel_14263/2515188914.py\u001b[0m in \u001b[0;36m<cell line: 21>\u001b[0;34m()\u001b[0m\n\u001b[1;32m     19\u001b[0m ])\n\u001b[1;32m     20\u001b[0m \u001b[0;34m\u001b[0m\u001b[0m\n\u001b[0;32m---> 21\u001b[0;31m \u001b[0mtaxi_trips\u001b[0m \u001b[0;34m=\u001b[0m \u001b[0mspark\u001b[0m\u001b[0;34m.\u001b[0m\u001b[0mread\u001b[0m\u001b[0;34m.\u001b[0m\u001b[0mformat\u001b[0m\u001b[0;34m(\u001b[0m\u001b[0;34m\"csv\"\u001b[0m\u001b[0;34m)\u001b[0m\u001b[0;34m.\u001b[0m\u001b[0moption\u001b[0m\u001b[0;34m(\u001b[0m\u001b[0;34m\"header\"\u001b[0m\u001b[0;34m,\u001b[0m \u001b[0;34m\"true\"\u001b[0m\u001b[0;34m)\u001b[0m\u001b[0;34m.\u001b[0m\u001b[0mschema\u001b[0m\u001b[0;34m(\u001b[0m\u001b[0mcleaned_taxi_schema\u001b[0m\u001b[0;34m)\u001b[0m\u001b[0;34m.\u001b[0m\u001b[0mcsv\u001b[0m\u001b[0;34m(\u001b[0m\u001b[0mcleaned_taxi_url\u001b[0m\u001b[0;34m)\u001b[0m\u001b[0;34m\u001b[0m\u001b[0;34m\u001b[0m\u001b[0m\n\u001b[0m",
      "\u001b[0;32m/usr/lib/spark/python/pyspark/sql/readwriter.py\u001b[0m in \u001b[0;36mcsv\u001b[0;34m(self, path, schema, sep, encoding, quote, escape, comment, header, inferSchema, ignoreLeadingWhiteSpace, ignoreTrailingWhiteSpace, nullValue, nanValue, positiveInf, negativeInf, dateFormat, timestampFormat, maxColumns, maxCharsPerColumn, maxMalformedLogPerPartition, mode, columnNameOfCorruptRecord, multiLine, charToEscapeQuoteEscaping, samplingRatio, enforceSchema, emptyValue, locale, lineSep, pathGlobFilter, recursiveFileLookup, modifiedBefore, modifiedAfter, unescapedQuoteHandling)\u001b[0m\n\u001b[1;32m    533\u001b[0m         \u001b[0;32mif\u001b[0m \u001b[0mtype\u001b[0m\u001b[0;34m(\u001b[0m\u001b[0mpath\u001b[0m\u001b[0;34m)\u001b[0m \u001b[0;34m==\u001b[0m \u001b[0mlist\u001b[0m\u001b[0;34m:\u001b[0m\u001b[0;34m\u001b[0m\u001b[0;34m\u001b[0m\u001b[0m\n\u001b[1;32m    534\u001b[0m             \u001b[0;32massert\u001b[0m \u001b[0mself\u001b[0m\u001b[0;34m.\u001b[0m\u001b[0m_spark\u001b[0m\u001b[0;34m.\u001b[0m\u001b[0m_sc\u001b[0m\u001b[0;34m.\u001b[0m\u001b[0m_jvm\u001b[0m \u001b[0;32mis\u001b[0m \u001b[0;32mnot\u001b[0m \u001b[0;32mNone\u001b[0m\u001b[0;34m\u001b[0m\u001b[0;34m\u001b[0m\u001b[0m\n\u001b[0;32m--> 535\u001b[0;31m             \u001b[0;32mreturn\u001b[0m \u001b[0mself\u001b[0m\u001b[0;34m.\u001b[0m\u001b[0m_df\u001b[0m\u001b[0;34m(\u001b[0m\u001b[0mself\u001b[0m\u001b[0;34m.\u001b[0m\u001b[0m_jreader\u001b[0m\u001b[0;34m.\u001b[0m\u001b[0mcsv\u001b[0m\u001b[0;34m(\u001b[0m\u001b[0mself\u001b[0m\u001b[0;34m.\u001b[0m\u001b[0m_spark\u001b[0m\u001b[0;34m.\u001b[0m\u001b[0m_sc\u001b[0m\u001b[0;34m.\u001b[0m\u001b[0m_jvm\u001b[0m\u001b[0;34m.\u001b[0m\u001b[0mPythonUtils\u001b[0m\u001b[0;34m.\u001b[0m\u001b[0mtoSeq\u001b[0m\u001b[0;34m(\u001b[0m\u001b[0mpath\u001b[0m\u001b[0;34m)\u001b[0m\u001b[0;34m)\u001b[0m\u001b[0;34m)\u001b[0m\u001b[0;34m\u001b[0m\u001b[0;34m\u001b[0m\u001b[0m\n\u001b[0m\u001b[1;32m    536\u001b[0m         \u001b[0;32melif\u001b[0m \u001b[0misinstance\u001b[0m\u001b[0;34m(\u001b[0m\u001b[0mpath\u001b[0m\u001b[0;34m,\u001b[0m \u001b[0mRDD\u001b[0m\u001b[0;34m)\u001b[0m\u001b[0;34m:\u001b[0m\u001b[0;34m\u001b[0m\u001b[0;34m\u001b[0m\u001b[0m\n\u001b[1;32m    537\u001b[0m \u001b[0;34m\u001b[0m\u001b[0m\n",
      "\u001b[0;32m/usr/lib/spark/python/lib/py4j-0.10.9.5-src.zip/py4j/java_gateway.py\u001b[0m in \u001b[0;36m__call__\u001b[0;34m(self, *args)\u001b[0m\n\u001b[1;32m   1319\u001b[0m \u001b[0;34m\u001b[0m\u001b[0m\n\u001b[1;32m   1320\u001b[0m         \u001b[0manswer\u001b[0m \u001b[0;34m=\u001b[0m \u001b[0mself\u001b[0m\u001b[0;34m.\u001b[0m\u001b[0mgateway_client\u001b[0m\u001b[0;34m.\u001b[0m\u001b[0msend_command\u001b[0m\u001b[0;34m(\u001b[0m\u001b[0mcommand\u001b[0m\u001b[0;34m)\u001b[0m\u001b[0;34m\u001b[0m\u001b[0;34m\u001b[0m\u001b[0m\n\u001b[0;32m-> 1321\u001b[0;31m         return_value = get_return_value(\n\u001b[0m\u001b[1;32m   1322\u001b[0m             answer, self.gateway_client, self.target_id, self.name)\n\u001b[1;32m   1323\u001b[0m \u001b[0;34m\u001b[0m\u001b[0m\n",
      "\u001b[0;32m/usr/lib/spark/python/pyspark/sql/utils.py\u001b[0m in \u001b[0;36mdeco\u001b[0;34m(*a, **kw)\u001b[0m\n\u001b[1;32m    188\u001b[0m     \u001b[0;32mdef\u001b[0m \u001b[0mdeco\u001b[0m\u001b[0;34m(\u001b[0m\u001b[0;34m*\u001b[0m\u001b[0ma\u001b[0m\u001b[0;34m:\u001b[0m \u001b[0mAny\u001b[0m\u001b[0;34m,\u001b[0m \u001b[0;34m**\u001b[0m\u001b[0mkw\u001b[0m\u001b[0;34m:\u001b[0m \u001b[0mAny\u001b[0m\u001b[0;34m)\u001b[0m \u001b[0;34m->\u001b[0m \u001b[0mAny\u001b[0m\u001b[0;34m:\u001b[0m\u001b[0;34m\u001b[0m\u001b[0;34m\u001b[0m\u001b[0m\n\u001b[1;32m    189\u001b[0m         \u001b[0;32mtry\u001b[0m\u001b[0;34m:\u001b[0m\u001b[0;34m\u001b[0m\u001b[0;34m\u001b[0m\u001b[0m\n\u001b[0;32m--> 190\u001b[0;31m             \u001b[0;32mreturn\u001b[0m \u001b[0mf\u001b[0m\u001b[0;34m(\u001b[0m\u001b[0;34m*\u001b[0m\u001b[0ma\u001b[0m\u001b[0;34m,\u001b[0m \u001b[0;34m**\u001b[0m\u001b[0mkw\u001b[0m\u001b[0;34m)\u001b[0m\u001b[0;34m\u001b[0m\u001b[0;34m\u001b[0m\u001b[0m\n\u001b[0m\u001b[1;32m    191\u001b[0m         \u001b[0;32mexcept\u001b[0m \u001b[0mPy4JJavaError\u001b[0m \u001b[0;32mas\u001b[0m \u001b[0me\u001b[0m\u001b[0;34m:\u001b[0m\u001b[0;34m\u001b[0m\u001b[0;34m\u001b[0m\u001b[0m\n\u001b[1;32m    192\u001b[0m             \u001b[0mconverted\u001b[0m \u001b[0;34m=\u001b[0m \u001b[0mconvert_exception\u001b[0m\u001b[0;34m(\u001b[0m\u001b[0me\u001b[0m\u001b[0;34m.\u001b[0m\u001b[0mjava_exception\u001b[0m\u001b[0;34m)\u001b[0m\u001b[0;34m\u001b[0m\u001b[0;34m\u001b[0m\u001b[0m\n",
      "\u001b[0;32m/usr/lib/spark/python/lib/py4j-0.10.9.5-src.zip/py4j/protocol.py\u001b[0m in \u001b[0;36mget_return_value\u001b[0;34m(answer, gateway_client, target_id, name)\u001b[0m\n\u001b[1;32m    324\u001b[0m             \u001b[0mvalue\u001b[0m \u001b[0;34m=\u001b[0m \u001b[0mOUTPUT_CONVERTER\u001b[0m\u001b[0;34m[\u001b[0m\u001b[0mtype\u001b[0m\u001b[0;34m]\u001b[0m\u001b[0;34m(\u001b[0m\u001b[0manswer\u001b[0m\u001b[0;34m[\u001b[0m\u001b[0;36m2\u001b[0m\u001b[0;34m:\u001b[0m\u001b[0;34m]\u001b[0m\u001b[0;34m,\u001b[0m \u001b[0mgateway_client\u001b[0m\u001b[0;34m)\u001b[0m\u001b[0;34m\u001b[0m\u001b[0;34m\u001b[0m\u001b[0m\n\u001b[1;32m    325\u001b[0m             \u001b[0;32mif\u001b[0m \u001b[0manswer\u001b[0m\u001b[0;34m[\u001b[0m\u001b[0;36m1\u001b[0m\u001b[0;34m]\u001b[0m \u001b[0;34m==\u001b[0m \u001b[0mREFERENCE_TYPE\u001b[0m\u001b[0;34m:\u001b[0m\u001b[0;34m\u001b[0m\u001b[0;34m\u001b[0m\u001b[0m\n\u001b[0;32m--> 326\u001b[0;31m                 raise Py4JJavaError(\n\u001b[0m\u001b[1;32m    327\u001b[0m                     \u001b[0;34m\"An error occurred while calling {0}{1}{2}.\\n\"\u001b[0m\u001b[0;34m.\u001b[0m\u001b[0;34m\u001b[0m\u001b[0;34m\u001b[0m\u001b[0m\n\u001b[1;32m    328\u001b[0m                     format(target_id, \".\", name), value)\n",
      "\u001b[0;31mPy4JJavaError\u001b[0m: An error occurred while calling o361.csv.\n: java.lang.IllegalStateException: Cannot call methods on a stopped SparkContext.\nThis stopped SparkContext was created at:\n\norg.apache.spark.api.java.JavaSparkContext.<init>(JavaSparkContext.scala:58)\njava.base/jdk.internal.reflect.NativeConstructorAccessorImpl.newInstance0(Native Method)\njava.base/jdk.internal.reflect.NativeConstructorAccessorImpl.newInstance(NativeConstructorAccessorImpl.java:62)\njava.base/jdk.internal.reflect.DelegatingConstructorAccessorImpl.newInstance(DelegatingConstructorAccessorImpl.java:45)\njava.base/java.lang.reflect.Constructor.newInstance(Constructor.java:490)\npy4j.reflection.MethodInvoker.invoke(MethodInvoker.java:247)\npy4j.reflection.ReflectionEngine.invoke(ReflectionEngine.java:357)\npy4j.Gateway.invoke(Gateway.java:238)\npy4j.commands.ConstructorCommand.invokeConstructor(ConstructorCommand.java:80)\npy4j.commands.ConstructorCommand.execute(ConstructorCommand.java:69)\npy4j.ClientServerConnection.waitForCommands(ClientServerConnection.java:182)\npy4j.ClientServerConnection.run(ClientServerConnection.java:106)\njava.base/java.lang.Thread.run(Thread.java:829)\n\nThe currently active SparkContext was created at:\n\n(No active SparkContext.)\n         \n\tat org.apache.spark.SparkContext.assertNotStopped(SparkContext.scala:120)\n\tat org.apache.spark.SparkContext.$anonfun$parallelize$1(SparkContext.scala:874)\n\tat org.apache.spark.rdd.RDDOperationScope$.withScope(RDDOperationScope.scala:151)\n\tat org.apache.spark.rdd.RDDOperationScope$.withScope(RDDOperationScope.scala:112)\n\tat org.apache.spark.SparkContext.withScope(SparkContext.scala:856)\n\tat org.apache.spark.SparkContext.parallelize(SparkContext.scala:873)\n\tat org.apache.spark.util.HadoopFSUtils$.parallelListLeafFilesInternal(HadoopFSUtils.scala:123)\n\tat org.apache.spark.util.HadoopFSUtils$.parallelListLeafFiles(HadoopFSUtils.scala:69)\n\tat org.apache.spark.sql.execution.datasources.InMemoryFileIndex$.bulkListLeafFiles(InMemoryFileIndex.scala:158)\n\tat org.apache.spark.sql.execution.datasources.InMemoryFileIndex.listLeafFiles(InMemoryFileIndex.scala:131)\n\tat org.apache.spark.sql.execution.datasources.InMemoryFileIndex.refresh0(InMemoryFileIndex.scala:94)\n\tat org.apache.spark.sql.execution.datasources.InMemoryFileIndex.<init>(InMemoryFileIndex.scala:66)\n\tat org.apache.spark.sql.execution.datasources.DataSource.createInMemoryFileIndex(DataSource.scala:567)\n\tat org.apache.spark.sql.execution.datasources.DataSource.resolveRelation(DataSource.scala:409)\n\tat org.apache.spark.sql.DataFrameReader.loadV1Source(DataFrameReader.scala:228)\n\tat org.apache.spark.sql.DataFrameReader.$anonfun$load$2(DataFrameReader.scala:210)\n\tat scala.Option.getOrElse(Option.scala:189)\n\tat org.apache.spark.sql.DataFrameReader.load(DataFrameReader.scala:210)\n\tat org.apache.spark.sql.DataFrameReader.csv(DataFrameReader.scala:537)\n\tat java.base/jdk.internal.reflect.NativeMethodAccessorImpl.invoke0(Native Method)\n\tat java.base/jdk.internal.reflect.NativeMethodAccessorImpl.invoke(NativeMethodAccessorImpl.java:62)\n\tat java.base/jdk.internal.reflect.DelegatingMethodAccessorImpl.invoke(DelegatingMethodAccessorImpl.java:43)\n\tat java.base/java.lang.reflect.Method.invoke(Method.java:566)\n\tat py4j.reflection.MethodInvoker.invoke(MethodInvoker.java:244)\n\tat py4j.reflection.ReflectionEngine.invoke(ReflectionEngine.java:357)\n\tat py4j.Gateway.invoke(Gateway.java:282)\n\tat py4j.commands.AbstractCommand.invokeMethod(AbstractCommand.java:132)\n\tat py4j.commands.CallCommand.execute(CallCommand.java:79)\n\tat py4j.ClientServerConnection.waitForCommands(ClientServerConnection.java:182)\n\tat py4j.ClientServerConnection.run(ClientServerConnection.java:106)\n\tat java.base/java.lang.Thread.run(Thread.java:829)\n"
     ]
    }
   ],
   "source": [
    "cleaned_taxi_url = \"gs://\" + bucket + \"/data/cleaned-data-2018-2023/taxi/*.csv\"\n",
    "\n",
    "cleaned_taxi_schema = StructType([\n",
    "                StructField('trip_id', StringType(), True),\n",
    "                StructField('taxi_id', StringType(), True),\n",
    "                StructField('trip_start_timestamp', TimestampType(), True), \n",
    "                StructField('trip_end_timestamp', TimestampType(), True), \n",
    "                StructField('trip_miles', DoubleType(), True), \n",
    "                StructField('pickup_community_area', IntegerType(), True), \n",
    "                StructField('dropoff_community_area', IntegerType(), True), \n",
    "                StructField('fare', DoubleType(), True), \n",
    "                StructField('tips', DoubleType(), True), \n",
    "                StructField('tolls', DoubleType(), True), \n",
    "                StructField('extras', DoubleType(), True), \n",
    "                StructField('trip_total', DoubleType(), True), \n",
    "                StructField('payment_type', StringType(), True), \n",
    "                StructField('company', StringType(), True),\n",
    "                StructField('trip_minutes', IntegerType(), True)\n",
    "])\n",
    "\n",
    "taxi_trips = spark.read.format(\"csv\").option(\"header\", \"true\").schema(cleaned_taxi_schema).csv(cleaned_taxi_url)"
   ]
  },
  {
   "cell_type": "code",
   "execution_count": 47,
   "id": "46cb1103-f471-42db-be2c-63b9ea5f1bca",
   "metadata": {},
   "outputs": [],
   "source": [
    "cleaned_community_area_url = \"gs://\" + bucket + \"/data/cleaned-data-2018-2023/community-area/*.csv\"\n",
    "\n",
    "cleaned_community_area_schema = StructType([StructField('the_geom', StringType(), True), \n",
    "                                    StructField('AREA_NUMBER', IntegerType(), True), \n",
    "                                    StructField('COMMUNITY', StringType(), True), \n",
    "                                    StructField('SHAPE_AREA', StringType(), True), \n",
    "                                    StructField('SHAPE_LEN', StringType(), True)])\n",
    "\n",
    "community_areas = spark.read.format(\"csv\").option(\"header\", \"true\").schema(cleaned_community_area_schema).csv(cleaned_community_area_url)"
   ]
  },
  {
   "cell_type": "code",
   "execution_count": 48,
   "id": "44480678-272d-4767-b95c-ab0b34920385",
   "metadata": {},
   "outputs": [
    {
     "name": "stdout",
     "output_type": "stream",
     "text": [
      "root\n",
      " |-- trip_id: string (nullable = true)\n",
      " |-- taxi_id: string (nullable = true)\n",
      " |-- trip_start_timestamp: timestamp (nullable = true)\n",
      " |-- trip_end_timestamp: timestamp (nullable = true)\n",
      " |-- trip_miles: double (nullable = true)\n",
      " |-- pickup_community_area: integer (nullable = false)\n",
      " |-- dropoff_community_area: integer (nullable = false)\n",
      " |-- fare: double (nullable = true)\n",
      " |-- tips: double (nullable = true)\n",
      " |-- tolls: double (nullable = true)\n",
      " |-- extras: double (nullable = true)\n",
      " |-- trip_total: double (nullable = true)\n",
      " |-- payment_type: string (nullable = true)\n",
      " |-- company: string (nullable = true)\n",
      " |-- trip_minutes: integer (nullable = true)\n",
      "\n"
     ]
    }
   ],
   "source": [
    "taxi_trips.printSchema()"
   ]
  },
  {
   "cell_type": "code",
   "execution_count": 49,
   "id": "75099710-ae6c-41b1-b906-b47cfb09f538",
   "metadata": {},
   "outputs": [
    {
     "name": "stdout",
     "output_type": "stream",
     "text": [
      "root\n",
      " |-- the_geom: string (nullable = true)\n",
      " |-- AREA_NUMBER: integer (nullable = true)\n",
      " |-- COMMUNITY: string (nullable = true)\n",
      " |-- SHAPE_AREA: string (nullable = true)\n",
      " |-- SHAPE_LEN: string (nullable = true)\n",
      "\n"
     ]
    }
   ],
   "source": [
    "community_areas.printSchema()"
   ]
  },
  {
   "cell_type": "code",
   "execution_count": 50,
   "id": "7a99a486-1780-46cb-a136-57fccee02bf8",
   "metadata": {},
   "outputs": [
    {
     "name": "stderr",
     "output_type": "stream",
     "text": [
      "24/12/03 01:26:31 WARN CacheManager: Asked to cache already cached data.\n"
     ]
    },
    {
     "data": {
      "text/plain": [
       "DataFrame[trip_id: string, taxi_id: string, trip_start_timestamp: timestamp, trip_end_timestamp: timestamp, trip_miles: double, pickup_community_area: int, dropoff_community_area: int, fare: double, tips: double, tolls: double, extras: double, trip_total: double, payment_type: string, company: string, trip_minutes: int]"
      ]
     },
     "execution_count": 50,
     "metadata": {},
     "output_type": "execute_result"
    }
   ],
   "source": [
    "taxi_trips.cache()"
   ]
  },
  {
   "cell_type": "code",
   "execution_count": 51,
   "id": "79fc5f8e-42d7-41a6-870d-5667ab1fc9a3",
   "metadata": {},
   "outputs": [
    {
     "ename": "Py4JJavaError",
     "evalue": "An error occurred while calling o375.cache.\n: java.lang.IllegalStateException: Cannot call methods on a stopped SparkContext.\nThis stopped SparkContext was created at:\n\norg.apache.spark.api.java.JavaSparkContext.<init>(JavaSparkContext.scala:58)\njava.base/jdk.internal.reflect.NativeConstructorAccessorImpl.newInstance0(Native Method)\njava.base/jdk.internal.reflect.NativeConstructorAccessorImpl.newInstance(NativeConstructorAccessorImpl.java:62)\njava.base/jdk.internal.reflect.DelegatingConstructorAccessorImpl.newInstance(DelegatingConstructorAccessorImpl.java:45)\njava.base/java.lang.reflect.Constructor.newInstance(Constructor.java:490)\npy4j.reflection.MethodInvoker.invoke(MethodInvoker.java:247)\npy4j.reflection.ReflectionEngine.invoke(ReflectionEngine.java:357)\npy4j.Gateway.invoke(Gateway.java:238)\npy4j.commands.ConstructorCommand.invokeConstructor(ConstructorCommand.java:80)\npy4j.commands.ConstructorCommand.execute(ConstructorCommand.java:69)\npy4j.ClientServerConnection.waitForCommands(ClientServerConnection.java:182)\npy4j.ClientServerConnection.run(ClientServerConnection.java:106)\njava.base/java.lang.Thread.run(Thread.java:829)\n\nThe currently active SparkContext was created at:\n\n(No active SparkContext.)\n         \n\tat org.apache.spark.SparkContext.assertNotStopped(SparkContext.scala:120)\n\tat org.apache.spark.sql.SparkSession.<init>(SparkSession.scala:113)\n\tat org.apache.spark.sql.SparkSession.cloneSession(SparkSession.scala:276)\n\tat org.apache.spark.sql.SparkSession$.getOrCloneSessionWithConfigsOff(SparkSession.scala:1111)\n\tat org.apache.spark.sql.execution.CacheManager.getOrCloneSessionWithConfigsOff(CacheManager.scala:338)\n\tat org.apache.spark.sql.execution.CacheManager.cacheQuery(CacheManager.scala:118)\n\tat org.apache.spark.sql.execution.CacheManager.cacheQuery(CacheManager.scala:92)\n\tat org.apache.spark.sql.Dataset.persist(Dataset.scala:3320)\n\tat org.apache.spark.sql.Dataset.cache(Dataset.scala:3330)\n\tat java.base/jdk.internal.reflect.NativeMethodAccessorImpl.invoke0(Native Method)\n\tat java.base/jdk.internal.reflect.NativeMethodAccessorImpl.invoke(NativeMethodAccessorImpl.java:62)\n\tat java.base/jdk.internal.reflect.DelegatingMethodAccessorImpl.invoke(DelegatingMethodAccessorImpl.java:43)\n\tat java.base/java.lang.reflect.Method.invoke(Method.java:566)\n\tat py4j.reflection.MethodInvoker.invoke(MethodInvoker.java:244)\n\tat py4j.reflection.ReflectionEngine.invoke(ReflectionEngine.java:357)\n\tat py4j.Gateway.invoke(Gateway.java:282)\n\tat py4j.commands.AbstractCommand.invokeMethod(AbstractCommand.java:132)\n\tat py4j.commands.CallCommand.execute(CallCommand.java:79)\n\tat py4j.ClientServerConnection.waitForCommands(ClientServerConnection.java:182)\n\tat py4j.ClientServerConnection.run(ClientServerConnection.java:106)\n\tat java.base/java.lang.Thread.run(Thread.java:829)\n",
     "output_type": "error",
     "traceback": [
      "\u001b[0;31m---------------------------------------------------------------------------\u001b[0m",
      "\u001b[0;31mPy4JJavaError\u001b[0m                             Traceback (most recent call last)",
      "\u001b[0;32m/tmp/ipykernel_14263/77293995.py\u001b[0m in \u001b[0;36m<cell line: 1>\u001b[0;34m()\u001b[0m\n\u001b[0;32m----> 1\u001b[0;31m \u001b[0mcommunity_areas\u001b[0m\u001b[0;34m.\u001b[0m\u001b[0mcache\u001b[0m\u001b[0;34m(\u001b[0m\u001b[0;34m)\u001b[0m\u001b[0;34m\u001b[0m\u001b[0;34m\u001b[0m\u001b[0m\n\u001b[0m",
      "\u001b[0;32m/usr/lib/spark/python/pyspark/sql/dataframe.py\u001b[0m in \u001b[0;36mcache\u001b[0;34m(self)\u001b[0m\n\u001b[1;32m    927\u001b[0m         \"\"\"\n\u001b[1;32m    928\u001b[0m         \u001b[0mself\u001b[0m\u001b[0;34m.\u001b[0m\u001b[0mis_cached\u001b[0m \u001b[0;34m=\u001b[0m \u001b[0;32mTrue\u001b[0m\u001b[0;34m\u001b[0m\u001b[0;34m\u001b[0m\u001b[0m\n\u001b[0;32m--> 929\u001b[0;31m         \u001b[0mself\u001b[0m\u001b[0;34m.\u001b[0m\u001b[0m_jdf\u001b[0m\u001b[0;34m.\u001b[0m\u001b[0mcache\u001b[0m\u001b[0;34m(\u001b[0m\u001b[0;34m)\u001b[0m\u001b[0;34m\u001b[0m\u001b[0;34m\u001b[0m\u001b[0m\n\u001b[0m\u001b[1;32m    930\u001b[0m         \u001b[0;32mreturn\u001b[0m \u001b[0mself\u001b[0m\u001b[0;34m\u001b[0m\u001b[0;34m\u001b[0m\u001b[0m\n\u001b[1;32m    931\u001b[0m \u001b[0;34m\u001b[0m\u001b[0m\n",
      "\u001b[0;32m/usr/lib/spark/python/lib/py4j-0.10.9.5-src.zip/py4j/java_gateway.py\u001b[0m in \u001b[0;36m__call__\u001b[0;34m(self, *args)\u001b[0m\n\u001b[1;32m   1319\u001b[0m \u001b[0;34m\u001b[0m\u001b[0m\n\u001b[1;32m   1320\u001b[0m         \u001b[0manswer\u001b[0m \u001b[0;34m=\u001b[0m \u001b[0mself\u001b[0m\u001b[0;34m.\u001b[0m\u001b[0mgateway_client\u001b[0m\u001b[0;34m.\u001b[0m\u001b[0msend_command\u001b[0m\u001b[0;34m(\u001b[0m\u001b[0mcommand\u001b[0m\u001b[0;34m)\u001b[0m\u001b[0;34m\u001b[0m\u001b[0;34m\u001b[0m\u001b[0m\n\u001b[0;32m-> 1321\u001b[0;31m         return_value = get_return_value(\n\u001b[0m\u001b[1;32m   1322\u001b[0m             answer, self.gateway_client, self.target_id, self.name)\n\u001b[1;32m   1323\u001b[0m \u001b[0;34m\u001b[0m\u001b[0m\n",
      "\u001b[0;32m/usr/lib/spark/python/pyspark/sql/utils.py\u001b[0m in \u001b[0;36mdeco\u001b[0;34m(*a, **kw)\u001b[0m\n\u001b[1;32m    188\u001b[0m     \u001b[0;32mdef\u001b[0m \u001b[0mdeco\u001b[0m\u001b[0;34m(\u001b[0m\u001b[0;34m*\u001b[0m\u001b[0ma\u001b[0m\u001b[0;34m:\u001b[0m \u001b[0mAny\u001b[0m\u001b[0;34m,\u001b[0m \u001b[0;34m**\u001b[0m\u001b[0mkw\u001b[0m\u001b[0;34m:\u001b[0m \u001b[0mAny\u001b[0m\u001b[0;34m)\u001b[0m \u001b[0;34m->\u001b[0m \u001b[0mAny\u001b[0m\u001b[0;34m:\u001b[0m\u001b[0;34m\u001b[0m\u001b[0;34m\u001b[0m\u001b[0m\n\u001b[1;32m    189\u001b[0m         \u001b[0;32mtry\u001b[0m\u001b[0;34m:\u001b[0m\u001b[0;34m\u001b[0m\u001b[0;34m\u001b[0m\u001b[0m\n\u001b[0;32m--> 190\u001b[0;31m             \u001b[0;32mreturn\u001b[0m \u001b[0mf\u001b[0m\u001b[0;34m(\u001b[0m\u001b[0;34m*\u001b[0m\u001b[0ma\u001b[0m\u001b[0;34m,\u001b[0m \u001b[0;34m**\u001b[0m\u001b[0mkw\u001b[0m\u001b[0;34m)\u001b[0m\u001b[0;34m\u001b[0m\u001b[0;34m\u001b[0m\u001b[0m\n\u001b[0m\u001b[1;32m    191\u001b[0m         \u001b[0;32mexcept\u001b[0m \u001b[0mPy4JJavaError\u001b[0m \u001b[0;32mas\u001b[0m \u001b[0me\u001b[0m\u001b[0;34m:\u001b[0m\u001b[0;34m\u001b[0m\u001b[0;34m\u001b[0m\u001b[0m\n\u001b[1;32m    192\u001b[0m             \u001b[0mconverted\u001b[0m \u001b[0;34m=\u001b[0m \u001b[0mconvert_exception\u001b[0m\u001b[0;34m(\u001b[0m\u001b[0me\u001b[0m\u001b[0;34m.\u001b[0m\u001b[0mjava_exception\u001b[0m\u001b[0;34m)\u001b[0m\u001b[0;34m\u001b[0m\u001b[0;34m\u001b[0m\u001b[0m\n",
      "\u001b[0;32m/usr/lib/spark/python/lib/py4j-0.10.9.5-src.zip/py4j/protocol.py\u001b[0m in \u001b[0;36mget_return_value\u001b[0;34m(answer, gateway_client, target_id, name)\u001b[0m\n\u001b[1;32m    324\u001b[0m             \u001b[0mvalue\u001b[0m \u001b[0;34m=\u001b[0m \u001b[0mOUTPUT_CONVERTER\u001b[0m\u001b[0;34m[\u001b[0m\u001b[0mtype\u001b[0m\u001b[0;34m]\u001b[0m\u001b[0;34m(\u001b[0m\u001b[0manswer\u001b[0m\u001b[0;34m[\u001b[0m\u001b[0;36m2\u001b[0m\u001b[0;34m:\u001b[0m\u001b[0;34m]\u001b[0m\u001b[0;34m,\u001b[0m \u001b[0mgateway_client\u001b[0m\u001b[0;34m)\u001b[0m\u001b[0;34m\u001b[0m\u001b[0;34m\u001b[0m\u001b[0m\n\u001b[1;32m    325\u001b[0m             \u001b[0;32mif\u001b[0m \u001b[0manswer\u001b[0m\u001b[0;34m[\u001b[0m\u001b[0;36m1\u001b[0m\u001b[0;34m]\u001b[0m \u001b[0;34m==\u001b[0m \u001b[0mREFERENCE_TYPE\u001b[0m\u001b[0;34m:\u001b[0m\u001b[0;34m\u001b[0m\u001b[0;34m\u001b[0m\u001b[0m\n\u001b[0;32m--> 326\u001b[0;31m                 raise Py4JJavaError(\n\u001b[0m\u001b[1;32m    327\u001b[0m                     \u001b[0;34m\"An error occurred while calling {0}{1}{2}.\\n\"\u001b[0m\u001b[0;34m.\u001b[0m\u001b[0;34m\u001b[0m\u001b[0;34m\u001b[0m\u001b[0m\n\u001b[1;32m    328\u001b[0m                     format(target_id, \".\", name), value)\n",
      "\u001b[0;31mPy4JJavaError\u001b[0m: An error occurred while calling o375.cache.\n: java.lang.IllegalStateException: Cannot call methods on a stopped SparkContext.\nThis stopped SparkContext was created at:\n\norg.apache.spark.api.java.JavaSparkContext.<init>(JavaSparkContext.scala:58)\njava.base/jdk.internal.reflect.NativeConstructorAccessorImpl.newInstance0(Native Method)\njava.base/jdk.internal.reflect.NativeConstructorAccessorImpl.newInstance(NativeConstructorAccessorImpl.java:62)\njava.base/jdk.internal.reflect.DelegatingConstructorAccessorImpl.newInstance(DelegatingConstructorAccessorImpl.java:45)\njava.base/java.lang.reflect.Constructor.newInstance(Constructor.java:490)\npy4j.reflection.MethodInvoker.invoke(MethodInvoker.java:247)\npy4j.reflection.ReflectionEngine.invoke(ReflectionEngine.java:357)\npy4j.Gateway.invoke(Gateway.java:238)\npy4j.commands.ConstructorCommand.invokeConstructor(ConstructorCommand.java:80)\npy4j.commands.ConstructorCommand.execute(ConstructorCommand.java:69)\npy4j.ClientServerConnection.waitForCommands(ClientServerConnection.java:182)\npy4j.ClientServerConnection.run(ClientServerConnection.java:106)\njava.base/java.lang.Thread.run(Thread.java:829)\n\nThe currently active SparkContext was created at:\n\n(No active SparkContext.)\n         \n\tat org.apache.spark.SparkContext.assertNotStopped(SparkContext.scala:120)\n\tat org.apache.spark.sql.SparkSession.<init>(SparkSession.scala:113)\n\tat org.apache.spark.sql.SparkSession.cloneSession(SparkSession.scala:276)\n\tat org.apache.spark.sql.SparkSession$.getOrCloneSessionWithConfigsOff(SparkSession.scala:1111)\n\tat org.apache.spark.sql.execution.CacheManager.getOrCloneSessionWithConfigsOff(CacheManager.scala:338)\n\tat org.apache.spark.sql.execution.CacheManager.cacheQuery(CacheManager.scala:118)\n\tat org.apache.spark.sql.execution.CacheManager.cacheQuery(CacheManager.scala:92)\n\tat org.apache.spark.sql.Dataset.persist(Dataset.scala:3320)\n\tat org.apache.spark.sql.Dataset.cache(Dataset.scala:3330)\n\tat java.base/jdk.internal.reflect.NativeMethodAccessorImpl.invoke0(Native Method)\n\tat java.base/jdk.internal.reflect.NativeMethodAccessorImpl.invoke(NativeMethodAccessorImpl.java:62)\n\tat java.base/jdk.internal.reflect.DelegatingMethodAccessorImpl.invoke(DelegatingMethodAccessorImpl.java:43)\n\tat java.base/java.lang.reflect.Method.invoke(Method.java:566)\n\tat py4j.reflection.MethodInvoker.invoke(MethodInvoker.java:244)\n\tat py4j.reflection.ReflectionEngine.invoke(ReflectionEngine.java:357)\n\tat py4j.Gateway.invoke(Gateway.java:282)\n\tat py4j.commands.AbstractCommand.invokeMethod(AbstractCommand.java:132)\n\tat py4j.commands.CallCommand.execute(CallCommand.java:79)\n\tat py4j.ClientServerConnection.waitForCommands(ClientServerConnection.java:182)\n\tat py4j.ClientServerConnection.run(ClientServerConnection.java:106)\n\tat java.base/java.lang.Thread.run(Thread.java:829)\n"
     ]
    }
   ],
   "source": [
    "community_areas.cache()"
   ]
  },
  {
   "cell_type": "markdown",
   "id": "ab3f0af3-0c2d-4b01-8e6e-6e28eee6ea6e",
   "metadata": {
    "tags": []
   },
   "source": [
    "### 4.1 What is the distribution of trip duration?"
   ]
  },
  {
   "cell_type": "code",
   "execution_count": null,
   "id": "daa3a692-3f8e-4e8e-bd5e-1283dfb414d7",
   "metadata": {},
   "outputs": [],
   "source": [
    "taxi_trips_minutes_df = taxi_trips.select(col(\"trip_minutes\")).toPandas()[\"trip_minutes\"]"
   ]
  },
  {
   "cell_type": "markdown",
   "id": "48f2ce30-283a-4af5-85b8-3b1127af099c",
   "metadata": {},
   "source": [
    "Because of the outlier in trip duration when it is large, it is hard to visually see the distribution of the majority of the trip duration data. We can see, however, that most of the trips is under 100 minutes, so we will examine the distribution of trip duration that's under 100 minutes."
   ]
  },
  {
   "cell_type": "code",
   "execution_count": 52,
   "id": "25ee2efa-8e9a-44d0-a693-fbbfdc27e143",
   "metadata": {},
   "outputs": [
    {
     "data": {
      "image/png": "[encoded data removed]",
      "text/plain": [
       "<Figure size 1000x800 with 1 Axes>"
      ]
     },
     "metadata": {},
     "output_type": "display_data"
    }
   ],
   "source": [
    "plt.figure(figsize=(10, 8))\n",
    "plt.hist(taxi_trips_minutes_df[taxi_trips_minutes_df < 100], bins=100, color=\"skyblue\", edgecolor=\"black\")\n",
    "plt.ticklabel_format(style='plain', axis='y')\n",
    "plt.xlabel(\"Trip Duration in Minutes\")\n",
    "plt.ylabel(\"Number of Trips\")\n",
    "plt.title(\"Distribution of Trip Duration\")\n",
    "plt.show()"
   ]
  },
  {
   "cell_type": "code",
   "execution_count": 53,
   "id": "250d7ffd-bee2-4c33-bf22-4f1526b5d25b",
   "metadata": {},
   "outputs": [
    {
     "data": {
      "text/plain": [
       "count   9098990.00\n",
       "mean         14.83\n",
       "std          23.35\n",
       "min           1.00\n",
       "25%           6.00\n",
       "50%          10.00\n",
       "75%          18.00\n",
       "max        1440.00\n",
       "Name: trip_minutes, dtype: float64"
      ]
     },
     "execution_count": 53,
     "metadata": {},
     "output_type": "execute_result"
    }
   ],
   "source": [
    "pd.options.display.float_format = '{:.2f}'.format\n",
    "taxi_trips_minutes_df.describe()"
   ]
  },
  {
   "cell_type": "markdown",
   "id": "f640e112-39d3-4b0e-87a5-f7ecd09e31aa",
   "metadata": {},
   "source": [
    "**Summary:** The distribution of taxi trip duration is right-skewed. Most trips are between 1 and 23 minutes. The median duration is 12 minutes but the mean duration is 17.89 minutes, suggesting most trips take a short time but some large outliers are pulling up the mean."
   ]
  },
  {
   "cell_type": "markdown",
   "id": "5973b445-aa0d-4512-ba0d-8fcb7509c562",
   "metadata": {
    "tags": []
   },
   "source": [
    "### 4.2 What is the distribution of trip distance?"
   ]
  },
  {
   "cell_type": "code",
   "execution_count": 54,
   "id": "5b224ddd-9501-49f6-8096-df378750129d",
   "metadata": {},
   "outputs": [
    {
     "ename": "Py4JJavaError",
     "evalue": "An error occurred while calling o386.collectToPython.\n: java.lang.IllegalStateException: SparkContext has been shutdown\n\tat org.apache.spark.SparkContext.runJob(SparkContext.scala:2285)\n\tat org.apache.spark.SparkContext.runJob(SparkContext.scala:2314)\n\tat org.apache.spark.SparkContext.runJob(SparkContext.scala:2333)\n\tat org.apache.spark.SparkContext.runJob(SparkContext.scala:2358)\n\tat org.apache.spark.rdd.RDD.$anonfun$collect$1(RDD.scala:1021)\n\tat org.apache.spark.rdd.RDDOperationScope$.withScope(RDDOperationScope.scala:151)\n\tat org.apache.spark.rdd.RDDOperationScope$.withScope(RDDOperationScope.scala:112)\n\tat org.apache.spark.rdd.RDD.withScope(RDD.scala:406)\n\tat org.apache.spark.rdd.RDD.collect(RDD.scala:1020)\n\tat org.apache.spark.sql.execution.SparkPlan.executeCollect(SparkPlan.scala:424)\n\tat org.apache.spark.sql.Dataset.$anonfun$collectToPython$1(Dataset.scala:3688)\n\tat org.apache.spark.sql.Dataset.$anonfun$withAction$2(Dataset.scala:3858)\n\tat org.apache.spark.sql.execution.QueryExecution$.withInternalError(QueryExecution.scala:512)\n\tat org.apache.spark.sql.Dataset.$anonfun$withAction$1(Dataset.scala:3856)\n\tat org.apache.spark.sql.execution.SQLExecution$.$anonfun$withNewExecutionId$6(SQLExecution.scala:109)\n\tat org.apache.spark.sql.execution.SQLExecution$.withSQLConfPropagated(SQLExecution.scala:169)\n\tat org.apache.spark.sql.execution.SQLExecution$.$anonfun$withNewExecutionId$1(SQLExecution.scala:95)\n\tat org.apache.spark.sql.SparkSession.withActive(SparkSession.scala:779)\n\tat org.apache.spark.sql.execution.SQLExecution$.withNewExecutionId(SQLExecution.scala:64)\n\tat org.apache.spark.sql.Dataset.withAction(Dataset.scala:3856)\n\tat org.apache.spark.sql.Dataset.collectToPython(Dataset.scala:3685)\n\tat java.base/jdk.internal.reflect.NativeMethodAccessorImpl.invoke0(Native Method)\n\tat java.base/jdk.internal.reflect.NativeMethodAccessorImpl.invoke(NativeMethodAccessorImpl.java:62)\n\tat java.base/jdk.internal.reflect.DelegatingMethodAccessorImpl.invoke(DelegatingMethodAccessorImpl.java:43)\n\tat java.base/java.lang.reflect.Method.invoke(Method.java:566)\n\tat py4j.reflection.MethodInvoker.invoke(MethodInvoker.java:244)\n\tat py4j.reflection.ReflectionEngine.invoke(ReflectionEngine.java:357)\n\tat py4j.Gateway.invoke(Gateway.java:282)\n\tat py4j.commands.AbstractCommand.invokeMethod(AbstractCommand.java:132)\n\tat py4j.commands.CallCommand.execute(CallCommand.java:79)\n\tat py4j.ClientServerConnection.waitForCommands(ClientServerConnection.java:182)\n\tat py4j.ClientServerConnection.run(ClientServerConnection.java:106)\n\tat java.base/java.lang.Thread.run(Thread.java:829)\n",
     "output_type": "error",
     "traceback": [
      "\u001b[0;31m---------------------------------------------------------------------------\u001b[0m",
      "\u001b[0;31mPy4JJavaError\u001b[0m                             Traceback (most recent call last)",
      "\u001b[0;32m/tmp/ipykernel_14263/2095639010.py\u001b[0m in \u001b[0;36m<cell line: 1>\u001b[0;34m()\u001b[0m\n\u001b[0;32m----> 1\u001b[0;31m \u001b[0mtaxi_trips_distance_df\u001b[0m \u001b[0;34m=\u001b[0m \u001b[0mtaxi_trips\u001b[0m\u001b[0;34m.\u001b[0m\u001b[0mselect\u001b[0m\u001b[0;34m(\u001b[0m\u001b[0mcol\u001b[0m\u001b[0;34m(\u001b[0m\u001b[0;34m\"trip_miles\"\u001b[0m\u001b[0;34m)\u001b[0m\u001b[0;34m)\u001b[0m\u001b[0;34m.\u001b[0m\u001b[0msample\u001b[0m\u001b[0;34m(\u001b[0m\u001b[0mfraction\u001b[0m\u001b[0;34m=\u001b[0m\u001b[0;36m0.1\u001b[0m\u001b[0;34m,\u001b[0m \u001b[0mseed\u001b[0m\u001b[0;34m=\u001b[0m\u001b[0;36m42\u001b[0m\u001b[0;34m)\u001b[0m\u001b[0;34m.\u001b[0m\u001b[0mtoPandas\u001b[0m\u001b[0;34m(\u001b[0m\u001b[0;34m)\u001b[0m\u001b[0;34m[\u001b[0m\u001b[0;34m\"trip_miles\"\u001b[0m\u001b[0;34m]\u001b[0m\u001b[0;34m\u001b[0m\u001b[0;34m\u001b[0m\u001b[0m\n\u001b[0m",
      "\u001b[0;32m/usr/lib/spark/python/pyspark/sql/pandas/conversion.py\u001b[0m in \u001b[0;36mtoPandas\u001b[0;34m(self)\u001b[0m\n\u001b[1;32m    203\u001b[0m \u001b[0;34m\u001b[0m\u001b[0m\n\u001b[1;32m    204\u001b[0m         \u001b[0;31m# Below is toPandas without Arrow optimization.\u001b[0m\u001b[0;34m\u001b[0m\u001b[0;34m\u001b[0m\u001b[0m\n\u001b[0;32m--> 205\u001b[0;31m         \u001b[0mpdf\u001b[0m \u001b[0;34m=\u001b[0m \u001b[0mpd\u001b[0m\u001b[0;34m.\u001b[0m\u001b[0mDataFrame\u001b[0m\u001b[0;34m.\u001b[0m\u001b[0mfrom_records\u001b[0m\u001b[0;34m(\u001b[0m\u001b[0mself\u001b[0m\u001b[0;34m.\u001b[0m\u001b[0mcollect\u001b[0m\u001b[0;34m(\u001b[0m\u001b[0;34m)\u001b[0m\u001b[0;34m,\u001b[0m \u001b[0mcolumns\u001b[0m\u001b[0;34m=\u001b[0m\u001b[0mself\u001b[0m\u001b[0;34m.\u001b[0m\u001b[0mcolumns\u001b[0m\u001b[0;34m)\u001b[0m\u001b[0;34m\u001b[0m\u001b[0;34m\u001b[0m\u001b[0m\n\u001b[0m\u001b[1;32m    206\u001b[0m         \u001b[0mcolumn_counter\u001b[0m \u001b[0;34m=\u001b[0m \u001b[0mCounter\u001b[0m\u001b[0;34m(\u001b[0m\u001b[0mself\u001b[0m\u001b[0;34m.\u001b[0m\u001b[0mcolumns\u001b[0m\u001b[0;34m)\u001b[0m\u001b[0;34m\u001b[0m\u001b[0;34m\u001b[0m\u001b[0m\n\u001b[1;32m    207\u001b[0m \u001b[0;34m\u001b[0m\u001b[0m\n",
      "\u001b[0;32m/usr/lib/spark/python/pyspark/sql/dataframe.py\u001b[0m in \u001b[0;36mcollect\u001b[0;34m(self)\u001b[0m\n\u001b[1;32m    815\u001b[0m         \"\"\"\n\u001b[1;32m    816\u001b[0m         \u001b[0;32mwith\u001b[0m \u001b[0mSCCallSiteSync\u001b[0m\u001b[0;34m(\u001b[0m\u001b[0mself\u001b[0m\u001b[0;34m.\u001b[0m\u001b[0m_sc\u001b[0m\u001b[0;34m)\u001b[0m\u001b[0;34m:\u001b[0m\u001b[0;34m\u001b[0m\u001b[0;34m\u001b[0m\u001b[0m\n\u001b[0;32m--> 817\u001b[0;31m             \u001b[0msock_info\u001b[0m \u001b[0;34m=\u001b[0m \u001b[0mself\u001b[0m\u001b[0;34m.\u001b[0m\u001b[0m_jdf\u001b[0m\u001b[0;34m.\u001b[0m\u001b[0mcollectToPython\u001b[0m\u001b[0;34m(\u001b[0m\u001b[0;34m)\u001b[0m\u001b[0;34m\u001b[0m\u001b[0;34m\u001b[0m\u001b[0m\n\u001b[0m\u001b[1;32m    818\u001b[0m         \u001b[0;32mreturn\u001b[0m \u001b[0mlist\u001b[0m\u001b[0;34m(\u001b[0m\u001b[0m_load_from_socket\u001b[0m\u001b[0;34m(\u001b[0m\u001b[0msock_info\u001b[0m\u001b[0;34m,\u001b[0m \u001b[0mBatchedSerializer\u001b[0m\u001b[0;34m(\u001b[0m\u001b[0mCPickleSerializer\u001b[0m\u001b[0;34m(\u001b[0m\u001b[0;34m)\u001b[0m\u001b[0;34m)\u001b[0m\u001b[0;34m)\u001b[0m\u001b[0;34m)\u001b[0m\u001b[0;34m\u001b[0m\u001b[0;34m\u001b[0m\u001b[0m\n\u001b[1;32m    819\u001b[0m \u001b[0;34m\u001b[0m\u001b[0m\n",
      "\u001b[0;32m/usr/lib/spark/python/lib/py4j-0.10.9.5-src.zip/py4j/java_gateway.py\u001b[0m in \u001b[0;36m__call__\u001b[0;34m(self, *args)\u001b[0m\n\u001b[1;32m   1319\u001b[0m \u001b[0;34m\u001b[0m\u001b[0m\n\u001b[1;32m   1320\u001b[0m         \u001b[0manswer\u001b[0m \u001b[0;34m=\u001b[0m \u001b[0mself\u001b[0m\u001b[0;34m.\u001b[0m\u001b[0mgateway_client\u001b[0m\u001b[0;34m.\u001b[0m\u001b[0msend_command\u001b[0m\u001b[0;34m(\u001b[0m\u001b[0mcommand\u001b[0m\u001b[0;34m)\u001b[0m\u001b[0;34m\u001b[0m\u001b[0;34m\u001b[0m\u001b[0m\n\u001b[0;32m-> 1321\u001b[0;31m         return_value = get_return_value(\n\u001b[0m\u001b[1;32m   1322\u001b[0m             answer, self.gateway_client, self.target_id, self.name)\n\u001b[1;32m   1323\u001b[0m \u001b[0;34m\u001b[0m\u001b[0m\n",
      "\u001b[0;32m/usr/lib/spark/python/pyspark/sql/utils.py\u001b[0m in \u001b[0;36mdeco\u001b[0;34m(*a, **kw)\u001b[0m\n\u001b[1;32m    188\u001b[0m     \u001b[0;32mdef\u001b[0m \u001b[0mdeco\u001b[0m\u001b[0;34m(\u001b[0m\u001b[0;34m*\u001b[0m\u001b[0ma\u001b[0m\u001b[0;34m:\u001b[0m \u001b[0mAny\u001b[0m\u001b[0;34m,\u001b[0m \u001b[0;34m**\u001b[0m\u001b[0mkw\u001b[0m\u001b[0;34m:\u001b[0m \u001b[0mAny\u001b[0m\u001b[0;34m)\u001b[0m \u001b[0;34m->\u001b[0m \u001b[0mAny\u001b[0m\u001b[0;34m:\u001b[0m\u001b[0;34m\u001b[0m\u001b[0;34m\u001b[0m\u001b[0m\n\u001b[1;32m    189\u001b[0m         \u001b[0;32mtry\u001b[0m\u001b[0;34m:\u001b[0m\u001b[0;34m\u001b[0m\u001b[0;34m\u001b[0m\u001b[0m\n\u001b[0;32m--> 190\u001b[0;31m             \u001b[0;32mreturn\u001b[0m \u001b[0mf\u001b[0m\u001b[0;34m(\u001b[0m\u001b[0;34m*\u001b[0m\u001b[0ma\u001b[0m\u001b[0;34m,\u001b[0m \u001b[0;34m**\u001b[0m\u001b[0mkw\u001b[0m\u001b[0;34m)\u001b[0m\u001b[0;34m\u001b[0m\u001b[0;34m\u001b[0m\u001b[0m\n\u001b[0m\u001b[1;32m    191\u001b[0m         \u001b[0;32mexcept\u001b[0m \u001b[0mPy4JJavaError\u001b[0m \u001b[0;32mas\u001b[0m \u001b[0me\u001b[0m\u001b[0;34m:\u001b[0m\u001b[0;34m\u001b[0m\u001b[0;34m\u001b[0m\u001b[0m\n\u001b[1;32m    192\u001b[0m             \u001b[0mconverted\u001b[0m \u001b[0;34m=\u001b[0m \u001b[0mconvert_exception\u001b[0m\u001b[0;34m(\u001b[0m\u001b[0me\u001b[0m\u001b[0;34m.\u001b[0m\u001b[0mjava_exception\u001b[0m\u001b[0;34m)\u001b[0m\u001b[0;34m\u001b[0m\u001b[0;34m\u001b[0m\u001b[0m\n",
      "\u001b[0;32m/usr/lib/spark/python/lib/py4j-0.10.9.5-src.zip/py4j/protocol.py\u001b[0m in \u001b[0;36mget_return_value\u001b[0;34m(answer, gateway_client, target_id, name)\u001b[0m\n\u001b[1;32m    324\u001b[0m             \u001b[0mvalue\u001b[0m \u001b[0;34m=\u001b[0m \u001b[0mOUTPUT_CONVERTER\u001b[0m\u001b[0;34m[\u001b[0m\u001b[0mtype\u001b[0m\u001b[0;34m]\u001b[0m\u001b[0;34m(\u001b[0m\u001b[0manswer\u001b[0m\u001b[0;34m[\u001b[0m\u001b[0;36m2\u001b[0m\u001b[0;34m:\u001b[0m\u001b[0;34m]\u001b[0m\u001b[0;34m,\u001b[0m \u001b[0mgateway_client\u001b[0m\u001b[0;34m)\u001b[0m\u001b[0;34m\u001b[0m\u001b[0;34m\u001b[0m\u001b[0m\n\u001b[1;32m    325\u001b[0m             \u001b[0;32mif\u001b[0m \u001b[0manswer\u001b[0m\u001b[0;34m[\u001b[0m\u001b[0;36m1\u001b[0m\u001b[0;34m]\u001b[0m \u001b[0;34m==\u001b[0m \u001b[0mREFERENCE_TYPE\u001b[0m\u001b[0;34m:\u001b[0m\u001b[0;34m\u001b[0m\u001b[0;34m\u001b[0m\u001b[0m\n\u001b[0;32m--> 326\u001b[0;31m                 raise Py4JJavaError(\n\u001b[0m\u001b[1;32m    327\u001b[0m                     \u001b[0;34m\"An error occurred while calling {0}{1}{2}.\\n\"\u001b[0m\u001b[0;34m.\u001b[0m\u001b[0;34m\u001b[0m\u001b[0;34m\u001b[0m\u001b[0m\n\u001b[1;32m    328\u001b[0m                     format(target_id, \".\", name), value)\n",
      "\u001b[0;31mPy4JJavaError\u001b[0m: An error occurred while calling o386.collectToPython.\n: java.lang.IllegalStateException: SparkContext has been shutdown\n\tat org.apache.spark.SparkContext.runJob(SparkContext.scala:2285)\n\tat org.apache.spark.SparkContext.runJob(SparkContext.scala:2314)\n\tat org.apache.spark.SparkContext.runJob(SparkContext.scala:2333)\n\tat org.apache.spark.SparkContext.runJob(SparkContext.scala:2358)\n\tat org.apache.spark.rdd.RDD.$anonfun$collect$1(RDD.scala:1021)\n\tat org.apache.spark.rdd.RDDOperationScope$.withScope(RDDOperationScope.scala:151)\n\tat org.apache.spark.rdd.RDDOperationScope$.withScope(RDDOperationScope.scala:112)\n\tat org.apache.spark.rdd.RDD.withScope(RDD.scala:406)\n\tat org.apache.spark.rdd.RDD.collect(RDD.scala:1020)\n\tat org.apache.spark.sql.execution.SparkPlan.executeCollect(SparkPlan.scala:424)\n\tat org.apache.spark.sql.Dataset.$anonfun$collectToPython$1(Dataset.scala:3688)\n\tat org.apache.spark.sql.Dataset.$anonfun$withAction$2(Dataset.scala:3858)\n\tat org.apache.spark.sql.execution.QueryExecution$.withInternalError(QueryExecution.scala:512)\n\tat org.apache.spark.sql.Dataset.$anonfun$withAction$1(Dataset.scala:3856)\n\tat org.apache.spark.sql.execution.SQLExecution$.$anonfun$withNewExecutionId$6(SQLExecution.scala:109)\n\tat org.apache.spark.sql.execution.SQLExecution$.withSQLConfPropagated(SQLExecution.scala:169)\n\tat org.apache.spark.sql.execution.SQLExecution$.$anonfun$withNewExecutionId$1(SQLExecution.scala:95)\n\tat org.apache.spark.sql.SparkSession.withActive(SparkSession.scala:779)\n\tat org.apache.spark.sql.execution.SQLExecution$.withNewExecutionId(SQLExecution.scala:64)\n\tat org.apache.spark.sql.Dataset.withAction(Dataset.scala:3856)\n\tat org.apache.spark.sql.Dataset.collectToPython(Dataset.scala:3685)\n\tat java.base/jdk.internal.reflect.NativeMethodAccessorImpl.invoke0(Native Method)\n\tat java.base/jdk.internal.reflect.NativeMethodAccessorImpl.invoke(NativeMethodAccessorImpl.java:62)\n\tat java.base/jdk.internal.reflect.DelegatingMethodAccessorImpl.invoke(DelegatingMethodAccessorImpl.java:43)\n\tat java.base/java.lang.reflect.Method.invoke(Method.java:566)\n\tat py4j.reflection.MethodInvoker.invoke(MethodInvoker.java:244)\n\tat py4j.reflection.ReflectionEngine.invoke(ReflectionEngine.java:357)\n\tat py4j.Gateway.invoke(Gateway.java:282)\n\tat py4j.commands.AbstractCommand.invokeMethod(AbstractCommand.java:132)\n\tat py4j.commands.CallCommand.execute(CallCommand.java:79)\n\tat py4j.ClientServerConnection.waitForCommands(ClientServerConnection.java:182)\n\tat py4j.ClientServerConnection.run(ClientServerConnection.java:106)\n\tat java.base/java.lang.Thread.run(Thread.java:829)\n"
     ]
    }
   ],
   "source": [
    "taxi_trips_distance_df = taxi_trips.select(col(\"trip_miles\")).toPandas()[\"trip_miles\"]"
   ]
  },
  {
   "cell_type": "code",
   "execution_count": null,
   "id": "500af69a-28a9-4358-b88a-4464972a51d9",
   "metadata": {},
   "outputs": [],
   "source": [
    "plt.figure(figsize=(10, 8))\n",
    "plt.hist(taxi_trips_distance_df[taxi_trips_distance_df < 30], bins=100, color=\"skyblue\", edgecolor=\"black\")\n",
    "plt.ticklabel_format(style='plain', axis='y')\n",
    "plt.xlabel(\"Trip Distance in Miles\")\n",
    "plt.ylabel(\"Number of Trips\")\n",
    "plt.title(\"Distribution of Trip Distance\")\n",
    "plt.show()"
   ]
  },
  {
   "cell_type": "code",
   "execution_count": null,
   "id": "fadb4ba8-3b15-4228-8c3b-0fff47496e88",
   "metadata": {},
   "outputs": [],
   "source": [
    "taxi_trips_distance_df.describe()"
   ]
  },
  {
   "cell_type": "markdown",
   "id": "005bcfd6-7651-4cab-8cac-f3953ca08ac6",
   "metadata": {},
   "source": [
    "**Summary:** The distribution for taxi trip distance is right-skewed. At least 50% of the total trip having a distance less than 2 miles, while mean distance is 5.17 miles, suggesting that there are many shot trips and a smaller number of very long trips pulling the mean upward. There is a small local manimum at around 16 to 20 miles, which may indicate inter-city trips where the pickup or dropoff location is outside of Chicago which result in longer trips."
   ]
  },
  {
   "cell_type": "markdown",
   "id": "b82bea63-7bcb-4cb2-9a93-4ca68ffdbf76",
   "metadata": {
    "tags": []
   },
   "source": [
    "### 4.3 What is the distribution of trip fare?"
   ]
  },
  {
   "cell_type": "code",
   "execution_count": 27,
   "id": "33925604-edb7-4b49-bb41-3b586ba452c1",
   "metadata": {},
   "outputs": [
    {
     "name": "stderr",
     "output_type": "stream",
     "text": [
      "                                                                                \r"
     ]
    }
   ],
   "source": [
    "taxi_trips_fare_df = taxi_trips.select(col(\"fare\")).toPandas()[\"fare\"]"
   ]
  },
  {
   "cell_type": "code",
   "execution_count": 28,
   "id": "2c80f80f-778a-4e45-b8c4-143726a28983",
   "metadata": {},
   "outputs": [
    {
     "data": {
      "image/png": "[encoded data removed]",
      "text/plain": [
       "<Figure size 1000x800 with 1 Axes>"
      ]
     },
     "metadata": {},
     "output_type": "display_data"
    }
   ],
   "source": [
    "plt.figure(figsize=(10, 8))\n",
    "plt.hist(taxi_trips_fare_df[taxi_trips_fare_df < 80], bins=100, color=\"skyblue\", edgecolor=\"black\")\n",
    "plt.ticklabel_format(style='plain', axis='y')\n",
    "plt.xlabel(\"Trip Fare in US Dollar\")\n",
    "plt.ylabel(\"Number of Trips\")\n",
    "plt.title(\"Distribution of Trip Fare\")\n",
    "plt.show()"
   ]
  },
  {
   "cell_type": "code",
   "execution_count": 29,
   "id": "5e256348-6842-40b0-9135-ec6e95cdbe6c",
   "metadata": {},
   "outputs": [
    {
     "data": {
      "text/plain": [
       "count   9098990.00\n",
       "mean         14.33\n",
       "std          59.38\n",
       "min           0.00\n",
       "25%           6.25\n",
       "50%           8.65\n",
       "75%          15.05\n",
       "max        9900.26\n",
       "Name: fare, dtype: float64"
      ]
     },
     "execution_count": 29,
     "metadata": {},
     "output_type": "execute_result"
    }
   ],
   "source": [
    "taxi_trips_fare_df.describe()"
   ]
  },
  {
   "cell_type": "markdown",
   "id": "3f8af8fb-e010-4212-bb88-b4f2588c6724",
   "metadata": {},
   "source": [
    "**Summary:** The distribution of fares for Chicago taxi trip is right-skewed. The majority of trips cost between 0 USD (indicatng that the trip may have been cancelled) and 28 USD. The median fare is 10.50 USD while the mean fare is 18.34 USD, suggesting that most trips cost somewhere around 10.50 USD but there are smaller of trips with more expensive fares that are pulling up the average. This may indicate a longer trip (for example, inter-city trip), as we also see in the trip distance distribution graph."
   ]
  },
  {
   "cell_type": "markdown",
   "id": "9ac56297-6786-49f4-8a40-6429b7b49531",
   "metadata": {
    "tags": []
   },
   "source": [
    "### 4.4 How does the number of taxi rides, taxi cars, and taxi companies changes across the years from 2018 to 2023?"
   ]
  },
  {
   "cell_type": "markdown",
   "id": "5fba41db-692a-488a-80d7-d6817dbb1c04",
   "metadata": {},
   "source": [
    "We deem the trip start year to be the grouping factor for counting taxi cars in each year. Trips whose start year and end year is different (e.g. trips on New Year's Eve) will be counted to the start year."
   ]
  },
  {
   "cell_type": "code",
   "execution_count": 30,
   "id": "573c19ca-7a37-48b8-b2c2-2f5d783ced7e",
   "metadata": {},
   "outputs": [],
   "source": [
    "from pyspark.sql.functions import year, countDistinct\n",
    "\n",
    "df_with_year = taxi_trips.withColumn(\"year\", year(taxi_trips[\"trip_start_timestamp\"]))\n",
    "\n",
    "trip_count_per_year = (\n",
    "    df_with_year.groupBy(\"year\")                      \n",
    "                 .agg(countDistinct(\"trip_id\").alias(\"unique_trip_count\"))\n",
    "                 .orderBy(\"year\", ascending=True)\n",
    ")\n",
    "\n",
    "taxi_count_per_year = (\n",
    "    df_with_year.groupBy(\"year\")                      \n",
    "                 .agg(countDistinct(\"taxi_id\").alias(\"unique_taxi_count\"))\n",
    "                 .orderBy(\"year\", ascending=True)\n",
    ")\n",
    "\n",
    "company_count_per_year = (\n",
    "    df_with_year.groupBy(\"year\")                      \n",
    "                 .agg(countDistinct(\"company\").alias(\"unique_company_count\"))\n",
    "                 .orderBy(\"year\", ascending=True)\n",
    ")"
   ]
  },
  {
   "cell_type": "code",
   "execution_count": 31,
   "id": "f1765d75-dabc-4b19-9027-a3443e35d5b5",
   "metadata": {},
   "outputs": [
    {
     "name": "stderr",
     "output_type": "stream",
     "text": [
      "                                                                                \r"
     ]
    }
   ],
   "source": [
    "trip_count_per_year_pd = trip_count_per_year.toPandas()\n",
    "taxi_count_per_year_pd = taxi_count_per_year.toPandas()\n",
    "company_count_per_year_pd = company_count_per_year.toPandas()"
   ]
  },
  {
   "cell_type": "code",
   "execution_count": 32,
   "id": "8c8ef780-80a6-4c2b-9884-5bc825bdbaac",
   "metadata": {},
   "outputs": [
    {
     "data": {
      "image/png": "[encoded data removed]",
      "text/plain": [
       "<Figure size 1600x600 with 3 Axes>"
      ]
     },
     "metadata": {},
     "output_type": "display_data"
    }
   ],
   "source": [
    "from matplotlib.ticker import StrMethodFormatter\n",
    "\n",
    "fig, axes = plt.subplots(1, 3, figsize=(16,6), sharey=False)\n",
    "\n",
    "axes[0].plot(trip_count_per_year_pd[\"year\"], trip_count_per_year_pd[\"unique_trip_count\"], marker='o', linestyle='-')\n",
    "axes[0].set_xlabel(\"Year\")\n",
    "axes[0].set_ylabel(\"Number of Taxi Trips\")\n",
    "axes[0].set_title(\"Changes in the Number of Taxi Trips from 2018 to 2023\")\n",
    "axes[0].set_ylim(bottom=0)\n",
    "axes[0].yaxis.set_major_formatter(StrMethodFormatter(\"{x:,.0f}\"))\n",
    "axes[0].grid()\n",
    "\n",
    "axes[1].plot(taxi_count_per_year_pd[\"year\"], taxi_count_per_year_pd[\"unique_taxi_count\"], marker='o', linestyle='-')\n",
    "axes[1].set_xlabel(\"Year\")\n",
    "axes[1].set_ylabel(\"Number of Taxi Cars\")\n",
    "axes[1].set_title(\"Changes in the Number of Taxi Cars from 2018 to 2023\")\n",
    "axes[1].set_ylim(bottom=0) \n",
    "axes[1].grid()\n",
    "\n",
    "axes[2].plot(company_count_per_year_pd[\"year\"], company_count_per_year_pd[\"unique_company_count\"], marker='o', linestyle='-')\n",
    "axes[2].set_xlabel(\"Year\")\n",
    "axes[2].set_ylabel(\"Number of Taxi Companies\")\n",
    "axes[2].set_title(\"Changes in the Number of Taxi Companies from 2018 to 2023\")\n",
    "axes[2].set_ylim(bottom=0) \n",
    "axes[2].grid()\n",
    "\n",
    "plt.tight_layout()\n",
    "plt.show()"
   ]
  },
  {
   "cell_type": "markdown",
   "id": "f08e37d7-e06c-4248-9e97-cfc058b42d21",
   "metadata": {},
   "source": [
    "**Summary:** The graphs above compare the trends of taxi trips, taxi cars, and taxi companies over time. We can see that the number of taxi cars and taxi companies following similr trends where it continue to decrease from 2019 to 2021, which the trends for taxi trip counts is less predictable. The first case of COVID-19 is recorded at the beginning of 2020, followed by strict travel restrictions and statewide stay-at-home order in the state of Illinois that extends through May 2020 and stay-at-home advisory from November 2020 through December 2020 significantly affects the taxi trip demands, which explains the sharp drop from 2019 to 2020. The trip demands, however, makes a turnaround in 2021 and continue to increase in 2022 after the restriction is lifted and COVID-19 policy shift toward vacination, although it doesn't recover to the same height as in 2019 before COVID-19. The number of taxi cars and companies drops in 2020 also continue to decrease even after the restriction is lifted, which is possibly due to taxi drivers switching careers after experiencing poor demand in the previous years and competitions from Rideshare apps. Taxi companies may have shut down due to profit loss and industry's unsustainability in the face of Rideshare app's rising popularity."
   ]
  },
  {
   "cell_type": "markdown",
   "id": "1d6eab03-6156-4dbf-aa22-4312175951ab",
   "metadata": {},
   "source": [
    "**Summary:** There is a sharp drop in the number of taxi companies in Chicago from 2018 to 2021, and the number continue to decrease albeit at a more gradual pace from 2021 onward."
   ]
  },
  {
   "cell_type": "markdown",
   "id": "47ccf603-7a21-4ed6-bcd4-9980759af6e0",
   "metadata": {
    "tags": []
   },
   "source": [
    "### 4.5 What is the correlation between duration and distance of taxi trips?"
   ]
  },
  {
   "cell_type": "code",
   "execution_count": 38,
   "id": "6bddd8ba-307a-41d5-8981-3293d1b517c1",
   "metadata": {},
   "outputs": [],
   "source": [
    "taxi_trips_miles_minutes = taxi_trips[['trip_miles', 'trip_minutes']]"
   ]
  },
  {
   "cell_type": "code",
   "execution_count": 43,
   "id": "3e496330-1264-4411-8e17-ac02dca4d39b",
   "metadata": {},
   "outputs": [],
   "source": [
    "taxi_trips_miles_minutes = taxi_trips_miles_minutes.na.drop(subset=['trip_miles'])\n",
    "df_miles_minutes = taxi_trips_miles_minutes.toPandas()\n",
    "df_miles_minutes = df_miles_minutes[(df_miles_minutes[\"trip_miles\"] > 0) & (df_miles_minutes[\"trip_miles\"] <= 100)]"
   ]
  },
  {
   "cell_type": "code",
   "execution_count": null,
   "id": "65db7684-db9a-4582-810d-91ba72b93cbd",
   "metadata": {},
   "outputs": [],
   "source": [
    "correlation = df_miles_minutes['trip_minutes'].corr(df_miles_minutes['trip_miles'])\n",
    "print(f\"Correlation between trip duration and trip distance is {correlation:.2f}.\")"
   ]
  },
  {
   "cell_type": "code",
   "execution_count": null,
   "id": "ab713c39-f63c-4e9a-a2f4-c26dba1a132b",
   "metadata": {},
   "outputs": [],
   "source": [
    "sns.set_style(\"whitegrid\")\n",
    "\n",
    "plt.figure(figsize=(18, 8))\n",
    "coefficients = np.polyfit(df_miles_minutes['trip_miles'], df_miles_minutes['trip_minutes'], 1)\n",
    "linear_fit = np.poly1d(coefficients)\n",
    "\n",
    "sns.scatterplot(data=df_miles_minutes, x='trip_miles', y='trip_minutes', s=10, alpha=0.2)\n",
    "plt.plot(df_miles_minutes['trip_miles'], linear_fit(df_miles_minutes['trip_miles']), color='red')\n",
    "\n",
    "plt.text(100, 200, \"Regression Line\", color=\"red\")\n",
    "\n",
    "plt.title('Correlation of Trip Distance and Trip Duration', fontsize=16)\n",
    "plt.xlabel('Trip Distance in Miles', fontsize=12)\n",
    "plt.ylabel('Trip Duration in Minutes', fontsize=12)\n",
    "\n",
    "plt.show()"
   ]
  },
  {
   "cell_type": "markdown",
   "id": "a3c20f5c-7640-4ada-a7db-c8c1a662c558",
   "metadata": {},
   "source": [
    "**Summary:** The scatter plot shows that there is some linear relationship between trip distance and duration, but there are many datapoints that lies further away from the line especially in the case where the distance is shot. A moderate correlation of 0.42 indicated that in general, trip duration increases when the distance increases. However, the correlation is not particularly strong, which suggests that there may be external influence, such as traffic and weather condition or highways, that cause the trip to become shorter or longer than expected."
   ]
  },
  {
   "cell_type": "markdown",
   "id": "6ba1c8ce-a0f9-4f31-adfc-6242d1a43754",
   "metadata": {
    "tags": []
   },
   "source": [
    "### 4.6 What is the correlation between trip distance and fare?"
   ]
  },
  {
   "cell_type": "code",
   "execution_count": null,
   "id": "4914becd-88e1-407d-8c0e-f13ae53f11c6",
   "metadata": {},
   "outputs": [],
   "source": [
    "taxi_trips_miles_fare = taxi_trips[['trip_miles', 'fare']]"
   ]
  },
  {
   "cell_type": "code",
   "execution_count": null,
   "id": "c3dff732-c9aa-454b-9167-a105c0281a14",
   "metadata": {},
   "outputs": [],
   "source": [
    "taxi_trips_miles_fare = taxi_trips_miles_fare.na.drop(subset=['trip_miles'])\n",
    "df_miles_fare = taxi_trips_miles_fare.toPandas()\n",
    "df_miles_fare = df_miles_fare[(df_miles_fare[\"trip_miles\"] > 0) & (df_miles_fare[\"trip_miles\"] <= 100) & (df_miles_fare[\"fare\"] <= 1000)]"
   ]
  },
  {
   "cell_type": "code",
   "execution_count": null,
   "id": "9f2e34a1-2ff8-4ac9-bf67-ae343bded541",
   "metadata": {},
   "outputs": [],
   "source": [
    "correlation = df_miles_fare['fare'].corr(df_miles_fare['trip_miles'])\n",
    "print(f\"Correlation between fare and trip_miles: {correlation:.2f}\")"
   ]
  },
  {
   "cell_type": "code",
   "execution_count": null,
   "id": "16ffe302-68b2-4141-aeed-00d9116ae480",
   "metadata": {},
   "outputs": [],
   "source": [
    "import matplotlib as mpl\n",
    "\n",
    "sns.set_style(\"whitegrid\")\n",
    "\n",
    "plt.figure(figsize=(18, 8))\n",
    "coefficients = np.polyfit(df_miles_fare['trip_miles'], df_miles_fare['fare'], 1)\n",
    "linear_fit = np.poly1d(coefficients)\n",
    "\n",
    "sns.scatterplot(data=df_miles_fare, x='trip_miles', y='fare', s=10, alpha=0.2)\n",
    "plt.plot(df_miles_fare['trip_miles'], linear_fit(df_miles_fare['trip_miles']), color='red')\n",
    "\n",
    "plt.text(100, 200, \"Regression Line\", color=\"red\")\n",
    "\n",
    "plt.title('Correlation of Trip Distance and Fare', fontsize=16)\n",
    "plt.xlabel('Trip Distance in Miles', fontsize=12)\n",
    "plt.ylabel('Fire in USD', fontsize=12)\n",
    "\n",
    "plt.show()"
   ]
  },
  {
   "cell_type": "markdown",
   "id": "1cd738b3-0cef-4b39-b841-c0d1cff0c691",
   "metadata": {},
   "source": [
    "**Summary:** The scatter plot and the correlation score of 0.90 indicates that there is a very strong linear relationship between trip distance and duration. Trip fare increases as the distance increases. Trips where the fare is higher than typical of the distance indicates that traffic conditions may cause the charges to go up while distance remains the same."
   ]
  },
  {
   "cell_type": "markdown",
   "id": "fa0812ec-f50c-40cb-87a0-150989a6ac99",
   "metadata": {},
   "source": [
    "## 5. Taxi Hotspot Analysis <a class=\"anchor\" id=\"5\"></a>\n",
    "---"
   ]
  },
  {
   "cell_type": "code",
   "execution_count": null,
   "id": "23f4dd6d-c787-4f14-b300-c10d7f851fa6",
   "metadata": {},
   "outputs": [],
   "source": [
    "import geopandas as gpd\n",
    "from shapely.wkt import loads\n",
    "from matplotlib.colors import Normalize\n",
    "import matplotlib.colorbar as mcolorbar\n",
    "import matplotlib.cm as cm\n",
    "from matplotlib.ticker import FuncFormatter\n",
    "from matplotlib.patches import Patch"
   ]
  },
  {
   "cell_type": "markdown",
   "id": "920146b2-1cbf-451d-bb7c-b6d05af93ada",
   "metadata": {},
   "source": [
    "Chicago city is divided into 77 community areaa, which is given by the community area dataset."
   ]
  },
  {
   "cell_type": "markdown",
   "id": "18b6db06-9fe6-4187-9127-d3dbb75573ff",
   "metadata": {},
   "source": [
    "Remove AREA_NUMBER -1 because it doesn't contain geographical data and will cause error when plotting a map."
   ]
  },
  {
   "cell_type": "code",
   "execution_count": null,
   "id": "8bc73508-fe1d-434d-a461-66820a6f0ddc",
   "metadata": {},
   "outputs": [],
   "source": [
    "community_areas_pd = community_areas.where(~col(\"the_geom\").isNull()).toPandas()"
   ]
  },
  {
   "cell_type": "code",
   "execution_count": null,
   "id": "8f244d65-934f-4593-bf74-c429b76d7c58",
   "metadata": {},
   "outputs": [],
   "source": [
    "community_areas_pd[\"geometry\"] = community_areas_pd[\"the_geom\"].apply(loads)\n",
    "gdf = gpd.GeoDataFrame(community_areas_pd, geometry=\"geometry\")\n",
    "gdf.set_crs(epsg=4326, inplace=True)"
   ]
  },
  {
   "cell_type": "code",
   "execution_count": null,
   "id": "7dd465d1-5995-464f-b318-0f9572c9d2a2",
   "metadata": {
    "tags": []
   },
   "outputs": [],
   "source": [
    "gdf = gdf.sort_values(by=\"AREA_NUMBER\")\n",
    "\n",
    "fig, ax = plt.subplots(figsize=(10,8))\n",
    "gdf.plot(\n",
    "    color=\"lightgray\",\n",
    "    edgecolor=\"black\",\n",
    "    ax=ax\n",
    ")\n",
    "\n",
    "for _, row in gdf.iterrows():\n",
    "    centroid = row.geometry.centroid\n",
    "    ax.text(\n",
    "        centroid.x, centroid.y,\n",
    "        str(row[\"AREA_NUMBER\"]),\n",
    "        fontsize=7,\n",
    "        color=\"black\",\n",
    "        ha=\"center\",\n",
    "        va=\"center\",\n",
    "    )\n",
    "\n",
    "# Prepare legend handles\n",
    "legend_handles = [\n",
    "    Patch(color=\"none\", label=f\"{row['AREA_NUMBER']} - {row['COMMUNITY']}\") \n",
    "    for _, row in gdf.iterrows()\n",
    "]\n",
    "\n",
    "# Add the legend with multiple columns\n",
    "ax.legend(\n",
    "    handles=legend_handles,\n",
    "    title=\"Community Areas\",\n",
    "    loc=\"center left\",\n",
    "    bbox_to_anchor=(1.2, 0.5),\n",
    "    ncol=2,\n",
    "    fontsize=7,\n",
    "    title_fontsize=10,\n",
    "    frameon=False\n",
    ")\n",
    "\n",
    "# Add title and axis labels\n",
    "ax.set_title(\"Map of Chicago Communities\", fontsize=12)\n",
    "ax.set_xticks([])\n",
    "ax.set_yticks([])\n",
    "ax.grid(False)\n",
    "\n",
    "plt.show()"
   ]
  },
  {
   "cell_type": "markdown",
   "id": "f08bbc6f-05a4-4668-bceb-39781ef8764e",
   "metadata": {
    "tags": []
   },
   "source": [
    "### 5.1 Which locations see a large demand in taxi pickups and dropoffs?"
   ]
  },
  {
   "cell_type": "code",
   "execution_count": null,
   "id": "46b12c67-e586-43ad-a3e6-7126b4911225",
   "metadata": {},
   "outputs": [],
   "source": [
    "taxi_pickup_community_area = taxi_trips.groupBy(\"pickup_community_area\").count().withColumnRenamed(\"count\", \"ride_frequency\").toPandas()\n",
    "taxi_pickup_community_area_gdf = gdf.merge(taxi_pickup_community_area, left_on=\"AREA_NUMBER\", right_on=\"pickup_community_area\", how=\"inner\")"
   ]
  },
  {
   "cell_type": "code",
   "execution_count": null,
   "id": "4d085168-8e99-40d1-bb37-61203be192d9",
   "metadata": {},
   "outputs": [],
   "source": [
    "taxi_pickup_community_area_gdf.sort_values(by=\"ride_frequency\", ascending=False).head(5)"
   ]
  },
  {
   "cell_type": "code",
   "execution_count": null,
   "id": "7236e07c-19c9-481b-801b-70bada687bfc",
   "metadata": {},
   "outputs": [],
   "source": [
    "taxi_dropoff_community_area = taxi_trips.groupBy(\"dropoff_community_area\").count().withColumnRenamed(\"count\", \"ride_frequency\").toPandas()\n",
    "taxi_dropoff_community_area_gdf = gdf.merge(taxi_dropoff_community_area, left_on=\"AREA_NUMBER\", right_on=\"dropoff_community_area\", how=\"inner\")"
   ]
  },
  {
   "cell_type": "code",
   "execution_count": null,
   "id": "98d5a383-2522-4235-a6f9-bde4103f688c",
   "metadata": {},
   "outputs": [],
   "source": [
    "taxi_dropoff_community_area_gdf.sort_values(by=\"ride_frequency\", ascending=False).head(5)"
   ]
  },
  {
   "cell_type": "code",
   "execution_count": null,
   "id": "da08e399-0a5d-4fdf-9f99-0cccfee248fc",
   "metadata": {},
   "outputs": [],
   "source": [
    "import matplotlib.pyplot as plt\n",
    "from matplotlib.colors import Normalize\n",
    "import matplotlib.cm as cm\n",
    "from matplotlib.patches import Patch\n",
    "from matplotlib.ticker import FuncFormatter\n",
    "\n",
    "# Normalize ride frequencies for shared color scale\n",
    "vmin = min(\n",
    "    taxi_pickup_community_area_gdf[\"ride_frequency\"].min(),\n",
    "    taxi_dropoff_community_area_gdf[\"ride_frequency\"].min()\n",
    ")\n",
    "vmax = max(\n",
    "    taxi_pickup_community_area_gdf[\"ride_frequency\"].max(),\n",
    "    taxi_dropoff_community_area_gdf[\"ride_frequency\"].max()\n",
    ")\n",
    "norm = Normalize(vmin=vmin, vmax=vmax)\n",
    "cmap = plt.cm.OrRd\n",
    "\n",
    "# Add a color column to both GeoDataFrames\n",
    "taxi_pickup_community_area_gdf[\"color\"] = taxi_pickup_community_area_gdf[\"ride_frequency\"].apply(lambda x: cmap(norm(x)))\n",
    "taxi_dropoff_community_area_gdf[\"color\"] = taxi_dropoff_community_area_gdf[\"ride_frequency\"].apply(lambda x: cmap(norm(x)))\n",
    "\n",
    "# Create subplots\n",
    "fig, (ax1, ax2) = plt.subplots(1, 2, figsize=(13, 8), constrained_layout=True)\n",
    "\n",
    "# Plot Pickup Data\n",
    "taxi_pickup_community_area_gdf.plot(\n",
    "    color=taxi_pickup_community_area_gdf[\"color\"],\n",
    "    edgecolor=\"black\",\n",
    "    ax=ax1\n",
    ")\n",
    "ax1.set_title(\"Taxi Pickup Frequencies by Community Area\", fontsize=12)\n",
    "ax1.set_xticks([])\n",
    "ax1.set_yticks([])\n",
    "\n",
    "for _, row in taxi_pickup_community_area_gdf.iterrows():\n",
    "    centroid = row.geometry.centroid\n",
    "    ax1.text(\n",
    "        centroid.x, centroid.y,\n",
    "        str(row[\"AREA_NUMBER\"]),\n",
    "        fontsize=7,\n",
    "        color=\"black\",\n",
    "        ha=\"center\",\n",
    "        va=\"center\"\n",
    "    )\n",
    "\n",
    "# Plot Dropoff Data\n",
    "taxi_dropoff_community_area_gdf.plot(\n",
    "    color=taxi_dropoff_community_area_gdf[\"color\"],\n",
    "    edgecolor=\"black\",\n",
    "    ax=ax2\n",
    ")\n",
    "ax2.set_title(\"Taxi Dropoff Frequencies by Community Area\", fontsize=12)\n",
    "ax2.set_xticks([])\n",
    "ax2.set_yticks([])\n",
    "\n",
    "for _, row in taxi_dropoff_community_area_gdf.iterrows():\n",
    "    centroid = row.geometry.centroid\n",
    "    ax2.text(\n",
    "        centroid.x, centroid.y,\n",
    "        str(row[\"AREA_NUMBER\"]),\n",
    "        fontsize=7,\n",
    "        color=\"black\",\n",
    "        ha=\"center\",\n",
    "        va=\"center\"\n",
    "    )\n",
    "\n",
    "# Add a shared horizontal colorbar\n",
    "sm = cm.ScalarMappable(cmap=cmap, norm=norm)\n",
    "sm.set_array([])\n",
    "cbar = fig.colorbar(sm, ax=[ax1, ax2], orientation=\"horizontal\", pad=0.02, aspect=50, shrink=0.8)\n",
    "cbar.set_label(\"Number of Taxi Trips\", fontsize=10)\n",
    "cbar.ax.xaxis.set_major_formatter(FuncFormatter(lambda x, _: f\"{x / 1_000_000:.0f}M\"))\n",
    "\n",
    "# Shared legend for community areas\n",
    "legend_handles = [\n",
    "    Patch(color=\"none\", label=f\"{row['AREA_NUMBER']} - {row['COMMUNITY']}\") \n",
    "    for _, row in gdf.iterrows()\n",
    "]\n",
    "fig.legend(\n",
    "    handles=legend_handles,\n",
    "    title=\"Community Areas\",\n",
    "    loc=\"center right\",\n",
    "    bbox_to_anchor=(1.3, 0.5),\n",
    "    ncol=2,\n",
    "    fontsize=7,\n",
    "    title_fontsize=10,\n",
    "    frameon=False\n",
    ")\n",
    "\n",
    "plt.show()"
   ]
  },
  {
   "cell_type": "markdown",
   "id": "6074f905-754d-4204-b575-d75dd805b9e4",
   "metadata": {},
   "source": [
    "**Summary:** We can see from the heatmap above that Near North Side and Loop have more than 4 million pickups and 4 million drop offs from 2018 to 2023. This makes sense because both areas are the downtown area where business districts and popular tourist attractions are located. Near West side also see significant pickup and dropoff due to it's proximity to downtown and sport stadiums such as the Chicago Bulls and the Chicago Blackhawks. O'Hare sees around 3 million pickups over the 6 years, which makes it the third pickup hotspot in Chicago due to it being where Chicago O'Hare International Airport is located."
   ]
  },
  {
   "cell_type": "markdown",
   "id": "4d7187b8-ffcb-4059-b2cc-554cb270af96",
   "metadata": {},
   "source": [
    "### 5.2 How much are traffic in the hotspot areas affected by work commute?"
   ]
  },
  {
   "cell_type": "code",
   "execution_count": null,
   "id": "e5208c58-813f-482c-a710-ccf2e02273dd",
   "metadata": {},
   "outputs": [],
   "source": [
    "from pyspark.sql.functions import date_format, hour"
   ]
  },
  {
   "cell_type": "code",
   "execution_count": null,
   "id": "0ac3724c-e649-47f6-aae9-681f7d379ac1",
   "metadata": {},
   "outputs": [],
   "source": [
    "downtown_pickup_trips = taxi_trips.where((col(\"pickup_community_area\") == 8) | (col(\"pickup_community_area\") == 32))\n",
    "downtown_pickup_trips = downtown_pickup_trips.withColumn(\"day_of_week\", date_format(col(\"trip_start_timestamp\"), \"EEEE\")) \\\n",
    "                        .withColumn(\"hour_of_day\", hour(col(\"trip_start_timestamp\")) \\\n",
    "                        .cast(IntegerType()))\n",
    "workday_downtown_pickup_trips = downtown_pickup_trips.where(col(\"day_of_week\").isin(\"Monday\", \"Tuesday\", \"Wednesday\", \"Thursday\", \"Friday\"))\n",
    "workday_downtown_pickup_trips = workday_downtown_pickup_trips.groupBy(\"hour_of_day\").agg(count(\"*\").alias(\"total_ride_pickups\")).orderBy(\"hour_of_day\")"
   ]
  },
  {
   "cell_type": "code",
   "execution_count": null,
   "id": "8322c50b-3d20-444f-b435-3c36c78559b5",
   "metadata": {},
   "outputs": [],
   "source": [
    "workday_downtown_pickup_trips.show(24)"
   ]
  },
  {
   "cell_type": "code",
   "execution_count": null,
   "id": "e4800588-007d-48fc-90b3-41c698f7993c",
   "metadata": {},
   "outputs": [],
   "source": [
    "downtown_dropoff_trips = taxi_trips.where((col(\"dropoff_community_area\") == 8) | (col(\"dropoff_community_area\") == 32))\n",
    "downtown_dropoff_trips = downtown_dropoff_trips.withColumn(\"day_of_week\", date_format(col(\"trip_end_timestamp\"), \"EEEE\")) \\\n",
    "                                                .withColumn(\"hour_of_day\", hour(col(\"trip_end_timestamp\")) \\\n",
    "                                                .cast(IntegerType()))\n",
    "workday_downtown_dropoff_trips = downtown_dropoff_trips.where(col(\"day_of_week\").isin(\"Monday\", \"Tuesday\", \"Wednesday\", \"Thursday\", \"Friday\"))\n",
    "workday_downtown_dropoff_trips = workday_downtown_dropoff_trips.groupBy(\"hour_of_day\").agg(count(\"*\").alias(\"total_ride_dropoffs\")).orderBy(\"hour_of_day\")"
   ]
  },
  {
   "cell_type": "code",
   "execution_count": null,
   "id": "a759bf86-2df7-4dbe-abc9-52158db1a8cc",
   "metadata": {},
   "outputs": [],
   "source": [
    "workday_downtown_dropoff_trips.show(24)"
   ]
  },
  {
   "cell_type": "code",
   "execution_count": null,
   "id": "0e8a5cec-bce6-408d-8172-203316675176",
   "metadata": {},
   "outputs": [],
   "source": [
    "workday_downtown_pickup_trips_pd = workday_downtown_pickup_trips.toPandas()\n",
    "workday_downtown_dropoff_trips_pd = workday_downtown_dropoff_trips.toPandas()\n",
    "\n",
    "workday_downtown_trips = pd.merge(\n",
    "    workday_downtown_pickup_trips_pd,\n",
    "    workday_downtown_dropoff_trips_pd,\n",
    "    on=\"hour_of_day\",\n",
    ")"
   ]
  },
  {
   "cell_type": "code",
   "execution_count": null,
   "id": "8a77a887-2da8-470f-8b55-82cb349635bb",
   "metadata": {},
   "outputs": [],
   "source": [
    "plt.figure(figsize=(14, 6))\n",
    "plt.plot(workday_downtown_trips['hour_of_day'], workday_downtown_trips['total_ride_pickups'], label='Ride Pickups', marker='o')\n",
    "plt.plot(workday_downtown_trips['hour_of_day'], workday_downtown_trips['total_ride_dropoffs'], label='Ride Dropoffs', marker='x')\n",
    "\n",
    "plt.title('Hourly Workday Ride Pickups and Dropoffs in Downtown Chicago')\n",
    "plt.xlabel('Hours of the Day')\n",
    "plt.ylabel('Number of Taxi Trips')\n",
    "plt.xticks(range(0, 24))\n",
    "plt.legend()\n",
    "plt.grid(True, alpha=0.3)\n",
    "\n",
    "plt.show()"
   ]
  },
  {
   "cell_type": "markdown",
   "id": "c95720e3-cdf8-4304-b893-9babbee558f8",
   "metadata": {},
   "source": [
    "**Summary**: Taxi ride demands in Downtown area is significantly affected by work hours. The number of both pickups and dropoffs increases sharply at 6AM and continue to increase at a rapid rate until 8AM, which is the time when commuters leave home for work assuming the regular work hours start at 9AM. The number of taxi pickups and dropoffs remain high during work hours due to visits to different businesses in Downtown. At 4-5PM, taxi pickups peak because it is the time when people leave work and continue decreasing as the time goes on."
   ]
  },
  {
   "cell_type": "markdown",
   "id": "24b0d11f-1529-4693-9de0-8ab8484b1420",
   "metadata": {},
   "source": [
    "## 6. Time Analysis <a class=\"anchor\" id=\"6\"></a>\n",
    "---"
   ]
  },
  {
   "cell_type": "code",
   "execution_count": null,
   "id": "283a763a-b2c6-405a-bc9e-0a13e768bcaa",
   "metadata": {},
   "outputs": [],
   "source": [
    "from pyspark.sql.functions import date_format, hour, month, year, dayofmonth"
   ]
  },
  {
   "cell_type": "markdown",
   "id": "ff3996ab-9862-4f42-98a5-3a8946cfae08",
   "metadata": {},
   "source": [
    "### 6.1 What are the difference in taxi demand based on month of the year, day of the week, and time of the day?"
   ]
  },
  {
   "cell_type": "code",
   "execution_count": null,
   "id": "b53a978c-eb4c-42a7-b23d-82125b7b079b",
   "metadata": {},
   "outputs": [],
   "source": [
    "time_trips = (\n",
    "    taxi_trips \\\n",
    "    .withColumn(\"year\", year(col(\"trip_start_timestamp\"))) \\\n",
    "    .withColumn(\"month\", month(col(\"trip_start_timestamp\"))) \\\n",
    "    .withColumn(\"day_of_month\", dayofmonth(col(\"trip_start_timestamp\"))) \\\n",
    "    .withColumn(\"day_of_week\", date_format(col(\"trip_start_timestamp\"), \"EEEE\")) \\\n",
    "    .withColumn(\"hour_of_day\", hour(col(\"trip_start_timestamp\")).cast(IntegerType()))\n",
    ")\n",
    "\n",
    "month_year_trips_pd = time_trips.groupBy(\"year\", \"month\") \\\n",
    "    .agg(count(\"*\").alias(\"total_rides\")) \\\n",
    "    .orderBy(\"year\", \"month\").toPandas()"
   ]
  },
  {
   "cell_type": "code",
   "execution_count": null,
   "id": "1bbc6e3f-e056-49aa-96f9-f6ae3b3dbce2",
   "metadata": {},
   "outputs": [],
   "source": [
    "month_year_trips_pd"
   ]
  },
  {
   "cell_type": "code",
   "execution_count": null,
   "id": "946e8949-a3ef-43b4-ad06-79a5e31a4495",
   "metadata": {},
   "outputs": [],
   "source": [
    "month_day_trips_pd = time_trips.groupBy(\"month\", \"day_of_month\") \\\n",
    "    .agg(count(\"*\").alias(\"total_rides\")) \\\n",
    "    .orderBy(\"month\", \"day_of_month\").toPandas()"
   ]
  },
  {
   "cell_type": "code",
   "execution_count": null,
   "id": "78a0427b-ffdc-4172-8cf9-f61b4880b3ff",
   "metadata": {},
   "outputs": [],
   "source": [
    "month_day_trips_pd"
   ]
  },
  {
   "cell_type": "code",
   "execution_count": null,
   "id": "1f8e0e3a-9347-4810-a39f-36838c0f693d",
   "metadata": {},
   "outputs": [],
   "source": [
    "day_week_month_trips = time_trips.groupBy(\"month\", \"day_of_week\").agg(count(\"*\").alias(\"total_rides\")).toPandas()"
   ]
  },
  {
   "cell_type": "code",
   "execution_count": null,
   "id": "3048e297-c0e1-47bd-b80c-3d0228acdd6f",
   "metadata": {},
   "outputs": [],
   "source": [
    "day_week_month_trips"
   ]
  },
  {
   "cell_type": "code",
   "execution_count": null,
   "id": "dd70ab5b-6bd6-4af5-925e-9245237f66d4",
   "metadata": {},
   "outputs": [],
   "source": [
    "hour_day_trips = (\n",
    "    time_trips.groupBy(\"hour_of_day\", \"day_of_week\")\n",
    "    .agg(count(\"*\").alias(\"total_rides\"))\n",
    "    .toPandas()\n",
    ")"
   ]
  },
  {
   "cell_type": "code",
   "execution_count": null,
   "id": "7b83062e-8d49-4494-999f-47941dafa09f",
   "metadata": {},
   "outputs": [],
   "source": [
    "hour_day_trips"
   ]
  },
  {
   "cell_type": "code",
   "execution_count": null,
   "id": "da8e944d-ffaa-4253-b51f-47787b9f80f3",
   "metadata": {},
   "outputs": [],
   "source": [
    "day_order = [\"Sunday\", \"Monday\", \"Tuesday\", \"Wednesday\", \"Thursday\", \"Friday\", \"Saturday\"]\n",
    "hour_of_day = np.arange(24)\n",
    "month_labels = [\"Jan\", \"Feb\", \"Mar\", \"Apr\", \"May\", \"Jun\", \"Jul\", \"Aug\", \"Sep\", \"Oct\", \"Nov\", \"Dec\"]\n",
    "year_labels = np.arange(2018, 2024)"
   ]
  },
  {
   "cell_type": "code",
   "execution_count": null,
   "id": "2afc9c1f-7e22-4b95-a0ad-45ff532503e4",
   "metadata": {},
   "outputs": [],
   "source": [
    "all_years = month_year_trips_pd[\"year\"].unique()\n",
    "all_months = range(1, 13)\n",
    "\n",
    "# Create a full index with all combinations of years and months\n",
    "full_index = pd.MultiIndex.from_product([all_years, all_months], names=[\"year\", \"month\"])\n",
    "\n",
    "# Reindex the DataFrame to include all combinations, filling missing values with 0\n",
    "month_year_trips_full = month_year_trips_pd.set_index([\"year\", \"month\"]) \\\n",
    "    .reindex(full_index, fill_value=0) \\\n",
    "    .reset_index()\n",
    "\n",
    "heatmap_month_year_data = month_year_trips_full.pivot(index=\"year\", columns=\"month\", values=\"total_rides\")\n",
    "heatmap_day_week_month_data = day_week_month_trips.pivot(index=\"month\", columns=\"day_of_week\", values=\"total_rides\").reindex(columns=day_order)\n",
    "heatmap_hour_day_data = hour_day_trips.pivot(index=\"day_of_week\", columns=\"hour_of_day\", values=\"total_rides\").reindex(index=day_order)"
   ]
  },
  {
   "cell_type": "code",
   "execution_count": null,
   "id": "312b9dfb-dd93-4cbc-a78b-13bcbb225892",
   "metadata": {},
   "outputs": [],
   "source": [
    "from matplotlib.ticker import FuncFormatter\n",
    "\n",
    "# Define a function for consistent colorbar formatting\n",
    "def format_colorbar(cbar_axis):\n",
    "    cbar_axis.yaxis.set_major_formatter(\n",
    "        FuncFormatter(\n",
    "            lambda x, _: f\"{int(x / 1000000)}M\" if x >= 1000000 else \n",
    "            f\"{int(x / 1000)}K\" if x >= 1000 else \n",
    "            f\"{int(x)}\"\n",
    "        )\n",
    "    )\n",
    "\n",
    "fig, axes = plt.subplots(3, 1, figsize=(20, 20), constrained_layout=True)\n",
    "\n",
    "# Heatmap 1: Taxi Rides by Hour of the Day and Day of the Week\n",
    "sns.heatmap(\n",
    "    heatmap_hour_day_data,\n",
    "    annot=True,\n",
    "    fmt=\".0f\",\n",
    "    cmap=plt.cm.OrRd,\n",
    "    linewidths=0.5,\n",
    "    cbar_kws={\"label\": \"Total Rides\"},\n",
    "    ax=axes[0]\n",
    ")\n",
    "axes[0].set_title(\"Taxi Rides by Hour of the Day and Day of the Week\", fontsize=14, pad=15)\n",
    "axes[0].set_xlabel(\"Hour of the Day\", fontsize=12)\n",
    "axes[0].set_ylabel(\"Day of the Week\", fontsize=12)\n",
    "axes[0].tick_params(axis='x', rotation=0)\n",
    "axes[0].tick_params(axis='y', rotation=0)\n",
    "axes[0].xaxis.set_label_position('top')\n",
    "axes[0].xaxis.tick_top()\n",
    "\n",
    "# Format text annotations and colorbar for heatmap 1\n",
    "for text in axes[0].texts:\n",
    "    value = int(text.get_text())\n",
    "    if value >= 1_000_000:\n",
    "        text.set_text(f\"{value // 1_000_000}M\")\n",
    "    elif value >= 1_000:\n",
    "        text.set_text(f\"{value // 1_000}K\")\n",
    "    else:\n",
    "        text.set_text(f\"{value}\")\n",
    "format_colorbar(plt.gcf().axes[-1])\n",
    "\n",
    "# Heatmap 2: Taxi Rides by Day of the Week and Month\n",
    "sns.heatmap(\n",
    "    heatmap_day_week_month_data,\n",
    "    annot=True,\n",
    "    fmt=\".0f\",\n",
    "    cmap=plt.cm.OrRd,\n",
    "    linewidths=0.5,\n",
    "    cbar_kws={\"label\": \"Total Rides\"},\n",
    "    ax=axes[1]\n",
    ")\n",
    "axes[1].set_title(\"Taxi Rides by Day of the Week and Month\", fontsize=14, pad=15)\n",
    "axes[1].set_xlabel(\"Day of the Week\", fontsize=12)\n",
    "axes[1].set_ylabel(\"Month\", fontsize=12)\n",
    "axes[1].set_yticks(np.arange(len(heatmap_day_week_month_data.index)) + 0.5)\n",
    "axes[1].set_yticklabels(month_labels, rotation=0)\n",
    "axes[1].xaxis.set_label_position('top')\n",
    "axes[1].xaxis.tick_top()\n",
    "\n",
    "# Format text annotations and colorbar for heatmap 2\n",
    "for text in axes[1].texts:\n",
    "    value = int(text.get_text())\n",
    "    if value >= 1_000_000:\n",
    "        text.set_text(f\"{value // 1_000_000}M\")\n",
    "    elif value >= 1_000:\n",
    "        text.set_text(f\"{value // 1_000}K\")\n",
    "    else:\n",
    "        text.set_text(f\"{value}\")\n",
    "format_colorbar(plt.gcf().axes[-1])\n",
    "\n",
    "# Heatmap 3: Monthly Taxi Rides in Chicago by Year\n",
    "sns.heatmap(\n",
    "    heatmap_month_year_data,\n",
    "    annot=True,\n",
    "    fmt=\".0f\",\n",
    "    cmap=plt.cm.OrRd,\n",
    "    linewidths=0.5,\n",
    "    cbar_kws={\"label\": \"Number of Taxi Rides\"},\n",
    "    ax=axes[2]\n",
    ")\n",
    "axes[2].set_title(\"Monthly Taxi Rides in Chicago by Year\", fontsize=14, pad=15)\n",
    "axes[2].set_xlabel(\"Month\", fontsize=12)\n",
    "axes[2].set_ylabel(\"Year\", fontsize=12)\n",
    "axes[2].set_xticks(np.arange(len(heatmap_data.columns)) + 0.5)\n",
    "axes[2].set_xticklabels(month_labels, rotation=0)\n",
    "axes[2].xaxis.set_label_position('top')\n",
    "axes[2].xaxis.tick_top()\n",
    "\n",
    "# Format text annotations and colorbar for heatmap 3\n",
    "for text in axes[2].texts:\n",
    "    value = int(text.get_text())\n",
    "    if value >= 1_000_000:\n",
    "        text.set_text(f\"{value // 1_000_000}M\")\n",
    "    elif value >= 1_000:\n",
    "        text.set_text(f\"{value // 1_000}K\")\n",
    "    else:\n",
    "        text.set_text(f\"{value}\")\n",
    "format_colorbar(plt.gcf().axes[-1])\n",
    "\n",
    "plt.show()"
   ]
  },
  {
   "cell_type": "markdown",
   "id": "c3220dd8-a5c7-43df-b245-7ad1950b33b2",
   "metadata": {},
   "source": [
    "**Summary:** The heatmaps above shows the number of taxi ride with different datetime scope. The first plot shows taxi rides by time of the day for each day of the week. Thereis a concentration of taxi rides during the work hours on Monday through Friday from 7AM to 7PM, which Friday seeing more rides at night more than other work days which could be attributed to the face that it is the end of a work week. The second plot shows taxi rides by day of the week for each month. Comparing the days in each month, we can see that most rides are concentrated on the work days for every month. July and October seems to see a big surge in taxi rides on weekends. After some research, we found that Chicago hosted several big events in July and October in 2019, including Taste of Chicago, Windy City Smokeout, Pitchfork Music Festival, Bank of America Chicago Marathon, and Open House Chicago, al of which span the weekends. While these events happen every year, some never got back to the same number of participants as before COVID-19, as can be seen from the third plot showing the number of taxi rides by onths for each year from 2018 to 2023.\n",
    "\n",
    "Note: There are unexplanable drops in the number of taxi rides in multiple months of different years. Notably, in May 2019 where there are only 6 rides recorded and in May 2023 where there is 0 taxi ride recorded. We thinks that it is unlikely that there was 0 rides happening in the entire month. It is more likely that there are data-related issues in months where there are fewer than some thousands taxi rides."
   ]
  },
  {
   "cell_type": "markdown",
   "id": "c01f8f0d-bd8b-4910-b280-8576d178e980",
   "metadata": {},
   "source": [
    "## 7. Congestion Analysis <a class=\"anchor\" id=\"7\"></a>\n",
    "---"
   ]
  },
  {
   "cell_type": "code",
   "execution_count": null,
   "id": "4bbb5633-5207-4c79-b5c7-0c940f64f5a9",
   "metadata": {},
   "outputs": [],
   "source": []
  },
  {
   "cell_type": "markdown",
   "id": "953b042c-586f-4353-973f-6595f49e542d",
   "metadata": {},
   "source": [
    "## 8. Machine Learning <a class=\"anchor\" id=\"8\"></a>\n",
    "---"
   ]
  },
  {
   "cell_type": "markdown",
   "id": "8719f0a6-faa4-43bb-ae1c-02deea90f747",
   "metadata": {},
   "source": [
    "## 9. Conclusion, Challenges, and Future Scope (Need fixing) <a class=\"anchor\" id=\"9\"></a>\n",
    "---"
   ]
  },
  {
   "cell_type": "markdown",
   "id": "92c1442d-0e60-4306-af6c-bfd7169d34f6",
   "metadata": {},
   "source": [
    "### 9.1 Conclusion\n",
    "The analysis of Chicago taxi trips reveals distinct trends in taxi usage across various timeframes. A significant disparity emerges in the volume of taxi rides between downtown Chicago, Chicago O’Hare International Airport, and other areas of the city, highlighting potential hotspots for traffic congestion. Demand is consistently high on weekdays throughout Chicago and cross the years, peaking around 5 PM as commuters leave work.\n",
    "\n",
    "[Add more as more EDA are added to the notebook]"
   ]
  },
  {
   "cell_type": "markdown",
   "id": "70c77db4-0ea0-4cc9-bbdc-c694d35d7753",
   "metadata": {},
   "source": [
    "### 9.2 Challenges\n",
    "1. **Data Quality:** Some features of the data contains values that are either unrealistics or unintuitive to what they represent. We make decisions to either drop the rows or impute thevalues keeping in mind the amount of data that may be lost."
   ]
  },
  {
   "cell_type": "markdown",
   "id": "18d12fdb-d7b0-4c1c-9d4d-9b45180c14ae",
   "metadata": {},
   "source": [
    "## Reference\n",
    "### Code Review and Debugging\n",
    "We use ChatGPT to suggest ways to improve our Python code, including optimizing algorithms and resolving potential errors.\n",
    "### Content Generation\n",
    "We used ChatGPT to brainstorm ideas and structure the initial outline of the project. The AI helped us refine our thesis statement and suggested key points to include in each section."
   ]
  },
  {
   "cell_type": "code",
   "execution_count": null,
   "id": "ab6980e9-3adf-4b41-a2e2-90f231b20ca6",
   "metadata": {},
   "outputs": [],
   "source": []
  },
  {
   "cell_type": "code",
   "execution_count": null,
   "id": "38158e80-12bb-475e-b406-a9a403ce9995",
   "metadata": {},
   "outputs": [],
   "source": []
  }
 ],
 "metadata": {
  "kernelspec": {
   "display_name": "PySpark",
   "language": "python",
   "name": "pyspark"
  },
  "language_info": {
   "codemirror_mode": {
    "name": "ipython",
    "version": 3
   },
   "file_extension": ".py",
   "mimetype": "text/x-python",
   "name": "python",
   "nbconvert_exporter": "python",
   "pygments_lexer": "ipython3",
   "version": "3.10.8"
  }
 },
 "nbformat": 4,
 "nbformat_minor": 5
}
